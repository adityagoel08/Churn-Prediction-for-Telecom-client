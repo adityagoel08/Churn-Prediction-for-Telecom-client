{
 "cells": [
  {
   "cell_type": "markdown",
   "metadata": {},
   "source": [
    "## Data Overview\n",
    "The data was downloaded from IBM Sample Data Sets for customer retention programs. The goal of this project is to predict behaviors of churn or not churn to help retain customers. \n",
    "Each row represents a customer, each column contains a customer’s attribute.\n",
    "\n",
    "Customers who left within the last month – the column is called Churn  \n",
    "Services that each customer has signed up for – phone, multiple lines, internet, online security, online backup, device protection, tech support, and streaming TV and movies   \n",
    "Customer account information – how long they’ve been a customer, contract, payment method, paperless billing, monthly charges, and total charges  \n",
    "Demographic info about customers – gender, age range, and if they have partners and dependents  \n",
    "\n",
    "### Loading packages and libraries "
   ]
  },
  {
   "cell_type": "code",
   "execution_count": 74,
   "metadata": {
    "scrolled": true
   },
   "outputs": [
    {
     "name": "stderr",
     "output_type": "stream",
     "text": [
      "also installing the dependency 'ranger'\n",
      "\n"
     ]
    },
    {
     "name": "stdout",
     "output_type": "stream",
     "text": [
      "package 'ranger' successfully unpacked and MD5 sums checked\n",
      "package 'Boruta' successfully unpacked and MD5 sums checked\n",
      "\n",
      "The downloaded binary packages are in\n",
      "\tC:\\Users\\Aditya Goel\\AppData\\Local\\Temp\\Rtmps3Kw1w\\downloaded_packages\n"
     ]
    }
   ],
   "source": [
    "options(warn = -1)\n",
    "\n",
    "# define used libraries\n",
    "libraries_used <- \n",
    "  c(\"lazyeval\", \"readr\",\"plyr\" ,\"dplyr\", \"readxl\", \"ggplot2\", \n",
    "    \"funModeling\", \"scales\", \"tidyverse\", \"corrplot\", \"GGally\", \"caret\",\n",
    "    \"rpart\", \"randomForest\", \"pROC\", \"gbm\", \"choroplethr\", \"choroplethrMaps\",\n",
    "    \"microbenchmark\", \"doParallel\", \"e1071\", \"rms\", \"MASS\", \"e1071\" , \"ROCR\", \"gplots\", \"rpart\", \"ggpubr\",\"rpart.plot\", \"Boruta\")\n",
    "\n",
    "# check missing libraries\n",
    "libraries_missing <- \n",
    "  libraries_used[!(libraries_used %in% installed.packages()[,\"Package\"])]\n",
    "# install missing libraries\n",
    "if(length(libraries_missing)) install.packages(libraries_missing)\n",
    "\n",
    "library(readr)\n",
    "library(ggplot2)\n",
    "library(dplyr)\n",
    "library(tidyr)\n",
    "library(corrplot)\n",
    "library(caret)\n",
    "library(rms)\n",
    "library(MASS)\n",
    "library(e1071)\n",
    "library(ROCR)\n",
    "library(gplots)\n",
    "library(pROC)\n",
    "library(rpart)\n",
    "library(randomForest)\n",
    "library(ggpubr)\n",
    "library(rpart.plot)\n",
    "library(Boruta)"
   ]
  },
  {
   "cell_type": "markdown",
   "metadata": {},
   "source": [
    "### Explore Data"
   ]
  },
  {
   "cell_type": "code",
   "execution_count": 2,
   "metadata": {},
   "outputs": [],
   "source": [
    "setwd(\"D:/Folders/R/Decision Tree\")"
   ]
  },
  {
   "cell_type": "code",
   "execution_count": 3,
   "metadata": {
    "scrolled": true
   },
   "outputs": [
    {
     "data": {
      "text/html": [
       "<table>\n",
       "<thead><tr><th scope=col>customerID</th><th scope=col>gender</th><th scope=col>SeniorCitizen</th><th scope=col>Partner</th><th scope=col>Dependents</th><th scope=col>tenure</th><th scope=col>PhoneService</th><th scope=col>MultipleLines</th><th scope=col>InternetService</th><th scope=col>OnlineSecurity</th><th scope=col>...</th><th scope=col>DeviceProtection</th><th scope=col>TechSupport</th><th scope=col>StreamingTV</th><th scope=col>StreamingMovies</th><th scope=col>Contract</th><th scope=col>PaperlessBilling</th><th scope=col>PaymentMethod</th><th scope=col>MonthlyCharges</th><th scope=col>TotalCharges</th><th scope=col>Churn</th></tr></thead>\n",
       "<tbody>\n",
       "\t<tr><td>7590-VHVEG               </td><td>Female                   </td><td>0                        </td><td>Yes                      </td><td>No                       </td><td> 1                       </td><td>No                       </td><td>No phone service         </td><td>DSL                      </td><td>No                       </td><td>...                      </td><td>No                       </td><td>No                       </td><td>No                       </td><td>No                       </td><td>Month-to-month           </td><td>Yes                      </td><td>Electronic check         </td><td> 29.85                   </td><td>  29.85                  </td><td>No                       </td></tr>\n",
       "\t<tr><td>5575-GNVDE               </td><td>Male                     </td><td>0                        </td><td>No                       </td><td>No                       </td><td>34                       </td><td>Yes                      </td><td>No                       </td><td>DSL                      </td><td>Yes                      </td><td>...                      </td><td>Yes                      </td><td>No                       </td><td>No                       </td><td>No                       </td><td>One year                 </td><td>No                       </td><td>Mailed check             </td><td> 56.95                   </td><td>1889.50                  </td><td>No                       </td></tr>\n",
       "\t<tr><td>3668-QPYBK               </td><td>Male                     </td><td>0                        </td><td>No                       </td><td>No                       </td><td> 2                       </td><td>Yes                      </td><td>No                       </td><td>DSL                      </td><td>Yes                      </td><td>...                      </td><td>No                       </td><td>No                       </td><td>No                       </td><td>No                       </td><td>Month-to-month           </td><td>Yes                      </td><td>Mailed check             </td><td> 53.85                   </td><td> 108.15                  </td><td>Yes                      </td></tr>\n",
       "\t<tr><td>7795-CFOCW               </td><td>Male                     </td><td>0                        </td><td>No                       </td><td>No                       </td><td>45                       </td><td>No                       </td><td>No phone service         </td><td>DSL                      </td><td>Yes                      </td><td>...                      </td><td>Yes                      </td><td>Yes                      </td><td>No                       </td><td>No                       </td><td>One year                 </td><td>No                       </td><td>Bank transfer (automatic)</td><td> 42.30                   </td><td>1840.75                  </td><td>No                       </td></tr>\n",
       "\t<tr><td>9237-HQITU               </td><td>Female                   </td><td>0                        </td><td>No                       </td><td>No                       </td><td> 2                       </td><td>Yes                      </td><td>No                       </td><td>Fiber optic              </td><td>No                       </td><td>...                      </td><td>No                       </td><td>No                       </td><td>No                       </td><td>No                       </td><td>Month-to-month           </td><td>Yes                      </td><td>Electronic check         </td><td> 70.70                   </td><td> 151.65                  </td><td>Yes                      </td></tr>\n",
       "\t<tr><td>9305-CDSKC               </td><td>Female                   </td><td>0                        </td><td>No                       </td><td>No                       </td><td> 8                       </td><td>Yes                      </td><td>Yes                      </td><td>Fiber optic              </td><td>No                       </td><td>...                      </td><td>Yes                      </td><td>No                       </td><td>Yes                      </td><td>Yes                      </td><td>Month-to-month           </td><td>Yes                      </td><td>Electronic check         </td><td> 99.65                   </td><td> 820.50                  </td><td>Yes                      </td></tr>\n",
       "\t<tr><td>1452-KIOVK               </td><td>Male                     </td><td>0                        </td><td>No                       </td><td>Yes                      </td><td>22                       </td><td>Yes                      </td><td>Yes                      </td><td>Fiber optic              </td><td>No                       </td><td>...                      </td><td>No                       </td><td>No                       </td><td>Yes                      </td><td>No                       </td><td>Month-to-month           </td><td>Yes                      </td><td>Credit card (automatic)  </td><td> 89.10                   </td><td>1949.40                  </td><td>No                       </td></tr>\n",
       "\t<tr><td>6713-OKOMC               </td><td>Female                   </td><td>0                        </td><td>No                       </td><td>No                       </td><td>10                       </td><td>No                       </td><td>No phone service         </td><td>DSL                      </td><td>Yes                      </td><td>...                      </td><td>No                       </td><td>No                       </td><td>No                       </td><td>No                       </td><td>Month-to-month           </td><td>No                       </td><td>Mailed check             </td><td> 29.75                   </td><td> 301.90                  </td><td>No                       </td></tr>\n",
       "\t<tr><td>7892-POOKP               </td><td>Female                   </td><td>0                        </td><td>Yes                      </td><td>No                       </td><td>28                       </td><td>Yes                      </td><td>Yes                      </td><td>Fiber optic              </td><td>No                       </td><td>...                      </td><td>Yes                      </td><td>Yes                      </td><td>Yes                      </td><td>Yes                      </td><td>Month-to-month           </td><td>Yes                      </td><td>Electronic check         </td><td>104.80                   </td><td>3046.05                  </td><td>Yes                      </td></tr>\n",
       "\t<tr><td>6388-TABGU               </td><td>Male                     </td><td>0                        </td><td>No                       </td><td>Yes                      </td><td>62                       </td><td>Yes                      </td><td>No                       </td><td>DSL                      </td><td>Yes                      </td><td>...                      </td><td>No                       </td><td>No                       </td><td>No                       </td><td>No                       </td><td>One year                 </td><td>No                       </td><td>Bank transfer (automatic)</td><td> 56.15                   </td><td>3487.95                  </td><td>No                       </td></tr>\n",
       "\t<tr><td>9763-GRSKD               </td><td>Male                     </td><td>0                        </td><td>Yes                      </td><td>Yes                      </td><td>13                       </td><td>Yes                      </td><td>No                       </td><td>DSL                      </td><td>Yes                      </td><td>...                      </td><td>No                       </td><td>No                       </td><td>No                       </td><td>No                       </td><td>Month-to-month           </td><td>Yes                      </td><td>Mailed check             </td><td> 49.95                   </td><td> 587.45                  </td><td>No                       </td></tr>\n",
       "\t<tr><td>7469-LKBCI               </td><td>Male                     </td><td>0                        </td><td>No                       </td><td>No                       </td><td>16                       </td><td>Yes                      </td><td>No                       </td><td>No                       </td><td>No internet service      </td><td>...                      </td><td>No internet service      </td><td>No internet service      </td><td>No internet service      </td><td>No internet service      </td><td>Two year                 </td><td>No                       </td><td>Credit card (automatic)  </td><td> 18.95                   </td><td> 326.80                  </td><td>No                       </td></tr>\n",
       "\t<tr><td>8091-TTVAX               </td><td>Male                     </td><td>0                        </td><td>Yes                      </td><td>No                       </td><td>58                       </td><td>Yes                      </td><td>Yes                      </td><td>Fiber optic              </td><td>No                       </td><td>...                      </td><td>Yes                      </td><td>No                       </td><td>Yes                      </td><td>Yes                      </td><td>One year                 </td><td>No                       </td><td>Credit card (automatic)  </td><td>100.35                   </td><td>5681.10                  </td><td>No                       </td></tr>\n",
       "\t<tr><td>0280-XJGEX               </td><td>Male                     </td><td>0                        </td><td>No                       </td><td>No                       </td><td>49                       </td><td>Yes                      </td><td>Yes                      </td><td>Fiber optic              </td><td>No                       </td><td>...                      </td><td>Yes                      </td><td>No                       </td><td>Yes                      </td><td>Yes                      </td><td>Month-to-month           </td><td>Yes                      </td><td>Bank transfer (automatic)</td><td>103.70                   </td><td>5036.30                  </td><td>Yes                      </td></tr>\n",
       "\t<tr><td>5129-JLPIS               </td><td>Male                     </td><td>0                        </td><td>No                       </td><td>No                       </td><td>25                       </td><td>Yes                      </td><td>No                       </td><td>Fiber optic              </td><td>Yes                      </td><td>...                      </td><td>Yes                      </td><td>Yes                      </td><td>Yes                      </td><td>Yes                      </td><td>Month-to-month           </td><td>Yes                      </td><td>Electronic check         </td><td>105.50                   </td><td>2686.05                  </td><td>No                       </td></tr>\n",
       "\t<tr><td>3655-SNQYZ               </td><td>Female                   </td><td>0                        </td><td>Yes                      </td><td>Yes                      </td><td>69                       </td><td>Yes                      </td><td>Yes                      </td><td>Fiber optic              </td><td>Yes                      </td><td>...                      </td><td>Yes                      </td><td>Yes                      </td><td>Yes                      </td><td>Yes                      </td><td>Two year                 </td><td>No                       </td><td>Credit card (automatic)  </td><td>113.25                   </td><td>7895.15                  </td><td>No                       </td></tr>\n",
       "\t<tr><td>8191-XWSZG               </td><td>Female                   </td><td>0                        </td><td>No                       </td><td>No                       </td><td>52                       </td><td>Yes                      </td><td>No                       </td><td>No                       </td><td>No internet service      </td><td>...                      </td><td>No internet service      </td><td>No internet service      </td><td>No internet service      </td><td>No internet service      </td><td>One year                 </td><td>No                       </td><td>Mailed check             </td><td> 20.65                   </td><td>1022.95                  </td><td>No                       </td></tr>\n",
       "\t<tr><td>9959-WOFKT               </td><td>Male                     </td><td>0                        </td><td>No                       </td><td>Yes                      </td><td>71                       </td><td>Yes                      </td><td>Yes                      </td><td>Fiber optic              </td><td>Yes                      </td><td>...                      </td><td>Yes                      </td><td>No                       </td><td>Yes                      </td><td>Yes                      </td><td>Two year                 </td><td>No                       </td><td>Bank transfer (automatic)</td><td>106.70                   </td><td>7382.25                  </td><td>No                       </td></tr>\n",
       "\t<tr><td>4190-MFLUW               </td><td>Female                   </td><td>0                        </td><td>Yes                      </td><td>Yes                      </td><td>10                       </td><td>Yes                      </td><td>No                       </td><td>DSL                      </td><td>No                       </td><td>...                      </td><td>Yes                      </td><td>Yes                      </td><td>No                       </td><td>No                       </td><td>Month-to-month           </td><td>No                       </td><td>Credit card (automatic)  </td><td> 55.20                   </td><td> 528.35                  </td><td>Yes                      </td></tr>\n",
       "\t<tr><td>4183-MYFRB               </td><td>Female                   </td><td>0                        </td><td>No                       </td><td>No                       </td><td>21                       </td><td>Yes                      </td><td>No                       </td><td>Fiber optic              </td><td>No                       </td><td>...                      </td><td>Yes                      </td><td>No                       </td><td>No                       </td><td>Yes                      </td><td>Month-to-month           </td><td>Yes                      </td><td>Electronic check         </td><td> 90.05                   </td><td>1862.90                  </td><td>No                       </td></tr>\n",
       "\t<tr><td>8779-QRDMV               </td><td>Male                     </td><td>1                        </td><td>No                       </td><td>No                       </td><td> 1                       </td><td>No                       </td><td>No phone service         </td><td>DSL                      </td><td>No                       </td><td>...                      </td><td>Yes                      </td><td>No                       </td><td>No                       </td><td>Yes                      </td><td>Month-to-month           </td><td>Yes                      </td><td>Electronic check         </td><td> 39.65                   </td><td>  39.65                  </td><td>Yes                      </td></tr>\n",
       "\t<tr><td>1680-VDCWW               </td><td>Male                     </td><td>0                        </td><td>Yes                      </td><td>No                       </td><td>12                       </td><td>Yes                      </td><td>No                       </td><td>No                       </td><td>No internet service      </td><td>...                      </td><td>No internet service      </td><td>No internet service      </td><td>No internet service      </td><td>No internet service      </td><td>One year                 </td><td>No                       </td><td>Bank transfer (automatic)</td><td> 19.80                   </td><td> 202.25                  </td><td>No                       </td></tr>\n",
       "\t<tr><td>1066-JKSGK               </td><td>Male                     </td><td>0                        </td><td>No                       </td><td>No                       </td><td> 1                       </td><td>Yes                      </td><td>No                       </td><td>No                       </td><td>No internet service      </td><td>...                      </td><td>No internet service      </td><td>No internet service      </td><td>No internet service      </td><td>No internet service      </td><td>Month-to-month           </td><td>No                       </td><td>Mailed check             </td><td> 20.15                   </td><td>  20.15                  </td><td>Yes                      </td></tr>\n",
       "\t<tr><td>3638-WEABW               </td><td>Female                   </td><td>0                        </td><td>Yes                      </td><td>No                       </td><td>58                       </td><td>Yes                      </td><td>Yes                      </td><td>DSL                      </td><td>No                       </td><td>...                      </td><td>No                       </td><td>Yes                      </td><td>No                       </td><td>No                       </td><td>Two year                 </td><td>Yes                      </td><td>Credit card (automatic)  </td><td> 59.90                   </td><td>3505.10                  </td><td>No                       </td></tr>\n",
       "\t<tr><td>6322-HRPFA               </td><td>Male                     </td><td>0                        </td><td>Yes                      </td><td>Yes                      </td><td>49                       </td><td>Yes                      </td><td>No                       </td><td>DSL                      </td><td>Yes                      </td><td>...                      </td><td>No                       </td><td>Yes                      </td><td>No                       </td><td>No                       </td><td>Month-to-month           </td><td>No                       </td><td>Credit card (automatic)  </td><td> 59.60                   </td><td>2970.30                  </td><td>No                       </td></tr>\n",
       "\t<tr><td>6865-JZNKO               </td><td>Female                   </td><td>0                        </td><td>No                       </td><td>No                       </td><td>30                       </td><td>Yes                      </td><td>No                       </td><td>DSL                      </td><td>Yes                      </td><td>...                      </td><td>No                       </td><td>No                       </td><td>No                       </td><td>No                       </td><td>Month-to-month           </td><td>Yes                      </td><td>Bank transfer (automatic)</td><td> 55.30                   </td><td>1530.60                  </td><td>No                       </td></tr>\n",
       "\t<tr><td>6467-CHFZW               </td><td>Male                     </td><td>0                        </td><td>Yes                      </td><td>Yes                      </td><td>47                       </td><td>Yes                      </td><td>Yes                      </td><td>Fiber optic              </td><td>No                       </td><td>...                      </td><td>No                       </td><td>No                       </td><td>Yes                      </td><td>Yes                      </td><td>Month-to-month           </td><td>Yes                      </td><td>Electronic check         </td><td> 99.35                   </td><td>4749.15                  </td><td>Yes                      </td></tr>\n",
       "\t<tr><td>8665-UTDHZ               </td><td>Male                     </td><td>0                        </td><td>Yes                      </td><td>Yes                      </td><td> 1                       </td><td>No                       </td><td>No phone service         </td><td>DSL                      </td><td>No                       </td><td>...                      </td><td>No                       </td><td>No                       </td><td>No                       </td><td>No                       </td><td>Month-to-month           </td><td>No                       </td><td>Electronic check         </td><td> 30.20                   </td><td>  30.20                  </td><td>Yes                      </td></tr>\n",
       "\t<tr><td>5248-YGIJN               </td><td>Male                     </td><td>0                        </td><td>Yes                      </td><td>No                       </td><td>72                       </td><td>Yes                      </td><td>Yes                      </td><td>DSL                      </td><td>Yes                      </td><td>...                      </td><td>Yes                      </td><td>Yes                      </td><td>Yes                      </td><td>Yes                      </td><td>Two year                 </td><td>Yes                      </td><td>Credit card (automatic)  </td><td> 90.25                   </td><td>6369.45                  </td><td>No                       </td></tr>\n",
       "\t<tr><td>8773-HHUOZ               </td><td>Female                   </td><td>0                        </td><td>No                       </td><td>Yes                      </td><td>17                       </td><td>Yes                      </td><td>No                       </td><td>DSL                      </td><td>No                       </td><td>...                      </td><td>No                       </td><td>No                       </td><td>Yes                      </td><td>Yes                      </td><td>Month-to-month           </td><td>Yes                      </td><td>Mailed check             </td><td> 64.70                   </td><td>1093.10                  </td><td>Yes                      </td></tr>\n",
       "\t<tr><td>...</td><td>...</td><td>...</td><td>...</td><td>...</td><td>...</td><td>...</td><td>...</td><td>...</td><td>...</td><td>   </td><td>...</td><td>...</td><td>...</td><td>...</td><td>...</td><td>...</td><td>...</td><td>...</td><td>...</td><td>...</td></tr>\n",
       "\t<tr><td>1685-BQULA               </td><td>Female                   </td><td>0                        </td><td>No                       </td><td>No                       </td><td>40                       </td><td>Yes                      </td><td>Yes                      </td><td>Fiber optic              </td><td>No                       </td><td>...                      </td><td>Yes                      </td><td>No                       </td><td>Yes                      </td><td>No                       </td><td>Month-to-month           </td><td>Yes                      </td><td>Bank transfer (automatic)</td><td> 93.40                   </td><td>3756.40                  </td><td>No                       </td></tr>\n",
       "\t<tr><td>9053-EJUNL               </td><td>Male                     </td><td>0                        </td><td>No                       </td><td>No                       </td><td>41                       </td><td>Yes                      </td><td>Yes                      </td><td>Fiber optic              </td><td>No                       </td><td>...                      </td><td>No                       </td><td>No                       </td><td>Yes                      </td><td>No                       </td><td>Month-to-month           </td><td>Yes                      </td><td>Electronic check         </td><td> 89.20                   </td><td>3645.75                  </td><td>No                       </td></tr>\n",
       "\t<tr><td>0666-UXTJO               </td><td>Male                     </td><td>1                        </td><td>Yes                      </td><td>No                       </td><td>34                       </td><td>Yes                      </td><td>No                       </td><td>Fiber optic              </td><td>No                       </td><td>...                      </td><td>Yes                      </td><td>No                       </td><td>Yes                      </td><td>No                       </td><td>Month-to-month           </td><td>Yes                      </td><td>Credit card (automatic)  </td><td> 85.20                   </td><td>2874.45                  </td><td>No                       </td></tr>\n",
       "\t<tr><td>1471-GIQKQ               </td><td>Female                   </td><td>0                        </td><td>No                       </td><td>No                       </td><td> 1                       </td><td>Yes                      </td><td>No                       </td><td>DSL                      </td><td>No                       </td><td>...                      </td><td>No                       </td><td>No                       </td><td>No                       </td><td>No                       </td><td>Month-to-month           </td><td>No                       </td><td>Electronic check         </td><td> 49.95                   </td><td>  49.95                  </td><td>No                       </td></tr>\n",
       "\t<tr><td>4807-IZYOZ               </td><td>Female                   </td><td>0                        </td><td>No                       </td><td>No                       </td><td>51                       </td><td>Yes                      </td><td>No                       </td><td>No                       </td><td>No internet service      </td><td>...                      </td><td>No internet service      </td><td>No internet service      </td><td>No internet service      </td><td>No internet service      </td><td>Two year                 </td><td>No                       </td><td>Bank transfer (automatic)</td><td> 20.65                   </td><td>1020.75                  </td><td>No                       </td></tr>\n",
       "\t<tr><td>1122-JWTJW               </td><td>Male                     </td><td>0                        </td><td>Yes                      </td><td>Yes                      </td><td> 1                       </td><td>Yes                      </td><td>No                       </td><td>Fiber optic              </td><td>No                       </td><td>...                      </td><td>No                       </td><td>No                       </td><td>No                       </td><td>No                       </td><td>Month-to-month           </td><td>Yes                      </td><td>Mailed check             </td><td> 70.65                   </td><td>  70.65                  </td><td>Yes                      </td></tr>\n",
       "\t<tr><td>9710-NJERN               </td><td>Female                   </td><td>0                        </td><td>No                       </td><td>No                       </td><td>39                       </td><td>Yes                      </td><td>No                       </td><td>No                       </td><td>No internet service      </td><td>...                      </td><td>No internet service      </td><td>No internet service      </td><td>No internet service      </td><td>No internet service      </td><td>Two year                 </td><td>No                       </td><td>Mailed check             </td><td> 20.15                   </td><td> 826.00                  </td><td>No                       </td></tr>\n",
       "\t<tr><td>9837-FWLCH               </td><td>Male                     </td><td>0                        </td><td>Yes                      </td><td>Yes                      </td><td>12                       </td><td>Yes                      </td><td>No                       </td><td>No                       </td><td>No internet service      </td><td>...                      </td><td>No internet service      </td><td>No internet service      </td><td>No internet service      </td><td>No internet service      </td><td>Month-to-month           </td><td>Yes                      </td><td>Electronic check         </td><td> 19.20                   </td><td> 239.00                  </td><td>No                       </td></tr>\n",
       "\t<tr><td>1699-HPSBG               </td><td>Male                     </td><td>0                        </td><td>No                       </td><td>No                       </td><td>12                       </td><td>Yes                      </td><td>No                       </td><td>DSL                      </td><td>No                       </td><td>...                      </td><td>No                       </td><td>Yes                      </td><td>Yes                      </td><td>No                       </td><td>One year                 </td><td>Yes                      </td><td>Electronic check         </td><td> 59.80                   </td><td> 727.80                  </td><td>Yes                      </td></tr>\n",
       "\t<tr><td>7203-OYKCT               </td><td>Male                     </td><td>0                        </td><td>No                       </td><td>No                       </td><td>72                       </td><td>Yes                      </td><td>Yes                      </td><td>Fiber optic              </td><td>No                       </td><td>...                      </td><td>Yes                      </td><td>No                       </td><td>Yes                      </td><td>Yes                      </td><td>One year                 </td><td>Yes                      </td><td>Electronic check         </td><td>104.95                   </td><td>7544.30                  </td><td>No                       </td></tr>\n",
       "\t<tr><td>1035-IPQPU               </td><td>Female                   </td><td>1                        </td><td>Yes                      </td><td>No                       </td><td>63                       </td><td>Yes                      </td><td>Yes                      </td><td>Fiber optic              </td><td>No                       </td><td>...                      </td><td>Yes                      </td><td>No                       </td><td>Yes                      </td><td>Yes                      </td><td>Month-to-month           </td><td>Yes                      </td><td>Electronic check         </td><td>103.50                   </td><td>6479.40                  </td><td>No                       </td></tr>\n",
       "\t<tr><td>7398-LXGYX               </td><td>Male                     </td><td>0                        </td><td>Yes                      </td><td>No                       </td><td>44                       </td><td>Yes                      </td><td>Yes                      </td><td>Fiber optic              </td><td>Yes                      </td><td>...                      </td><td>Yes                      </td><td>No                       </td><td>No                       </td><td>No                       </td><td>Month-to-month           </td><td>Yes                      </td><td>Credit card (automatic)  </td><td> 84.80                   </td><td>3626.35                  </td><td>No                       </td></tr>\n",
       "\t<tr><td>2823-LKABH               </td><td>Female                   </td><td>0                        </td><td>No                       </td><td>No                       </td><td>18                       </td><td>Yes                      </td><td>Yes                      </td><td>Fiber optic              </td><td>No                       </td><td>...                      </td><td>Yes                      </td><td>Yes                      </td><td>No                       </td><td>Yes                      </td><td>Month-to-month           </td><td>Yes                      </td><td>Bank transfer (automatic)</td><td> 95.05                   </td><td>1679.40                  </td><td>No                       </td></tr>\n",
       "\t<tr><td>8775-CEBBJ               </td><td>Female                   </td><td>0                        </td><td>No                       </td><td>No                       </td><td> 9                       </td><td>Yes                      </td><td>No                       </td><td>DSL                      </td><td>No                       </td><td>...                      </td><td>No                       </td><td>No                       </td><td>No                       </td><td>No                       </td><td>Month-to-month           </td><td>Yes                      </td><td>Bank transfer (automatic)</td><td> 44.20                   </td><td> 403.35                  </td><td>Yes                      </td></tr>\n",
       "\t<tr><td>0550-DCXLH               </td><td>Male                     </td><td>0                        </td><td>No                       </td><td>No                       </td><td>13                       </td><td>Yes                      </td><td>No                       </td><td>DSL                      </td><td>No                       </td><td>...                      </td><td>No                       </td><td>Yes                      </td><td>Yes                      </td><td>Yes                      </td><td>Month-to-month           </td><td>No                       </td><td>Mailed check             </td><td> 73.35                   </td><td> 931.55                  </td><td>No                       </td></tr>\n",
       "\t<tr><td>9281-CEDRU               </td><td>Female                   </td><td>0                        </td><td>Yes                      </td><td>No                       </td><td>68                       </td><td>Yes                      </td><td>No                       </td><td>DSL                      </td><td>No                       </td><td>...                      </td><td>No                       </td><td>Yes                      </td><td>Yes                      </td><td>No                       </td><td>Two year                 </td><td>No                       </td><td>Bank transfer (automatic)</td><td> 64.10                   </td><td>4326.25                  </td><td>No                       </td></tr>\n",
       "\t<tr><td>2235-DWLJU               </td><td>Female                   </td><td>1                        </td><td>No                       </td><td>No                       </td><td> 6                       </td><td>No                       </td><td>No phone service         </td><td>DSL                      </td><td>No                       </td><td>...                      </td><td>No                       </td><td>No                       </td><td>Yes                      </td><td>Yes                      </td><td>Month-to-month           </td><td>Yes                      </td><td>Electronic check         </td><td> 44.40                   </td><td> 263.05                  </td><td>No                       </td></tr>\n",
       "\t<tr><td>0871-OPBXW               </td><td>Female                   </td><td>0                        </td><td>No                       </td><td>No                       </td><td> 2                       </td><td>Yes                      </td><td>No                       </td><td>No                       </td><td>No internet service      </td><td>...                      </td><td>No internet service      </td><td>No internet service      </td><td>No internet service      </td><td>No internet service      </td><td>Month-to-month           </td><td>Yes                      </td><td>Mailed check             </td><td> 20.05                   </td><td>  39.25                  </td><td>No                       </td></tr>\n",
       "\t<tr><td>3605-JISKB               </td><td>Male                     </td><td>1                        </td><td>Yes                      </td><td>No                       </td><td>55                       </td><td>Yes                      </td><td>Yes                      </td><td>DSL                      </td><td>Yes                      </td><td>...                      </td><td>No                       </td><td>No                       </td><td>No                       </td><td>No                       </td><td>One year                 </td><td>No                       </td><td>Credit card (automatic)  </td><td> 60.00                   </td><td>3316.10                  </td><td>No                       </td></tr>\n",
       "\t<tr><td>6894-LFHLY               </td><td>Male                     </td><td>1                        </td><td>No                       </td><td>No                       </td><td> 1                       </td><td>Yes                      </td><td>Yes                      </td><td>Fiber optic              </td><td>No                       </td><td>...                      </td><td>No                       </td><td>No                       </td><td>No                       </td><td>No                       </td><td>Month-to-month           </td><td>Yes                      </td><td>Electronic check         </td><td> 75.75                   </td><td>  75.75                  </td><td>Yes                      </td></tr>\n",
       "\t<tr><td>9767-FFLEM               </td><td>Male                     </td><td>0                        </td><td>No                       </td><td>No                       </td><td>38                       </td><td>Yes                      </td><td>No                       </td><td>Fiber optic              </td><td>No                       </td><td>...                      </td><td>No                       </td><td>No                       </td><td>No                       </td><td>No                       </td><td>Month-to-month           </td><td>Yes                      </td><td>Credit card (automatic)  </td><td> 69.50                   </td><td>2625.25                  </td><td>No                       </td></tr>\n",
       "\t<tr><td>0639-TSIQW               </td><td>Female                   </td><td>0                        </td><td>No                       </td><td>No                       </td><td>67                       </td><td>Yes                      </td><td>Yes                      </td><td>Fiber optic              </td><td>Yes                      </td><td>...                      </td><td>Yes                      </td><td>No                       </td><td>Yes                      </td><td>No                       </td><td>Month-to-month           </td><td>Yes                      </td><td>Credit card (automatic)  </td><td>102.95                   </td><td>6886.25                  </td><td>Yes                      </td></tr>\n",
       "\t<tr><td>8456-QDAVC               </td><td>Male                     </td><td>0                        </td><td>No                       </td><td>No                       </td><td>19                       </td><td>Yes                      </td><td>No                       </td><td>Fiber optic              </td><td>No                       </td><td>...                      </td><td>No                       </td><td>No                       </td><td>Yes                      </td><td>No                       </td><td>Month-to-month           </td><td>Yes                      </td><td>Bank transfer (automatic)</td><td> 78.70                   </td><td>1495.10                  </td><td>No                       </td></tr>\n",
       "\t<tr><td>7750-EYXWZ               </td><td>Female                   </td><td>0                        </td><td>No                       </td><td>No                       </td><td>12                       </td><td>No                       </td><td>No phone service         </td><td>DSL                      </td><td>No                       </td><td>...                      </td><td>Yes                      </td><td>Yes                      </td><td>Yes                      </td><td>Yes                      </td><td>One year                 </td><td>No                       </td><td>Electronic check         </td><td> 60.65                   </td><td> 743.30                  </td><td>No                       </td></tr>\n",
       "\t<tr><td>2569-WGERO               </td><td>Female                   </td><td>0                        </td><td>No                       </td><td>No                       </td><td>72                       </td><td>Yes                      </td><td>No                       </td><td>No                       </td><td>No internet service      </td><td>...                      </td><td>No internet service      </td><td>No internet service      </td><td>No internet service      </td><td>No internet service      </td><td>Two year                 </td><td>Yes                      </td><td>Bank transfer (automatic)</td><td> 21.15                   </td><td>1419.40                  </td><td>No                       </td></tr>\n",
       "\t<tr><td>6840-RESVB               </td><td>Male                     </td><td>0                        </td><td>Yes                      </td><td>Yes                      </td><td>24                       </td><td>Yes                      </td><td>Yes                      </td><td>DSL                      </td><td>Yes                      </td><td>...                      </td><td>Yes                      </td><td>Yes                      </td><td>Yes                      </td><td>Yes                      </td><td>One year                 </td><td>Yes                      </td><td>Mailed check             </td><td> 84.80                   </td><td>1990.50                  </td><td>No                       </td></tr>\n",
       "\t<tr><td>2234-XADUH               </td><td>Female                   </td><td>0                        </td><td>Yes                      </td><td>Yes                      </td><td>72                       </td><td>Yes                      </td><td>Yes                      </td><td>Fiber optic              </td><td>No                       </td><td>...                      </td><td>Yes                      </td><td>No                       </td><td>Yes                      </td><td>Yes                      </td><td>One year                 </td><td>Yes                      </td><td>Credit card (automatic)  </td><td>103.20                   </td><td>7362.90                  </td><td>No                       </td></tr>\n",
       "\t<tr><td>4801-JZAZL               </td><td>Female                   </td><td>0                        </td><td>Yes                      </td><td>Yes                      </td><td>11                       </td><td>No                       </td><td>No phone service         </td><td>DSL                      </td><td>Yes                      </td><td>...                      </td><td>No                       </td><td>No                       </td><td>No                       </td><td>No                       </td><td>Month-to-month           </td><td>Yes                      </td><td>Electronic check         </td><td> 29.60                   </td><td> 346.45                  </td><td>No                       </td></tr>\n",
       "\t<tr><td>8361-LTMKD               </td><td>Male                     </td><td>1                        </td><td>Yes                      </td><td>No                       </td><td> 4                       </td><td>Yes                      </td><td>Yes                      </td><td>Fiber optic              </td><td>No                       </td><td>...                      </td><td>No                       </td><td>No                       </td><td>No                       </td><td>No                       </td><td>Month-to-month           </td><td>Yes                      </td><td>Mailed check             </td><td> 74.40                   </td><td> 306.60                  </td><td>Yes                      </td></tr>\n",
       "\t<tr><td>3186-AJIEK               </td><td>Male                     </td><td>0                        </td><td>No                       </td><td>No                       </td><td>66                       </td><td>Yes                      </td><td>No                       </td><td>Fiber optic              </td><td>Yes                      </td><td>...                      </td><td>Yes                      </td><td>Yes                      </td><td>Yes                      </td><td>Yes                      </td><td>Two year                 </td><td>Yes                      </td><td>Bank transfer (automatic)</td><td>105.65                   </td><td>6844.50                  </td><td>No                       </td></tr>\n",
       "</tbody>\n",
       "</table>\n"
      ],
      "text/latex": [
       "\\begin{tabular}{r|lllllllllllllllllllll}\n",
       " customerID & gender & SeniorCitizen & Partner & Dependents & tenure & PhoneService & MultipleLines & InternetService & OnlineSecurity & ... & DeviceProtection & TechSupport & StreamingTV & StreamingMovies & Contract & PaperlessBilling & PaymentMethod & MonthlyCharges & TotalCharges & Churn\\\\\n",
       "\\hline\n",
       "\t 7590-VHVEG                & Female                    & 0                         & Yes                       & No                        &  1                        & No                        & No phone service          & DSL                       & No                        & ...                       & No                        & No                        & No                        & No                        & Month-to-month            & Yes                       & Electronic check          &  29.85                    &   29.85                   & No                       \\\\\n",
       "\t 5575-GNVDE                & Male                      & 0                         & No                        & No                        & 34                        & Yes                       & No                        & DSL                       & Yes                       & ...                       & Yes                       & No                        & No                        & No                        & One year                  & No                        & Mailed check              &  56.95                    & 1889.50                   & No                       \\\\\n",
       "\t 3668-QPYBK                & Male                      & 0                         & No                        & No                        &  2                        & Yes                       & No                        & DSL                       & Yes                       & ...                       & No                        & No                        & No                        & No                        & Month-to-month            & Yes                       & Mailed check              &  53.85                    &  108.15                   & Yes                      \\\\\n",
       "\t 7795-CFOCW                & Male                      & 0                         & No                        & No                        & 45                        & No                        & No phone service          & DSL                       & Yes                       & ...                       & Yes                       & Yes                       & No                        & No                        & One year                  & No                        & Bank transfer (automatic) &  42.30                    & 1840.75                   & No                       \\\\\n",
       "\t 9237-HQITU                & Female                    & 0                         & No                        & No                        &  2                        & Yes                       & No                        & Fiber optic               & No                        & ...                       & No                        & No                        & No                        & No                        & Month-to-month            & Yes                       & Electronic check          &  70.70                    &  151.65                   & Yes                      \\\\\n",
       "\t 9305-CDSKC                & Female                    & 0                         & No                        & No                        &  8                        & Yes                       & Yes                       & Fiber optic               & No                        & ...                       & Yes                       & No                        & Yes                       & Yes                       & Month-to-month            & Yes                       & Electronic check          &  99.65                    &  820.50                   & Yes                      \\\\\n",
       "\t 1452-KIOVK                & Male                      & 0                         & No                        & Yes                       & 22                        & Yes                       & Yes                       & Fiber optic               & No                        & ...                       & No                        & No                        & Yes                       & No                        & Month-to-month            & Yes                       & Credit card (automatic)   &  89.10                    & 1949.40                   & No                       \\\\\n",
       "\t 6713-OKOMC                & Female                    & 0                         & No                        & No                        & 10                        & No                        & No phone service          & DSL                       & Yes                       & ...                       & No                        & No                        & No                        & No                        & Month-to-month            & No                        & Mailed check              &  29.75                    &  301.90                   & No                       \\\\\n",
       "\t 7892-POOKP                & Female                    & 0                         & Yes                       & No                        & 28                        & Yes                       & Yes                       & Fiber optic               & No                        & ...                       & Yes                       & Yes                       & Yes                       & Yes                       & Month-to-month            & Yes                       & Electronic check          & 104.80                    & 3046.05                   & Yes                      \\\\\n",
       "\t 6388-TABGU                & Male                      & 0                         & No                        & Yes                       & 62                        & Yes                       & No                        & DSL                       & Yes                       & ...                       & No                        & No                        & No                        & No                        & One year                  & No                        & Bank transfer (automatic) &  56.15                    & 3487.95                   & No                       \\\\\n",
       "\t 9763-GRSKD                & Male                      & 0                         & Yes                       & Yes                       & 13                        & Yes                       & No                        & DSL                       & Yes                       & ...                       & No                        & No                        & No                        & No                        & Month-to-month            & Yes                       & Mailed check              &  49.95                    &  587.45                   & No                       \\\\\n",
       "\t 7469-LKBCI                & Male                      & 0                         & No                        & No                        & 16                        & Yes                       & No                        & No                        & No internet service       & ...                       & No internet service       & No internet service       & No internet service       & No internet service       & Two year                  & No                        & Credit card (automatic)   &  18.95                    &  326.80                   & No                       \\\\\n",
       "\t 8091-TTVAX                & Male                      & 0                         & Yes                       & No                        & 58                        & Yes                       & Yes                       & Fiber optic               & No                        & ...                       & Yes                       & No                        & Yes                       & Yes                       & One year                  & No                        & Credit card (automatic)   & 100.35                    & 5681.10                   & No                       \\\\\n",
       "\t 0280-XJGEX                & Male                      & 0                         & No                        & No                        & 49                        & Yes                       & Yes                       & Fiber optic               & No                        & ...                       & Yes                       & No                        & Yes                       & Yes                       & Month-to-month            & Yes                       & Bank transfer (automatic) & 103.70                    & 5036.30                   & Yes                      \\\\\n",
       "\t 5129-JLPIS                & Male                      & 0                         & No                        & No                        & 25                        & Yes                       & No                        & Fiber optic               & Yes                       & ...                       & Yes                       & Yes                       & Yes                       & Yes                       & Month-to-month            & Yes                       & Electronic check          & 105.50                    & 2686.05                   & No                       \\\\\n",
       "\t 3655-SNQYZ                & Female                    & 0                         & Yes                       & Yes                       & 69                        & Yes                       & Yes                       & Fiber optic               & Yes                       & ...                       & Yes                       & Yes                       & Yes                       & Yes                       & Two year                  & No                        & Credit card (automatic)   & 113.25                    & 7895.15                   & No                       \\\\\n",
       "\t 8191-XWSZG                & Female                    & 0                         & No                        & No                        & 52                        & Yes                       & No                        & No                        & No internet service       & ...                       & No internet service       & No internet service       & No internet service       & No internet service       & One year                  & No                        & Mailed check              &  20.65                    & 1022.95                   & No                       \\\\\n",
       "\t 9959-WOFKT                & Male                      & 0                         & No                        & Yes                       & 71                        & Yes                       & Yes                       & Fiber optic               & Yes                       & ...                       & Yes                       & No                        & Yes                       & Yes                       & Two year                  & No                        & Bank transfer (automatic) & 106.70                    & 7382.25                   & No                       \\\\\n",
       "\t 4190-MFLUW                & Female                    & 0                         & Yes                       & Yes                       & 10                        & Yes                       & No                        & DSL                       & No                        & ...                       & Yes                       & Yes                       & No                        & No                        & Month-to-month            & No                        & Credit card (automatic)   &  55.20                    &  528.35                   & Yes                      \\\\\n",
       "\t 4183-MYFRB                & Female                    & 0                         & No                        & No                        & 21                        & Yes                       & No                        & Fiber optic               & No                        & ...                       & Yes                       & No                        & No                        & Yes                       & Month-to-month            & Yes                       & Electronic check          &  90.05                    & 1862.90                   & No                       \\\\\n",
       "\t 8779-QRDMV                & Male                      & 1                         & No                        & No                        &  1                        & No                        & No phone service          & DSL                       & No                        & ...                       & Yes                       & No                        & No                        & Yes                       & Month-to-month            & Yes                       & Electronic check          &  39.65                    &   39.65                   & Yes                      \\\\\n",
       "\t 1680-VDCWW                & Male                      & 0                         & Yes                       & No                        & 12                        & Yes                       & No                        & No                        & No internet service       & ...                       & No internet service       & No internet service       & No internet service       & No internet service       & One year                  & No                        & Bank transfer (automatic) &  19.80                    &  202.25                   & No                       \\\\\n",
       "\t 1066-JKSGK                & Male                      & 0                         & No                        & No                        &  1                        & Yes                       & No                        & No                        & No internet service       & ...                       & No internet service       & No internet service       & No internet service       & No internet service       & Month-to-month            & No                        & Mailed check              &  20.15                    &   20.15                   & Yes                      \\\\\n",
       "\t 3638-WEABW                & Female                    & 0                         & Yes                       & No                        & 58                        & Yes                       & Yes                       & DSL                       & No                        & ...                       & No                        & Yes                       & No                        & No                        & Two year                  & Yes                       & Credit card (automatic)   &  59.90                    & 3505.10                   & No                       \\\\\n",
       "\t 6322-HRPFA                & Male                      & 0                         & Yes                       & Yes                       & 49                        & Yes                       & No                        & DSL                       & Yes                       & ...                       & No                        & Yes                       & No                        & No                        & Month-to-month            & No                        & Credit card (automatic)   &  59.60                    & 2970.30                   & No                       \\\\\n",
       "\t 6865-JZNKO                & Female                    & 0                         & No                        & No                        & 30                        & Yes                       & No                        & DSL                       & Yes                       & ...                       & No                        & No                        & No                        & No                        & Month-to-month            & Yes                       & Bank transfer (automatic) &  55.30                    & 1530.60                   & No                       \\\\\n",
       "\t 6467-CHFZW                & Male                      & 0                         & Yes                       & Yes                       & 47                        & Yes                       & Yes                       & Fiber optic               & No                        & ...                       & No                        & No                        & Yes                       & Yes                       & Month-to-month            & Yes                       & Electronic check          &  99.35                    & 4749.15                   & Yes                      \\\\\n",
       "\t 8665-UTDHZ                & Male                      & 0                         & Yes                       & Yes                       &  1                        & No                        & No phone service          & DSL                       & No                        & ...                       & No                        & No                        & No                        & No                        & Month-to-month            & No                        & Electronic check          &  30.20                    &   30.20                   & Yes                      \\\\\n",
       "\t 5248-YGIJN                & Male                      & 0                         & Yes                       & No                        & 72                        & Yes                       & Yes                       & DSL                       & Yes                       & ...                       & Yes                       & Yes                       & Yes                       & Yes                       & Two year                  & Yes                       & Credit card (automatic)   &  90.25                    & 6369.45                   & No                       \\\\\n",
       "\t 8773-HHUOZ                & Female                    & 0                         & No                        & Yes                       & 17                        & Yes                       & No                        & DSL                       & No                        & ...                       & No                        & No                        & Yes                       & Yes                       & Month-to-month            & Yes                       & Mailed check              &  64.70                    & 1093.10                   & Yes                      \\\\\n",
       "\t ... & ... & ... & ... & ... & ... & ... & ... & ... & ... &     & ... & ... & ... & ... & ... & ... & ... & ... & ... & ...\\\\\n",
       "\t 1685-BQULA                & Female                    & 0                         & No                        & No                        & 40                        & Yes                       & Yes                       & Fiber optic               & No                        & ...                       & Yes                       & No                        & Yes                       & No                        & Month-to-month            & Yes                       & Bank transfer (automatic) &  93.40                    & 3756.40                   & No                       \\\\\n",
       "\t 9053-EJUNL                & Male                      & 0                         & No                        & No                        & 41                        & Yes                       & Yes                       & Fiber optic               & No                        & ...                       & No                        & No                        & Yes                       & No                        & Month-to-month            & Yes                       & Electronic check          &  89.20                    & 3645.75                   & No                       \\\\\n",
       "\t 0666-UXTJO                & Male                      & 1                         & Yes                       & No                        & 34                        & Yes                       & No                        & Fiber optic               & No                        & ...                       & Yes                       & No                        & Yes                       & No                        & Month-to-month            & Yes                       & Credit card (automatic)   &  85.20                    & 2874.45                   & No                       \\\\\n",
       "\t 1471-GIQKQ                & Female                    & 0                         & No                        & No                        &  1                        & Yes                       & No                        & DSL                       & No                        & ...                       & No                        & No                        & No                        & No                        & Month-to-month            & No                        & Electronic check          &  49.95                    &   49.95                   & No                       \\\\\n",
       "\t 4807-IZYOZ                & Female                    & 0                         & No                        & No                        & 51                        & Yes                       & No                        & No                        & No internet service       & ...                       & No internet service       & No internet service       & No internet service       & No internet service       & Two year                  & No                        & Bank transfer (automatic) &  20.65                    & 1020.75                   & No                       \\\\\n",
       "\t 1122-JWTJW                & Male                      & 0                         & Yes                       & Yes                       &  1                        & Yes                       & No                        & Fiber optic               & No                        & ...                       & No                        & No                        & No                        & No                        & Month-to-month            & Yes                       & Mailed check              &  70.65                    &   70.65                   & Yes                      \\\\\n",
       "\t 9710-NJERN                & Female                    & 0                         & No                        & No                        & 39                        & Yes                       & No                        & No                        & No internet service       & ...                       & No internet service       & No internet service       & No internet service       & No internet service       & Two year                  & No                        & Mailed check              &  20.15                    &  826.00                   & No                       \\\\\n",
       "\t 9837-FWLCH                & Male                      & 0                         & Yes                       & Yes                       & 12                        & Yes                       & No                        & No                        & No internet service       & ...                       & No internet service       & No internet service       & No internet service       & No internet service       & Month-to-month            & Yes                       & Electronic check          &  19.20                    &  239.00                   & No                       \\\\\n",
       "\t 1699-HPSBG                & Male                      & 0                         & No                        & No                        & 12                        & Yes                       & No                        & DSL                       & No                        & ...                       & No                        & Yes                       & Yes                       & No                        & One year                  & Yes                       & Electronic check          &  59.80                    &  727.80                   & Yes                      \\\\\n",
       "\t 7203-OYKCT                & Male                      & 0                         & No                        & No                        & 72                        & Yes                       & Yes                       & Fiber optic               & No                        & ...                       & Yes                       & No                        & Yes                       & Yes                       & One year                  & Yes                       & Electronic check          & 104.95                    & 7544.30                   & No                       \\\\\n",
       "\t 1035-IPQPU                & Female                    & 1                         & Yes                       & No                        & 63                        & Yes                       & Yes                       & Fiber optic               & No                        & ...                       & Yes                       & No                        & Yes                       & Yes                       & Month-to-month            & Yes                       & Electronic check          & 103.50                    & 6479.40                   & No                       \\\\\n",
       "\t 7398-LXGYX                & Male                      & 0                         & Yes                       & No                        & 44                        & Yes                       & Yes                       & Fiber optic               & Yes                       & ...                       & Yes                       & No                        & No                        & No                        & Month-to-month            & Yes                       & Credit card (automatic)   &  84.80                    & 3626.35                   & No                       \\\\\n",
       "\t 2823-LKABH                & Female                    & 0                         & No                        & No                        & 18                        & Yes                       & Yes                       & Fiber optic               & No                        & ...                       & Yes                       & Yes                       & No                        & Yes                       & Month-to-month            & Yes                       & Bank transfer (automatic) &  95.05                    & 1679.40                   & No                       \\\\\n",
       "\t 8775-CEBBJ                & Female                    & 0                         & No                        & No                        &  9                        & Yes                       & No                        & DSL                       & No                        & ...                       & No                        & No                        & No                        & No                        & Month-to-month            & Yes                       & Bank transfer (automatic) &  44.20                    &  403.35                   & Yes                      \\\\\n",
       "\t 0550-DCXLH                & Male                      & 0                         & No                        & No                        & 13                        & Yes                       & No                        & DSL                       & No                        & ...                       & No                        & Yes                       & Yes                       & Yes                       & Month-to-month            & No                        & Mailed check              &  73.35                    &  931.55                   & No                       \\\\\n",
       "\t 9281-CEDRU                & Female                    & 0                         & Yes                       & No                        & 68                        & Yes                       & No                        & DSL                       & No                        & ...                       & No                        & Yes                       & Yes                       & No                        & Two year                  & No                        & Bank transfer (automatic) &  64.10                    & 4326.25                   & No                       \\\\\n",
       "\t 2235-DWLJU                & Female                    & 1                         & No                        & No                        &  6                        & No                        & No phone service          & DSL                       & No                        & ...                       & No                        & No                        & Yes                       & Yes                       & Month-to-month            & Yes                       & Electronic check          &  44.40                    &  263.05                   & No                       \\\\\n",
       "\t 0871-OPBXW                & Female                    & 0                         & No                        & No                        &  2                        & Yes                       & No                        & No                        & No internet service       & ...                       & No internet service       & No internet service       & No internet service       & No internet service       & Month-to-month            & Yes                       & Mailed check              &  20.05                    &   39.25                   & No                       \\\\\n",
       "\t 3605-JISKB                & Male                      & 1                         & Yes                       & No                        & 55                        & Yes                       & Yes                       & DSL                       & Yes                       & ...                       & No                        & No                        & No                        & No                        & One year                  & No                        & Credit card (automatic)   &  60.00                    & 3316.10                   & No                       \\\\\n",
       "\t 6894-LFHLY                & Male                      & 1                         & No                        & No                        &  1                        & Yes                       & Yes                       & Fiber optic               & No                        & ...                       & No                        & No                        & No                        & No                        & Month-to-month            & Yes                       & Electronic check          &  75.75                    &   75.75                   & Yes                      \\\\\n",
       "\t 9767-FFLEM                & Male                      & 0                         & No                        & No                        & 38                        & Yes                       & No                        & Fiber optic               & No                        & ...                       & No                        & No                        & No                        & No                        & Month-to-month            & Yes                       & Credit card (automatic)   &  69.50                    & 2625.25                   & No                       \\\\\n",
       "\t 0639-TSIQW                & Female                    & 0                         & No                        & No                        & 67                        & Yes                       & Yes                       & Fiber optic               & Yes                       & ...                       & Yes                       & No                        & Yes                       & No                        & Month-to-month            & Yes                       & Credit card (automatic)   & 102.95                    & 6886.25                   & Yes                      \\\\\n",
       "\t 8456-QDAVC                & Male                      & 0                         & No                        & No                        & 19                        & Yes                       & No                        & Fiber optic               & No                        & ...                       & No                        & No                        & Yes                       & No                        & Month-to-month            & Yes                       & Bank transfer (automatic) &  78.70                    & 1495.10                   & No                       \\\\\n",
       "\t 7750-EYXWZ                & Female                    & 0                         & No                        & No                        & 12                        & No                        & No phone service          & DSL                       & No                        & ...                       & Yes                       & Yes                       & Yes                       & Yes                       & One year                  & No                        & Electronic check          &  60.65                    &  743.30                   & No                       \\\\\n",
       "\t 2569-WGERO                & Female                    & 0                         & No                        & No                        & 72                        & Yes                       & No                        & No                        & No internet service       & ...                       & No internet service       & No internet service       & No internet service       & No internet service       & Two year                  & Yes                       & Bank transfer (automatic) &  21.15                    & 1419.40                   & No                       \\\\\n",
       "\t 6840-RESVB                & Male                      & 0                         & Yes                       & Yes                       & 24                        & Yes                       & Yes                       & DSL                       & Yes                       & ...                       & Yes                       & Yes                       & Yes                       & Yes                       & One year                  & Yes                       & Mailed check              &  84.80                    & 1990.50                   & No                       \\\\\n",
       "\t 2234-XADUH                & Female                    & 0                         & Yes                       & Yes                       & 72                        & Yes                       & Yes                       & Fiber optic               & No                        & ...                       & Yes                       & No                        & Yes                       & Yes                       & One year                  & Yes                       & Credit card (automatic)   & 103.20                    & 7362.90                   & No                       \\\\\n",
       "\t 4801-JZAZL                & Female                    & 0                         & Yes                       & Yes                       & 11                        & No                        & No phone service          & DSL                       & Yes                       & ...                       & No                        & No                        & No                        & No                        & Month-to-month            & Yes                       & Electronic check          &  29.60                    &  346.45                   & No                       \\\\\n",
       "\t 8361-LTMKD                & Male                      & 1                         & Yes                       & No                        &  4                        & Yes                       & Yes                       & Fiber optic               & No                        & ...                       & No                        & No                        & No                        & No                        & Month-to-month            & Yes                       & Mailed check              &  74.40                    &  306.60                   & Yes                      \\\\\n",
       "\t 3186-AJIEK                & Male                      & 0                         & No                        & No                        & 66                        & Yes                       & No                        & Fiber optic               & Yes                       & ...                       & Yes                       & Yes                       & Yes                       & Yes                       & Two year                  & Yes                       & Bank transfer (automatic) & 105.65                    & 6844.50                   & No                       \\\\\n",
       "\\end{tabular}\n"
      ],
      "text/markdown": [
       "\n",
       "| customerID | gender | SeniorCitizen | Partner | Dependents | tenure | PhoneService | MultipleLines | InternetService | OnlineSecurity | ... | DeviceProtection | TechSupport | StreamingTV | StreamingMovies | Contract | PaperlessBilling | PaymentMethod | MonthlyCharges | TotalCharges | Churn |\n",
       "|---|---|---|---|---|---|---|---|---|---|---|---|---|---|---|---|---|---|---|---|---|\n",
       "| 7590-VHVEG                | Female                    | 0                         | Yes                       | No                        |  1                        | No                        | No phone service          | DSL                       | No                        | ...                       | No                        | No                        | No                        | No                        | Month-to-month            | Yes                       | Electronic check          |  29.85                    |   29.85                   | No                        |\n",
       "| 5575-GNVDE                | Male                      | 0                         | No                        | No                        | 34                        | Yes                       | No                        | DSL                       | Yes                       | ...                       | Yes                       | No                        | No                        | No                        | One year                  | No                        | Mailed check              |  56.95                    | 1889.50                   | No                        |\n",
       "| 3668-QPYBK                | Male                      | 0                         | No                        | No                        |  2                        | Yes                       | No                        | DSL                       | Yes                       | ...                       | No                        | No                        | No                        | No                        | Month-to-month            | Yes                       | Mailed check              |  53.85                    |  108.15                   | Yes                       |\n",
       "| 7795-CFOCW                | Male                      | 0                         | No                        | No                        | 45                        | No                        | No phone service          | DSL                       | Yes                       | ...                       | Yes                       | Yes                       | No                        | No                        | One year                  | No                        | Bank transfer (automatic) |  42.30                    | 1840.75                   | No                        |\n",
       "| 9237-HQITU                | Female                    | 0                         | No                        | No                        |  2                        | Yes                       | No                        | Fiber optic               | No                        | ...                       | No                        | No                        | No                        | No                        | Month-to-month            | Yes                       | Electronic check          |  70.70                    |  151.65                   | Yes                       |\n",
       "| 9305-CDSKC                | Female                    | 0                         | No                        | No                        |  8                        | Yes                       | Yes                       | Fiber optic               | No                        | ...                       | Yes                       | No                        | Yes                       | Yes                       | Month-to-month            | Yes                       | Electronic check          |  99.65                    |  820.50                   | Yes                       |\n",
       "| 1452-KIOVK                | Male                      | 0                         | No                        | Yes                       | 22                        | Yes                       | Yes                       | Fiber optic               | No                        | ...                       | No                        | No                        | Yes                       | No                        | Month-to-month            | Yes                       | Credit card (automatic)   |  89.10                    | 1949.40                   | No                        |\n",
       "| 6713-OKOMC                | Female                    | 0                         | No                        | No                        | 10                        | No                        | No phone service          | DSL                       | Yes                       | ...                       | No                        | No                        | No                        | No                        | Month-to-month            | No                        | Mailed check              |  29.75                    |  301.90                   | No                        |\n",
       "| 7892-POOKP                | Female                    | 0                         | Yes                       | No                        | 28                        | Yes                       | Yes                       | Fiber optic               | No                        | ...                       | Yes                       | Yes                       | Yes                       | Yes                       | Month-to-month            | Yes                       | Electronic check          | 104.80                    | 3046.05                   | Yes                       |\n",
       "| 6388-TABGU                | Male                      | 0                         | No                        | Yes                       | 62                        | Yes                       | No                        | DSL                       | Yes                       | ...                       | No                        | No                        | No                        | No                        | One year                  | No                        | Bank transfer (automatic) |  56.15                    | 3487.95                   | No                        |\n",
       "| 9763-GRSKD                | Male                      | 0                         | Yes                       | Yes                       | 13                        | Yes                       | No                        | DSL                       | Yes                       | ...                       | No                        | No                        | No                        | No                        | Month-to-month            | Yes                       | Mailed check              |  49.95                    |  587.45                   | No                        |\n",
       "| 7469-LKBCI                | Male                      | 0                         | No                        | No                        | 16                        | Yes                       | No                        | No                        | No internet service       | ...                       | No internet service       | No internet service       | No internet service       | No internet service       | Two year                  | No                        | Credit card (automatic)   |  18.95                    |  326.80                   | No                        |\n",
       "| 8091-TTVAX                | Male                      | 0                         | Yes                       | No                        | 58                        | Yes                       | Yes                       | Fiber optic               | No                        | ...                       | Yes                       | No                        | Yes                       | Yes                       | One year                  | No                        | Credit card (automatic)   | 100.35                    | 5681.10                   | No                        |\n",
       "| 0280-XJGEX                | Male                      | 0                         | No                        | No                        | 49                        | Yes                       | Yes                       | Fiber optic               | No                        | ...                       | Yes                       | No                        | Yes                       | Yes                       | Month-to-month            | Yes                       | Bank transfer (automatic) | 103.70                    | 5036.30                   | Yes                       |\n",
       "| 5129-JLPIS                | Male                      | 0                         | No                        | No                        | 25                        | Yes                       | No                        | Fiber optic               | Yes                       | ...                       | Yes                       | Yes                       | Yes                       | Yes                       | Month-to-month            | Yes                       | Electronic check          | 105.50                    | 2686.05                   | No                        |\n",
       "| 3655-SNQYZ                | Female                    | 0                         | Yes                       | Yes                       | 69                        | Yes                       | Yes                       | Fiber optic               | Yes                       | ...                       | Yes                       | Yes                       | Yes                       | Yes                       | Two year                  | No                        | Credit card (automatic)   | 113.25                    | 7895.15                   | No                        |\n",
       "| 8191-XWSZG                | Female                    | 0                         | No                        | No                        | 52                        | Yes                       | No                        | No                        | No internet service       | ...                       | No internet service       | No internet service       | No internet service       | No internet service       | One year                  | No                        | Mailed check              |  20.65                    | 1022.95                   | No                        |\n",
       "| 9959-WOFKT                | Male                      | 0                         | No                        | Yes                       | 71                        | Yes                       | Yes                       | Fiber optic               | Yes                       | ...                       | Yes                       | No                        | Yes                       | Yes                       | Two year                  | No                        | Bank transfer (automatic) | 106.70                    | 7382.25                   | No                        |\n",
       "| 4190-MFLUW                | Female                    | 0                         | Yes                       | Yes                       | 10                        | Yes                       | No                        | DSL                       | No                        | ...                       | Yes                       | Yes                       | No                        | No                        | Month-to-month            | No                        | Credit card (automatic)   |  55.20                    |  528.35                   | Yes                       |\n",
       "| 4183-MYFRB                | Female                    | 0                         | No                        | No                        | 21                        | Yes                       | No                        | Fiber optic               | No                        | ...                       | Yes                       | No                        | No                        | Yes                       | Month-to-month            | Yes                       | Electronic check          |  90.05                    | 1862.90                   | No                        |\n",
       "| 8779-QRDMV                | Male                      | 1                         | No                        | No                        |  1                        | No                        | No phone service          | DSL                       | No                        | ...                       | Yes                       | No                        | No                        | Yes                       | Month-to-month            | Yes                       | Electronic check          |  39.65                    |   39.65                   | Yes                       |\n",
       "| 1680-VDCWW                | Male                      | 0                         | Yes                       | No                        | 12                        | Yes                       | No                        | No                        | No internet service       | ...                       | No internet service       | No internet service       | No internet service       | No internet service       | One year                  | No                        | Bank transfer (automatic) |  19.80                    |  202.25                   | No                        |\n",
       "| 1066-JKSGK                | Male                      | 0                         | No                        | No                        |  1                        | Yes                       | No                        | No                        | No internet service       | ...                       | No internet service       | No internet service       | No internet service       | No internet service       | Month-to-month            | No                        | Mailed check              |  20.15                    |   20.15                   | Yes                       |\n",
       "| 3638-WEABW                | Female                    | 0                         | Yes                       | No                        | 58                        | Yes                       | Yes                       | DSL                       | No                        | ...                       | No                        | Yes                       | No                        | No                        | Two year                  | Yes                       | Credit card (automatic)   |  59.90                    | 3505.10                   | No                        |\n",
       "| 6322-HRPFA                | Male                      | 0                         | Yes                       | Yes                       | 49                        | Yes                       | No                        | DSL                       | Yes                       | ...                       | No                        | Yes                       | No                        | No                        | Month-to-month            | No                        | Credit card (automatic)   |  59.60                    | 2970.30                   | No                        |\n",
       "| 6865-JZNKO                | Female                    | 0                         | No                        | No                        | 30                        | Yes                       | No                        | DSL                       | Yes                       | ...                       | No                        | No                        | No                        | No                        | Month-to-month            | Yes                       | Bank transfer (automatic) |  55.30                    | 1530.60                   | No                        |\n",
       "| 6467-CHFZW                | Male                      | 0                         | Yes                       | Yes                       | 47                        | Yes                       | Yes                       | Fiber optic               | No                        | ...                       | No                        | No                        | Yes                       | Yes                       | Month-to-month            | Yes                       | Electronic check          |  99.35                    | 4749.15                   | Yes                       |\n",
       "| 8665-UTDHZ                | Male                      | 0                         | Yes                       | Yes                       |  1                        | No                        | No phone service          | DSL                       | No                        | ...                       | No                        | No                        | No                        | No                        | Month-to-month            | No                        | Electronic check          |  30.20                    |   30.20                   | Yes                       |\n",
       "| 5248-YGIJN                | Male                      | 0                         | Yes                       | No                        | 72                        | Yes                       | Yes                       | DSL                       | Yes                       | ...                       | Yes                       | Yes                       | Yes                       | Yes                       | Two year                  | Yes                       | Credit card (automatic)   |  90.25                    | 6369.45                   | No                        |\n",
       "| 8773-HHUOZ                | Female                    | 0                         | No                        | Yes                       | 17                        | Yes                       | No                        | DSL                       | No                        | ...                       | No                        | No                        | Yes                       | Yes                       | Month-to-month            | Yes                       | Mailed check              |  64.70                    | 1093.10                   | Yes                       |\n",
       "| ... | ... | ... | ... | ... | ... | ... | ... | ... | ... |     | ... | ... | ... | ... | ... | ... | ... | ... | ... | ... |\n",
       "| 1685-BQULA                | Female                    | 0                         | No                        | No                        | 40                        | Yes                       | Yes                       | Fiber optic               | No                        | ...                       | Yes                       | No                        | Yes                       | No                        | Month-to-month            | Yes                       | Bank transfer (automatic) |  93.40                    | 3756.40                   | No                        |\n",
       "| 9053-EJUNL                | Male                      | 0                         | No                        | No                        | 41                        | Yes                       | Yes                       | Fiber optic               | No                        | ...                       | No                        | No                        | Yes                       | No                        | Month-to-month            | Yes                       | Electronic check          |  89.20                    | 3645.75                   | No                        |\n",
       "| 0666-UXTJO                | Male                      | 1                         | Yes                       | No                        | 34                        | Yes                       | No                        | Fiber optic               | No                        | ...                       | Yes                       | No                        | Yes                       | No                        | Month-to-month            | Yes                       | Credit card (automatic)   |  85.20                    | 2874.45                   | No                        |\n",
       "| 1471-GIQKQ                | Female                    | 0                         | No                        | No                        |  1                        | Yes                       | No                        | DSL                       | No                        | ...                       | No                        | No                        | No                        | No                        | Month-to-month            | No                        | Electronic check          |  49.95                    |   49.95                   | No                        |\n",
       "| 4807-IZYOZ                | Female                    | 0                         | No                        | No                        | 51                        | Yes                       | No                        | No                        | No internet service       | ...                       | No internet service       | No internet service       | No internet service       | No internet service       | Two year                  | No                        | Bank transfer (automatic) |  20.65                    | 1020.75                   | No                        |\n",
       "| 1122-JWTJW                | Male                      | 0                         | Yes                       | Yes                       |  1                        | Yes                       | No                        | Fiber optic               | No                        | ...                       | No                        | No                        | No                        | No                        | Month-to-month            | Yes                       | Mailed check              |  70.65                    |   70.65                   | Yes                       |\n",
       "| 9710-NJERN                | Female                    | 0                         | No                        | No                        | 39                        | Yes                       | No                        | No                        | No internet service       | ...                       | No internet service       | No internet service       | No internet service       | No internet service       | Two year                  | No                        | Mailed check              |  20.15                    |  826.00                   | No                        |\n",
       "| 9837-FWLCH                | Male                      | 0                         | Yes                       | Yes                       | 12                        | Yes                       | No                        | No                        | No internet service       | ...                       | No internet service       | No internet service       | No internet service       | No internet service       | Month-to-month            | Yes                       | Electronic check          |  19.20                    |  239.00                   | No                        |\n",
       "| 1699-HPSBG                | Male                      | 0                         | No                        | No                        | 12                        | Yes                       | No                        | DSL                       | No                        | ...                       | No                        | Yes                       | Yes                       | No                        | One year                  | Yes                       | Electronic check          |  59.80                    |  727.80                   | Yes                       |\n",
       "| 7203-OYKCT                | Male                      | 0                         | No                        | No                        | 72                        | Yes                       | Yes                       | Fiber optic               | No                        | ...                       | Yes                       | No                        | Yes                       | Yes                       | One year                  | Yes                       | Electronic check          | 104.95                    | 7544.30                   | No                        |\n",
       "| 1035-IPQPU                | Female                    | 1                         | Yes                       | No                        | 63                        | Yes                       | Yes                       | Fiber optic               | No                        | ...                       | Yes                       | No                        | Yes                       | Yes                       | Month-to-month            | Yes                       | Electronic check          | 103.50                    | 6479.40                   | No                        |\n",
       "| 7398-LXGYX                | Male                      | 0                         | Yes                       | No                        | 44                        | Yes                       | Yes                       | Fiber optic               | Yes                       | ...                       | Yes                       | No                        | No                        | No                        | Month-to-month            | Yes                       | Credit card (automatic)   |  84.80                    | 3626.35                   | No                        |\n",
       "| 2823-LKABH                | Female                    | 0                         | No                        | No                        | 18                        | Yes                       | Yes                       | Fiber optic               | No                        | ...                       | Yes                       | Yes                       | No                        | Yes                       | Month-to-month            | Yes                       | Bank transfer (automatic) |  95.05                    | 1679.40                   | No                        |\n",
       "| 8775-CEBBJ                | Female                    | 0                         | No                        | No                        |  9                        | Yes                       | No                        | DSL                       | No                        | ...                       | No                        | No                        | No                        | No                        | Month-to-month            | Yes                       | Bank transfer (automatic) |  44.20                    |  403.35                   | Yes                       |\n",
       "| 0550-DCXLH                | Male                      | 0                         | No                        | No                        | 13                        | Yes                       | No                        | DSL                       | No                        | ...                       | No                        | Yes                       | Yes                       | Yes                       | Month-to-month            | No                        | Mailed check              |  73.35                    |  931.55                   | No                        |\n",
       "| 9281-CEDRU                | Female                    | 0                         | Yes                       | No                        | 68                        | Yes                       | No                        | DSL                       | No                        | ...                       | No                        | Yes                       | Yes                       | No                        | Two year                  | No                        | Bank transfer (automatic) |  64.10                    | 4326.25                   | No                        |\n",
       "| 2235-DWLJU                | Female                    | 1                         | No                        | No                        |  6                        | No                        | No phone service          | DSL                       | No                        | ...                       | No                        | No                        | Yes                       | Yes                       | Month-to-month            | Yes                       | Electronic check          |  44.40                    |  263.05                   | No                        |\n",
       "| 0871-OPBXW                | Female                    | 0                         | No                        | No                        |  2                        | Yes                       | No                        | No                        | No internet service       | ...                       | No internet service       | No internet service       | No internet service       | No internet service       | Month-to-month            | Yes                       | Mailed check              |  20.05                    |   39.25                   | No                        |\n",
       "| 3605-JISKB                | Male                      | 1                         | Yes                       | No                        | 55                        | Yes                       | Yes                       | DSL                       | Yes                       | ...                       | No                        | No                        | No                        | No                        | One year                  | No                        | Credit card (automatic)   |  60.00                    | 3316.10                   | No                        |\n",
       "| 6894-LFHLY                | Male                      | 1                         | No                        | No                        |  1                        | Yes                       | Yes                       | Fiber optic               | No                        | ...                       | No                        | No                        | No                        | No                        | Month-to-month            | Yes                       | Electronic check          |  75.75                    |   75.75                   | Yes                       |\n",
       "| 9767-FFLEM                | Male                      | 0                         | No                        | No                        | 38                        | Yes                       | No                        | Fiber optic               | No                        | ...                       | No                        | No                        | No                        | No                        | Month-to-month            | Yes                       | Credit card (automatic)   |  69.50                    | 2625.25                   | No                        |\n",
       "| 0639-TSIQW                | Female                    | 0                         | No                        | No                        | 67                        | Yes                       | Yes                       | Fiber optic               | Yes                       | ...                       | Yes                       | No                        | Yes                       | No                        | Month-to-month            | Yes                       | Credit card (automatic)   | 102.95                    | 6886.25                   | Yes                       |\n",
       "| 8456-QDAVC                | Male                      | 0                         | No                        | No                        | 19                        | Yes                       | No                        | Fiber optic               | No                        | ...                       | No                        | No                        | Yes                       | No                        | Month-to-month            | Yes                       | Bank transfer (automatic) |  78.70                    | 1495.10                   | No                        |\n",
       "| 7750-EYXWZ                | Female                    | 0                         | No                        | No                        | 12                        | No                        | No phone service          | DSL                       | No                        | ...                       | Yes                       | Yes                       | Yes                       | Yes                       | One year                  | No                        | Electronic check          |  60.65                    |  743.30                   | No                        |\n",
       "| 2569-WGERO                | Female                    | 0                         | No                        | No                        | 72                        | Yes                       | No                        | No                        | No internet service       | ...                       | No internet service       | No internet service       | No internet service       | No internet service       | Two year                  | Yes                       | Bank transfer (automatic) |  21.15                    | 1419.40                   | No                        |\n",
       "| 6840-RESVB                | Male                      | 0                         | Yes                       | Yes                       | 24                        | Yes                       | Yes                       | DSL                       | Yes                       | ...                       | Yes                       | Yes                       | Yes                       | Yes                       | One year                  | Yes                       | Mailed check              |  84.80                    | 1990.50                   | No                        |\n",
       "| 2234-XADUH                | Female                    | 0                         | Yes                       | Yes                       | 72                        | Yes                       | Yes                       | Fiber optic               | No                        | ...                       | Yes                       | No                        | Yes                       | Yes                       | One year                  | Yes                       | Credit card (automatic)   | 103.20                    | 7362.90                   | No                        |\n",
       "| 4801-JZAZL                | Female                    | 0                         | Yes                       | Yes                       | 11                        | No                        | No phone service          | DSL                       | Yes                       | ...                       | No                        | No                        | No                        | No                        | Month-to-month            | Yes                       | Electronic check          |  29.60                    |  346.45                   | No                        |\n",
       "| 8361-LTMKD                | Male                      | 1                         | Yes                       | No                        |  4                        | Yes                       | Yes                       | Fiber optic               | No                        | ...                       | No                        | No                        | No                        | No                        | Month-to-month            | Yes                       | Mailed check              |  74.40                    |  306.60                   | Yes                       |\n",
       "| 3186-AJIEK                | Male                      | 0                         | No                        | No                        | 66                        | Yes                       | No                        | Fiber optic               | Yes                       | ...                       | Yes                       | Yes                       | Yes                       | Yes                       | Two year                  | Yes                       | Bank transfer (automatic) | 105.65                    | 6844.50                   | No                        |\n",
       "\n"
      ],
      "text/plain": [
       "     customerID gender SeniorCitizen Partner Dependents tenure PhoneService\n",
       "1    7590-VHVEG Female 0             Yes     No          1     No          \n",
       "2    5575-GNVDE Male   0             No      No         34     Yes         \n",
       "3    3668-QPYBK Male   0             No      No          2     Yes         \n",
       "4    7795-CFOCW Male   0             No      No         45     No          \n",
       "5    9237-HQITU Female 0             No      No          2     Yes         \n",
       "6    9305-CDSKC Female 0             No      No          8     Yes         \n",
       "7    1452-KIOVK Male   0             No      Yes        22     Yes         \n",
       "8    6713-OKOMC Female 0             No      No         10     No          \n",
       "9    7892-POOKP Female 0             Yes     No         28     Yes         \n",
       "10   6388-TABGU Male   0             No      Yes        62     Yes         \n",
       "11   9763-GRSKD Male   0             Yes     Yes        13     Yes         \n",
       "12   7469-LKBCI Male   0             No      No         16     Yes         \n",
       "13   8091-TTVAX Male   0             Yes     No         58     Yes         \n",
       "14   0280-XJGEX Male   0             No      No         49     Yes         \n",
       "15   5129-JLPIS Male   0             No      No         25     Yes         \n",
       "16   3655-SNQYZ Female 0             Yes     Yes        69     Yes         \n",
       "17   8191-XWSZG Female 0             No      No         52     Yes         \n",
       "18   9959-WOFKT Male   0             No      Yes        71     Yes         \n",
       "19   4190-MFLUW Female 0             Yes     Yes        10     Yes         \n",
       "20   4183-MYFRB Female 0             No      No         21     Yes         \n",
       "21   8779-QRDMV Male   1             No      No          1     No          \n",
       "22   1680-VDCWW Male   0             Yes     No         12     Yes         \n",
       "23   1066-JKSGK Male   0             No      No          1     Yes         \n",
       "24   3638-WEABW Female 0             Yes     No         58     Yes         \n",
       "25   6322-HRPFA Male   0             Yes     Yes        49     Yes         \n",
       "26   6865-JZNKO Female 0             No      No         30     Yes         \n",
       "27   6467-CHFZW Male   0             Yes     Yes        47     Yes         \n",
       "28   8665-UTDHZ Male   0             Yes     Yes         1     No          \n",
       "29   5248-YGIJN Male   0             Yes     No         72     Yes         \n",
       "30   8773-HHUOZ Female 0             No      Yes        17     Yes         \n",
       "...  ...        ...    ...           ...     ...        ...    ...         \n",
       "7014 1685-BQULA Female 0             No      No         40     Yes         \n",
       "7015 9053-EJUNL Male   0             No      No         41     Yes         \n",
       "7016 0666-UXTJO Male   1             Yes     No         34     Yes         \n",
       "7017 1471-GIQKQ Female 0             No      No          1     Yes         \n",
       "7018 4807-IZYOZ Female 0             No      No         51     Yes         \n",
       "7019 1122-JWTJW Male   0             Yes     Yes         1     Yes         \n",
       "7020 9710-NJERN Female 0             No      No         39     Yes         \n",
       "7021 9837-FWLCH Male   0             Yes     Yes        12     Yes         \n",
       "7022 1699-HPSBG Male   0             No      No         12     Yes         \n",
       "7023 7203-OYKCT Male   0             No      No         72     Yes         \n",
       "7024 1035-IPQPU Female 1             Yes     No         63     Yes         \n",
       "7025 7398-LXGYX Male   0             Yes     No         44     Yes         \n",
       "7026 2823-LKABH Female 0             No      No         18     Yes         \n",
       "7027 8775-CEBBJ Female 0             No      No          9     Yes         \n",
       "7028 0550-DCXLH Male   0             No      No         13     Yes         \n",
       "7029 9281-CEDRU Female 0             Yes     No         68     Yes         \n",
       "7030 2235-DWLJU Female 1             No      No          6     No          \n",
       "7031 0871-OPBXW Female 0             No      No          2     Yes         \n",
       "7032 3605-JISKB Male   1             Yes     No         55     Yes         \n",
       "7033 6894-LFHLY Male   1             No      No          1     Yes         \n",
       "7034 9767-FFLEM Male   0             No      No         38     Yes         \n",
       "7035 0639-TSIQW Female 0             No      No         67     Yes         \n",
       "7036 8456-QDAVC Male   0             No      No         19     Yes         \n",
       "7037 7750-EYXWZ Female 0             No      No         12     No          \n",
       "7038 2569-WGERO Female 0             No      No         72     Yes         \n",
       "7039 6840-RESVB Male   0             Yes     Yes        24     Yes         \n",
       "7040 2234-XADUH Female 0             Yes     Yes        72     Yes         \n",
       "7041 4801-JZAZL Female 0             Yes     Yes        11     No          \n",
       "7042 8361-LTMKD Male   1             Yes     No          4     Yes         \n",
       "7043 3186-AJIEK Male   0             No      No         66     Yes         \n",
       "     MultipleLines    InternetService OnlineSecurity      ...\n",
       "1    No phone service DSL             No                  ...\n",
       "2    No               DSL             Yes                 ...\n",
       "3    No               DSL             Yes                 ...\n",
       "4    No phone service DSL             Yes                 ...\n",
       "5    No               Fiber optic     No                  ...\n",
       "6    Yes              Fiber optic     No                  ...\n",
       "7    Yes              Fiber optic     No                  ...\n",
       "8    No phone service DSL             Yes                 ...\n",
       "9    Yes              Fiber optic     No                  ...\n",
       "10   No               DSL             Yes                 ...\n",
       "11   No               DSL             Yes                 ...\n",
       "12   No               No              No internet service ...\n",
       "13   Yes              Fiber optic     No                  ...\n",
       "14   Yes              Fiber optic     No                  ...\n",
       "15   No               Fiber optic     Yes                 ...\n",
       "16   Yes              Fiber optic     Yes                 ...\n",
       "17   No               No              No internet service ...\n",
       "18   Yes              Fiber optic     Yes                 ...\n",
       "19   No               DSL             No                  ...\n",
       "20   No               Fiber optic     No                  ...\n",
       "21   No phone service DSL             No                  ...\n",
       "22   No               No              No internet service ...\n",
       "23   No               No              No internet service ...\n",
       "24   Yes              DSL             No                  ...\n",
       "25   No               DSL             Yes                 ...\n",
       "26   No               DSL             Yes                 ...\n",
       "27   Yes              Fiber optic     No                  ...\n",
       "28   No phone service DSL             No                  ...\n",
       "29   Yes              DSL             Yes                 ...\n",
       "30   No               DSL             No                  ...\n",
       "...  ...              ...             ...                    \n",
       "7014 Yes              Fiber optic     No                  ...\n",
       "7015 Yes              Fiber optic     No                  ...\n",
       "7016 No               Fiber optic     No                  ...\n",
       "7017 No               DSL             No                  ...\n",
       "7018 No               No              No internet service ...\n",
       "7019 No               Fiber optic     No                  ...\n",
       "7020 No               No              No internet service ...\n",
       "7021 No               No              No internet service ...\n",
       "7022 No               DSL             No                  ...\n",
       "7023 Yes              Fiber optic     No                  ...\n",
       "7024 Yes              Fiber optic     No                  ...\n",
       "7025 Yes              Fiber optic     Yes                 ...\n",
       "7026 Yes              Fiber optic     No                  ...\n",
       "7027 No               DSL             No                  ...\n",
       "7028 No               DSL             No                  ...\n",
       "7029 No               DSL             No                  ...\n",
       "7030 No phone service DSL             No                  ...\n",
       "7031 No               No              No internet service ...\n",
       "7032 Yes              DSL             Yes                 ...\n",
       "7033 Yes              Fiber optic     No                  ...\n",
       "7034 No               Fiber optic     No                  ...\n",
       "7035 Yes              Fiber optic     Yes                 ...\n",
       "7036 No               Fiber optic     No                  ...\n",
       "7037 No phone service DSL             No                  ...\n",
       "7038 No               No              No internet service ...\n",
       "7039 Yes              DSL             Yes                 ...\n",
       "7040 Yes              Fiber optic     No                  ...\n",
       "7041 No phone service DSL             Yes                 ...\n",
       "7042 Yes              Fiber optic     No                  ...\n",
       "7043 No               Fiber optic     Yes                 ...\n",
       "     DeviceProtection    TechSupport         StreamingTV        \n",
       "1    No                  No                  No                 \n",
       "2    Yes                 No                  No                 \n",
       "3    No                  No                  No                 \n",
       "4    Yes                 Yes                 No                 \n",
       "5    No                  No                  No                 \n",
       "6    Yes                 No                  Yes                \n",
       "7    No                  No                  Yes                \n",
       "8    No                  No                  No                 \n",
       "9    Yes                 Yes                 Yes                \n",
       "10   No                  No                  No                 \n",
       "11   No                  No                  No                 \n",
       "12   No internet service No internet service No internet service\n",
       "13   Yes                 No                  Yes                \n",
       "14   Yes                 No                  Yes                \n",
       "15   Yes                 Yes                 Yes                \n",
       "16   Yes                 Yes                 Yes                \n",
       "17   No internet service No internet service No internet service\n",
       "18   Yes                 No                  Yes                \n",
       "19   Yes                 Yes                 No                 \n",
       "20   Yes                 No                  No                 \n",
       "21   Yes                 No                  No                 \n",
       "22   No internet service No internet service No internet service\n",
       "23   No internet service No internet service No internet service\n",
       "24   No                  Yes                 No                 \n",
       "25   No                  Yes                 No                 \n",
       "26   No                  No                  No                 \n",
       "27   No                  No                  Yes                \n",
       "28   No                  No                  No                 \n",
       "29   Yes                 Yes                 Yes                \n",
       "30   No                  No                  Yes                \n",
       "...  ...                 ...                 ...                \n",
       "7014 Yes                 No                  Yes                \n",
       "7015 No                  No                  Yes                \n",
       "7016 Yes                 No                  Yes                \n",
       "7017 No                  No                  No                 \n",
       "7018 No internet service No internet service No internet service\n",
       "7019 No                  No                  No                 \n",
       "7020 No internet service No internet service No internet service\n",
       "7021 No internet service No internet service No internet service\n",
       "7022 No                  Yes                 Yes                \n",
       "7023 Yes                 No                  Yes                \n",
       "7024 Yes                 No                  Yes                \n",
       "7025 Yes                 No                  No                 \n",
       "7026 Yes                 Yes                 No                 \n",
       "7027 No                  No                  No                 \n",
       "7028 No                  Yes                 Yes                \n",
       "7029 No                  Yes                 Yes                \n",
       "7030 No                  No                  Yes                \n",
       "7031 No internet service No internet service No internet service\n",
       "7032 No                  No                  No                 \n",
       "7033 No                  No                  No                 \n",
       "7034 No                  No                  No                 \n",
       "7035 Yes                 No                  Yes                \n",
       "7036 No                  No                  Yes                \n",
       "7037 Yes                 Yes                 Yes                \n",
       "7038 No internet service No internet service No internet service\n",
       "7039 Yes                 Yes                 Yes                \n",
       "7040 Yes                 No                  Yes                \n",
       "7041 No                  No                  No                 \n",
       "7042 No                  No                  No                 \n",
       "7043 Yes                 Yes                 Yes                \n",
       "     StreamingMovies     Contract       PaperlessBilling\n",
       "1    No                  Month-to-month Yes             \n",
       "2    No                  One year       No              \n",
       "3    No                  Month-to-month Yes             \n",
       "4    No                  One year       No              \n",
       "5    No                  Month-to-month Yes             \n",
       "6    Yes                 Month-to-month Yes             \n",
       "7    No                  Month-to-month Yes             \n",
       "8    No                  Month-to-month No              \n",
       "9    Yes                 Month-to-month Yes             \n",
       "10   No                  One year       No              \n",
       "11   No                  Month-to-month Yes             \n",
       "12   No internet service Two year       No              \n",
       "13   Yes                 One year       No              \n",
       "14   Yes                 Month-to-month Yes             \n",
       "15   Yes                 Month-to-month Yes             \n",
       "16   Yes                 Two year       No              \n",
       "17   No internet service One year       No              \n",
       "18   Yes                 Two year       No              \n",
       "19   No                  Month-to-month No              \n",
       "20   Yes                 Month-to-month Yes             \n",
       "21   Yes                 Month-to-month Yes             \n",
       "22   No internet service One year       No              \n",
       "23   No internet service Month-to-month No              \n",
       "24   No                  Two year       Yes             \n",
       "25   No                  Month-to-month No              \n",
       "26   No                  Month-to-month Yes             \n",
       "27   Yes                 Month-to-month Yes             \n",
       "28   No                  Month-to-month No              \n",
       "29   Yes                 Two year       Yes             \n",
       "30   Yes                 Month-to-month Yes             \n",
       "...  ...                 ...            ...             \n",
       "7014 No                  Month-to-month Yes             \n",
       "7015 No                  Month-to-month Yes             \n",
       "7016 No                  Month-to-month Yes             \n",
       "7017 No                  Month-to-month No              \n",
       "7018 No internet service Two year       No              \n",
       "7019 No                  Month-to-month Yes             \n",
       "7020 No internet service Two year       No              \n",
       "7021 No internet service Month-to-month Yes             \n",
       "7022 No                  One year       Yes             \n",
       "7023 Yes                 One year       Yes             \n",
       "7024 Yes                 Month-to-month Yes             \n",
       "7025 No                  Month-to-month Yes             \n",
       "7026 Yes                 Month-to-month Yes             \n",
       "7027 No                  Month-to-month Yes             \n",
       "7028 Yes                 Month-to-month No              \n",
       "7029 No                  Two year       No              \n",
       "7030 Yes                 Month-to-month Yes             \n",
       "7031 No internet service Month-to-month Yes             \n",
       "7032 No                  One year       No              \n",
       "7033 No                  Month-to-month Yes             \n",
       "7034 No                  Month-to-month Yes             \n",
       "7035 No                  Month-to-month Yes             \n",
       "7036 No                  Month-to-month Yes             \n",
       "7037 Yes                 One year       No              \n",
       "7038 No internet service Two year       Yes             \n",
       "7039 Yes                 One year       Yes             \n",
       "7040 Yes                 One year       Yes             \n",
       "7041 No                  Month-to-month Yes             \n",
       "7042 No                  Month-to-month Yes             \n",
       "7043 Yes                 Two year       Yes             \n",
       "     PaymentMethod             MonthlyCharges TotalCharges Churn\n",
       "1    Electronic check           29.85           29.85      No   \n",
       "2    Mailed check               56.95         1889.50      No   \n",
       "3    Mailed check               53.85          108.15      Yes  \n",
       "4    Bank transfer (automatic)  42.30         1840.75      No   \n",
       "5    Electronic check           70.70          151.65      Yes  \n",
       "6    Electronic check           99.65          820.50      Yes  \n",
       "7    Credit card (automatic)    89.10         1949.40      No   \n",
       "8    Mailed check               29.75          301.90      No   \n",
       "9    Electronic check          104.80         3046.05      Yes  \n",
       "10   Bank transfer (automatic)  56.15         3487.95      No   \n",
       "11   Mailed check               49.95          587.45      No   \n",
       "12   Credit card (automatic)    18.95          326.80      No   \n",
       "13   Credit card (automatic)   100.35         5681.10      No   \n",
       "14   Bank transfer (automatic) 103.70         5036.30      Yes  \n",
       "15   Electronic check          105.50         2686.05      No   \n",
       "16   Credit card (automatic)   113.25         7895.15      No   \n",
       "17   Mailed check               20.65         1022.95      No   \n",
       "18   Bank transfer (automatic) 106.70         7382.25      No   \n",
       "19   Credit card (automatic)    55.20          528.35      Yes  \n",
       "20   Electronic check           90.05         1862.90      No   \n",
       "21   Electronic check           39.65           39.65      Yes  \n",
       "22   Bank transfer (automatic)  19.80          202.25      No   \n",
       "23   Mailed check               20.15           20.15      Yes  \n",
       "24   Credit card (automatic)    59.90         3505.10      No   \n",
       "25   Credit card (automatic)    59.60         2970.30      No   \n",
       "26   Bank transfer (automatic)  55.30         1530.60      No   \n",
       "27   Electronic check           99.35         4749.15      Yes  \n",
       "28   Electronic check           30.20           30.20      Yes  \n",
       "29   Credit card (automatic)    90.25         6369.45      No   \n",
       "30   Mailed check               64.70         1093.10      Yes  \n",
       "...  ...                       ...            ...          ...  \n",
       "7014 Bank transfer (automatic)  93.40         3756.40      No   \n",
       "7015 Electronic check           89.20         3645.75      No   \n",
       "7016 Credit card (automatic)    85.20         2874.45      No   \n",
       "7017 Electronic check           49.95           49.95      No   \n",
       "7018 Bank transfer (automatic)  20.65         1020.75      No   \n",
       "7019 Mailed check               70.65           70.65      Yes  \n",
       "7020 Mailed check               20.15          826.00      No   \n",
       "7021 Electronic check           19.20          239.00      No   \n",
       "7022 Electronic check           59.80          727.80      Yes  \n",
       "7023 Electronic check          104.95         7544.30      No   \n",
       "7024 Electronic check          103.50         6479.40      No   \n",
       "7025 Credit card (automatic)    84.80         3626.35      No   \n",
       "7026 Bank transfer (automatic)  95.05         1679.40      No   \n",
       "7027 Bank transfer (automatic)  44.20          403.35      Yes  \n",
       "7028 Mailed check               73.35          931.55      No   \n",
       "7029 Bank transfer (automatic)  64.10         4326.25      No   \n",
       "7030 Electronic check           44.40          263.05      No   \n",
       "7031 Mailed check               20.05           39.25      No   \n",
       "7032 Credit card (automatic)    60.00         3316.10      No   \n",
       "7033 Electronic check           75.75           75.75      Yes  \n",
       "7034 Credit card (automatic)    69.50         2625.25      No   \n",
       "7035 Credit card (automatic)   102.95         6886.25      Yes  \n",
       "7036 Bank transfer (automatic)  78.70         1495.10      No   \n",
       "7037 Electronic check           60.65          743.30      No   \n",
       "7038 Bank transfer (automatic)  21.15         1419.40      No   \n",
       "7039 Mailed check               84.80         1990.50      No   \n",
       "7040 Credit card (automatic)   103.20         7362.90      No   \n",
       "7041 Electronic check           29.60          346.45      No   \n",
       "7042 Mailed check               74.40          306.60      Yes  \n",
       "7043 Bank transfer (automatic) 105.65         6844.50      No   "
      ]
     },
     "metadata": {},
     "output_type": "display_data"
    }
   ],
   "source": [
    "telco <- read.csv(\"Telco client.csv\", na = \"\", stringsAsFactors =FALSE)\n",
    "telco\n",
    "telco <- data.frame(telco)"
   ]
  },
  {
   "cell_type": "code",
   "execution_count": 4,
   "metadata": {
    "scrolled": true
   },
   "outputs": [
    {
     "name": "stdout",
     "output_type": "stream",
     "text": [
      "'data.frame':\t7043 obs. of  21 variables:\n",
      " $ customerID      : chr  \"7590-VHVEG\" \"5575-GNVDE\" \"3668-QPYBK\" \"7795-CFOCW\" ...\n",
      " $ gender          : chr  \"Female\" \"Male\" \"Male\" \"Male\" ...\n",
      " $ SeniorCitizen   : int  0 0 0 0 0 0 0 0 0 0 ...\n",
      " $ Partner         : chr  \"Yes\" \"No\" \"No\" \"No\" ...\n",
      " $ Dependents      : chr  \"No\" \"No\" \"No\" \"No\" ...\n",
      " $ tenure          : int  1 34 2 45 2 8 22 10 28 62 ...\n",
      " $ PhoneService    : chr  \"No\" \"Yes\" \"Yes\" \"No\" ...\n",
      " $ MultipleLines   : chr  \"No phone service\" \"No\" \"No\" \"No phone service\" ...\n",
      " $ InternetService : chr  \"DSL\" \"DSL\" \"DSL\" \"DSL\" ...\n",
      " $ OnlineSecurity  : chr  \"No\" \"Yes\" \"Yes\" \"Yes\" ...\n",
      " $ OnlineBackup    : chr  \"Yes\" \"No\" \"Yes\" \"No\" ...\n",
      " $ DeviceProtection: chr  \"No\" \"Yes\" \"No\" \"Yes\" ...\n",
      " $ TechSupport     : chr  \"No\" \"No\" \"No\" \"Yes\" ...\n",
      " $ StreamingTV     : chr  \"No\" \"No\" \"No\" \"No\" ...\n",
      " $ StreamingMovies : chr  \"No\" \"No\" \"No\" \"No\" ...\n",
      " $ Contract        : chr  \"Month-to-month\" \"One year\" \"Month-to-month\" \"One year\" ...\n",
      " $ PaperlessBilling: chr  \"Yes\" \"No\" \"Yes\" \"No\" ...\n",
      " $ PaymentMethod   : chr  \"Electronic check\" \"Mailed check\" \"Mailed check\" \"Bank transfer (automatic)\" ...\n",
      " $ MonthlyCharges  : num  29.9 57 53.9 42.3 70.7 ...\n",
      " $ TotalCharges    : num  29.9 1889.5 108.2 1840.8 151.7 ...\n",
      " $ Churn           : chr  \"No\" \"No\" \"Yes\" \"No\" ...\n"
     ]
    },
    {
     "data": {
      "text/plain": [
       "  customerID           gender          SeniorCitizen      Partner         \n",
       " Length:7043        Length:7043        Min.   :0.0000   Length:7043       \n",
       " Class :character   Class :character   1st Qu.:0.0000   Class :character  \n",
       " Mode  :character   Mode  :character   Median :0.0000   Mode  :character  \n",
       "                                       Mean   :0.1621                     \n",
       "                                       3rd Qu.:0.0000                     \n",
       "                                       Max.   :1.0000                     \n",
       "                                                                          \n",
       "  Dependents            tenure      PhoneService       MultipleLines     \n",
       " Length:7043        Min.   : 0.00   Length:7043        Length:7043       \n",
       " Class :character   1st Qu.: 9.00   Class :character   Class :character  \n",
       " Mode  :character   Median :29.00   Mode  :character   Mode  :character  \n",
       "                    Mean   :32.37                                        \n",
       "                    3rd Qu.:55.00                                        \n",
       "                    Max.   :72.00                                        \n",
       "                                                                         \n",
       " InternetService    OnlineSecurity     OnlineBackup       DeviceProtection  \n",
       " Length:7043        Length:7043        Length:7043        Length:7043       \n",
       " Class :character   Class :character   Class :character   Class :character  \n",
       " Mode  :character   Mode  :character   Mode  :character   Mode  :character  \n",
       "                                                                            \n",
       "                                                                            \n",
       "                                                                            \n",
       "                                                                            \n",
       " TechSupport        StreamingTV        StreamingMovies      Contract        \n",
       " Length:7043        Length:7043        Length:7043        Length:7043       \n",
       " Class :character   Class :character   Class :character   Class :character  \n",
       " Mode  :character   Mode  :character   Mode  :character   Mode  :character  \n",
       "                                                                            \n",
       "                                                                            \n",
       "                                                                            \n",
       "                                                                            \n",
       " PaperlessBilling   PaymentMethod      MonthlyCharges    TotalCharges   \n",
       " Length:7043        Length:7043        Min.   : 18.25   Min.   :  18.8  \n",
       " Class :character   Class :character   1st Qu.: 35.50   1st Qu.: 401.4  \n",
       " Mode  :character   Mode  :character   Median : 70.35   Median :1397.5  \n",
       "                                       Mean   : 64.76   Mean   :2283.3  \n",
       "                                       3rd Qu.: 89.85   3rd Qu.:3794.7  \n",
       "                                       Max.   :118.75   Max.   :8684.8  \n",
       "                                                        NA's   :11      \n",
       "    Churn          \n",
       " Length:7043       \n",
       " Class :character  \n",
       " Mode  :character  \n",
       "                   \n",
       "                   \n",
       "                   \n",
       "                   "
      ]
     },
     "metadata": {},
     "output_type": "display_data"
    }
   ],
   "source": [
    "str(telco)\n",
    "summary(telco)"
   ]
  },
  {
   "cell_type": "markdown",
   "metadata": {},
   "source": [
    "#### Missing Value Treatment\n",
    "Based on the summary, there are 11 missing values in the TotalCharges column, which account for only 0.16% of the total \n",
    "number of observations. So I remove those 11 rows with missing values. "
   ]
  },
  {
   "cell_type": "code",
   "execution_count": 5,
   "metadata": {},
   "outputs": [],
   "source": [
    "telco <- telco[complete.cases(telco),] "
   ]
  },
  {
   "cell_type": "markdown",
   "metadata": {},
   "source": [
    "\n",
    "#### Continuous Variables\n",
    "For continuous variables, let's check for distributions."
   ]
  },
  {
   "cell_type": "code",
   "execution_count": 6,
   "metadata": {
    "scrolled": false
   },
   "outputs": [
    {
     "data": {
      "image/png": "[encoded data removed]",
      "text/plain": [
       "plot without title"
      ]
     },
     "metadata": {},
     "output_type": "display_data"
    }
   ],
   "source": [
    "ggplot(data = telco, aes(MonthlyCharges, color = Churn))+\n",
    "  geom_freqpoly(binwidth = 5, size = 1)"
   ]
  },
  {
   "cell_type": "markdown",
   "metadata": {},
   "source": [
    "\n",
    "The number of current customers with MonthlyCharges below 25 dollars is extremly high. For the customers with Monthlycharges greater than $30, \n",
    "the distributions are similar between who churned and who did not churn."
   ]
  },
  {
   "cell_type": "code",
   "execution_count": 7,
   "metadata": {
    "scrolled": true
   },
   "outputs": [
    {
     "data": {
      "image/png": "[encoded data removed]",
      "text/plain": [
       "plot without title"
      ]
     },
     "metadata": {},
     "output_type": "display_data"
    }
   ],
   "source": [
    "ggplot(data = telco, aes(TotalCharges, color = Churn))+\n",
    "  geom_freqpoly(binwidth = 200, size = 1)"
   ]
  },
  {
   "cell_type": "markdown",
   "metadata": {},
   "source": [
    "The distribution of TotalCharges is highly positive skew for all customers no matter whether they churned or not. "
   ]
  },
  {
   "cell_type": "code",
   "execution_count": 8,
   "metadata": {},
   "outputs": [
    {
     "data": {
      "image/png": "[encoded data removed]",
      "text/plain": [
       "plot without title"
      ]
     },
     "metadata": {},
     "output_type": "display_data"
    }
   ],
   "source": [
    "ggplot(data = telco, aes(tenure, colour = Churn))+\n",
    "  geom_freqpoly(binwidth = 5, size = 1)"
   ]
  },
  {
   "cell_type": "markdown",
   "metadata": {},
   "source": [
    "\n",
    "The distributions for tenure are very different between customers who churned and who didn't churn. For customers\n",
    "who churned, the distribution is positve skew, which means customers who churned are more likely to cancel the service \n",
    "in the first couple of months. For current customers who didn't churn, there are two spikes. The second spike is much more\n",
    "drastic than the first one, which means a large group of current customers have been using the service more than 5 years.\n",
    "\n",
    "No obvious outliers for 3 numeric variables. Then let's check for correlations."
   ]
  },
  {
   "cell_type": "code",
   "execution_count": 9,
   "metadata": {},
   "outputs": [
    {
     "data": {
      "image/png": "[encoded data removed]",
      "text/plain": [
       "Plot with title \"\""
      ]
     },
     "metadata": {},
     "output_type": "display_data"
    }
   ],
   "source": [
    "telco %>%\n",
    "  dplyr::select (TotalCharges, MonthlyCharges, tenure) %>%\n",
    "  cor() %>%\n",
    "  corrplot.mixed(upper = \"circle\", tl.col = \"black\", number.cex = 0.7)"
   ]
  },
  {
   "cell_type": "markdown",
   "metadata": {},
   "source": [
    "\n",
    "\n",
    "The plot shows high correlations between Totalcharges & tenure and between TotalCharges & MonthlyCharges. \n",
    "Pay attention to these variables while training models later. Multicollinearity does not \n",
    "reduce the predictive power or reliability of the model as a whole, at least within the sample data set. \n",
    "But it affects calculations regarding individual predictors.\n",
    "\n",
    "The tenure represents time period in months. To better find patterns with time, I change it to a factor with 5 \n",
    "levels, with each level represents a bin of tenure in years. "
   ]
  },
  {
   "cell_type": "code",
   "execution_count": 10,
   "metadata": {},
   "outputs": [
    {
     "data": {
      "text/plain": [
       "\n",
       " 0-1 year 1-2 years 2-3 years 3-4 years 4-5 years 5-6 years \n",
       "     2175      1024       832       762       832      1407 "
      ]
     },
     "metadata": {},
     "output_type": "display_data"
    }
   ],
   "source": [
    "telco <- telco %>%\n",
    "  mutate(tenure_year = case_when(tenure <= 12 ~ \"0-1 year\",\n",
    "                                 tenure > 12 & tenure <= 24 ~ \"1-2 years\",\n",
    "                                 tenure > 24 & tenure <= 36 ~ \"2-3 years\",\n",
    "                                 tenure > 36 & tenure <= 48 ~ \"3-4 years\",\n",
    "                                 tenure > 48 & tenure <= 60 ~ \"4-5 years\",\n",
    "                                 tenure > 60 & tenure <= 72 ~ \"5-6 years\"))\n",
    "telco$tenure <-NULL\n",
    "table(telco$tenure_year)"
   ]
  },
  {
   "cell_type": "markdown",
   "metadata": {},
   "source": [
    "#### Categorical Variables\n",
    "I found that there is a column called Phone Service. And in the MultipleLines, some rows have the value of \"No Phone Service\".\n",
    "Are they related?"
   ]
  },
  {
   "cell_type": "code",
   "execution_count": 11,
   "metadata": {},
   "outputs": [
    {
     "data": {
      "text/plain": [
       "            MultipleLines\n",
       "PhoneService   No No phone service  Yes\n",
       "         No     0              680    0\n",
       "         Yes 3385                0 2967"
      ]
     },
     "metadata": {},
     "output_type": "display_data"
    }
   ],
   "source": [
    "table(telco[, c(\"PhoneService\",\"MultipleLines\")])\n"
   ]
  },
  {
   "cell_type": "markdown",
   "metadata": {},
   "source": [
    "\n",
    "When the value of Phone Service is \"No\", the value of Multiplelines shows \"No Phone Service.\" The\"No Phone Service\" \n",
    "value in the Multiplelines column actually does not have any predicting power. \n",
    "\n",
    "The same problem appeared between Internet Service and Online Security, OnlineBackup, DeviceProtection, TechSupport, \n",
    "StreamingTV and StreamingMovies. When the value of Internet Service is \"No\", the values of the following 6 columns show \"No Internet Service.\"\n"
   ]
  },
  {
   "cell_type": "code",
   "execution_count": 12,
   "metadata": {},
   "outputs": [
    {
     "data": {
      "text/plain": [
       "               OnlineSecurity\n",
       "InternetService   No No internet service  Yes\n",
       "    DSL         1240                   0 1176\n",
       "    Fiber optic 2257                   0  839\n",
       "    No             0                1520    0"
      ]
     },
     "metadata": {},
     "output_type": "display_data"
    },
    {
     "data": {
      "text/plain": [
       "               OnlineBackup\n",
       "InternetService   No No internet service  Yes\n",
       "    DSL         1334                   0 1082\n",
       "    Fiber optic 1753                   0 1343\n",
       "    No             0                1520    0"
      ]
     },
     "metadata": {},
     "output_type": "display_data"
    },
    {
     "data": {
      "text/plain": [
       "               DeviceProtection\n",
       "InternetService   No No internet service  Yes\n",
       "    DSL         1355                   0 1061\n",
       "    Fiber optic 1739                   0 1357\n",
       "    No             0                1520    0"
      ]
     },
     "metadata": {},
     "output_type": "display_data"
    },
    {
     "data": {
      "text/plain": [
       "               TechSupport\n",
       "InternetService   No No internet service  Yes\n",
       "    DSL         1242                   0 1174\n",
       "    Fiber optic 2230                   0  866\n",
       "    No             0                1520    0"
      ]
     },
     "metadata": {},
     "output_type": "display_data"
    },
    {
     "data": {
      "text/plain": [
       "               StreamingTV\n",
       "InternetService   No No internet service  Yes\n",
       "    DSL         1463                   0  953\n",
       "    Fiber optic 1346                   0 1750\n",
       "    No             0                1520    0"
      ]
     },
     "metadata": {},
     "output_type": "display_data"
    },
    {
     "data": {
      "text/plain": [
       "               StreamingMovies\n",
       "InternetService   No No internet service  Yes\n",
       "    DSL         1436                   0  980\n",
       "    Fiber optic 1345                   0 1751\n",
       "    No             0                1520    0"
      ]
     },
     "metadata": {},
     "output_type": "display_data"
    }
   ],
   "source": [
    "table(telco[, c(\"InternetService\", \"OnlineSecurity\")])\n",
    "table(telco[, c(\"InternetService\", \"OnlineBackup\")])\n",
    "table(telco[, c(\"InternetService\", \"DeviceProtection\")])\n",
    "table(telco[, c(\"InternetService\", \"TechSupport\")])\n",
    "table(telco[, c(\"InternetService\", \"StreamingTV\")])\n",
    "table(telco[, c(\"InternetService\", \"StreamingMovies\")])"
   ]
  },
  {
   "cell_type": "markdown",
   "metadata": {},
   "source": [
    "I will address this problem later in the data preparation. Now I will check the distributions of churn by the levels of yes or no \n",
    "for the above 7 variables. I will remove the rows with \"No phone service\" and \"No internet service\" in the plot.  \n"
   ]
  },
  {
   "cell_type": "code",
   "execution_count": 13,
   "metadata": {},
   "outputs": [],
   "source": [
    "categorical <- telco %>%\n",
    "  mutate(SeniorCitizen = ifelse(SeniorCitizen == 0, \"No\", \"Yes\")) \n",
    "\n",
    "categorical <- categorical %>%\n",
    "  dplyr::select(gender:Dependents, PhoneService:PaymentMethod, Churn) \n",
    "\n",
    "c2 <- categorical %>%\n",
    "  dplyr::select(MultipleLines, OnlineSecurity:StreamingMovies, Churn) %>%\n",
    "  filter(MultipleLines != \"No phone service\" &\n",
    "           OnlineSecurity != \"No internet service\")\n",
    "           \n",
    "c3 <- gather(c2, columns, value, -Churn)\n"
   ]
  },
  {
   "cell_type": "code",
   "execution_count": 14,
   "metadata": {},
   "outputs": [
    {
     "data": {
      "image/png": "[encoded data removed]",
      "text/plain": [
       "plot without title"
      ]
     },
     "metadata": {},
     "output_type": "display_data"
    }
   ],
   "source": [
    "ggplot(c3)+\n",
    "  geom_bar(aes(x = value, fill = Churn), position = \"fill\", stat = \"count\")+\n",
    "  facet_wrap(~columns)+ \n",
    "  xlab(\"Attributes\")"
   ]
  },
  {
   "cell_type": "markdown",
   "metadata": {},
   "source": [
    "\n",
    "The customers who subscribe the service of DeviceProtection, OnlineBackup, OnlineSecurity and TechSupport have lower \n",
    "churn rate compared to the customers who don't. However, the churn rates do not have big difference between customers \n",
    "who have the service of MultipleLines, StreamingMovies and StreamingTV or not. "
   ]
  },
  {
   "cell_type": "code",
   "execution_count": 15,
   "metadata": {},
   "outputs": [],
   "source": [
    "c4 <- categorical %>%\n",
    "dplyr::select(Contract:Churn)\n",
    "\n",
    "ggplot(c4) +\n",
    "  geom_bar(aes(x = Contract, fill = Churn), position = \"fill\", stat = \"count\", \n",
    "           show.legend = F) -> p7"
   ]
  },
  {
   "cell_type": "code",
   "execution_count": 16,
   "metadata": {
    "scrolled": false
   },
   "outputs": [
    {
     "data": {
      "image/png": "[encoded data removed]",
      "text/plain": [
       "plot without title"
      ]
     },
     "metadata": {},
     "output_type": "display_data"
    }
   ],
   "source": [
    "ggplot(c4) +\n",
    "  geom_bar(aes(x = PaperlessBilling, fill = Churn), position = \"fill\", stat = \"count\", \n",
    "           show.legend = T) -> p8\n",
    "\n",
    "ggplot(c4) +\n",
    "  geom_bar(aes(x = PaymentMethod, fill = Churn), position = \"fill\", stat = \"count\", \n",
    "           show.legend = F) +\n",
    "  scale_x_discrete(labels = c(\"Bank transfer\", \"Credit card\", \"Electronic check\", \"Mail check\"))+\n",
    "  theme(axis.text= element_text(size=7)) -> p9\n",
    "\n",
    "ggarrange(p7,p8,p9, ncol = 2, nrow = 2)"
   ]
  },
  {
   "cell_type": "markdown",
   "metadata": {},
   "source": [
    "The customers who sign longer contract have lower churn rate (Two year < One year < Month-to-month).  \n",
    "The customers who choose paperlessbilling have higher churn rate.   \n",
    "The customers who pay with electronic check have higher churn rate than customers who pay with other methods.  \n",
    "       \n",
    "\n",
    "Lastly, I will check if churn rates are different among the attributes about customers' basic information. \n"
   ]
  },
  {
   "cell_type": "code",
   "execution_count": 17,
   "metadata": {},
   "outputs": [],
   "source": [
    "\n",
    "categorical %>%\n",
    "  dplyr::select(gender:Dependents, PhoneService, InternetService, Churn) %>%\n",
    "  mutate(Gender_male = ifelse(gender ==\"Male\", \"Yes\", \"No\")) -> c1 \n"
   ]
  },
  {
   "cell_type": "code",
   "execution_count": 18,
   "metadata": {},
   "outputs": [
    {
     "data": {
      "image/png": "[encoded data removed]",
      "text/plain": [
       "plot without title"
      ]
     },
     "metadata": {},
     "output_type": "display_data"
    }
   ],
   "source": [
    "c1$gender <- NULL\n",
    "\n",
    "ggplot(c1) +\n",
    "  geom_bar(aes(x = Gender_male, fill = Churn), position = \"fill\", stat = \"count\", \n",
    "           show.legend = F) -> p1\n",
    "ggplot(c1) +\n",
    "  geom_bar(aes(x = SeniorCitizen, fill = Churn), position = \"fill\", stat = \"count\", \n",
    "           show.legend = F) -> p2\n",
    " ggplot(c1) +\n",
    "  geom_bar(aes(x = Partner, fill = Churn), position = \"fill\", stat = \"count\", \n",
    "           show.legend = F) -> p3    \n",
    " ggplot(c1) +\n",
    "  geom_bar(aes(x = Dependents, fill = Churn), position = \"fill\", stat = \"count\", \n",
    "           show.legend = F) -> p4  \n",
    "ggplot(c1) +\n",
    "  geom_bar(aes(x = PhoneService, fill = Churn), position = \"fill\", stat = \"count\", \n",
    "           show.legend = F) -> p5\n",
    "ggplot(c1) +\n",
    "  geom_bar(aes(x = InternetService, fill = Churn), position = \"fill\", stat = \"count\", \n",
    "           show.legend = F) -> p6\n",
    "           \n",
    "ggarrange(p1,p2,p3,p4,p5,p6, ncol = 3, nrow = 2)"
   ]
  },
  {
   "cell_type": "markdown",
   "metadata": {},
   "source": [
    "The churn rates are not changed by genders and phone service.   \n",
    "The senior customers have higher churn rate.   \n",
    "The customers who have partners or dependents have lower churn rate."
   ]
  },
  {
   "cell_type": "code",
   "execution_count": 19,
   "metadata": {},
   "outputs": [
    {
     "data": {
      "text/html": [
       "<table>\n",
       "<thead><tr><th scope=col>Total</th><th scope=col>n_Churn</th><th scope=col>p_Churn</th></tr></thead>\n",
       "<tbody>\n",
       "\t<tr><td>7032    </td><td>1869    </td><td>0.265785</td></tr>\n",
       "</tbody>\n",
       "</table>\n"
      ],
      "text/latex": [
       "\\begin{tabular}{r|lll}\n",
       " Total & n\\_Churn & p\\_Churn\\\\\n",
       "\\hline\n",
       "\t 7032     & 1869     & 0.265785\\\\\n",
       "\\end{tabular}\n"
      ],
      "text/markdown": [
       "\n",
       "| Total | n_Churn | p_Churn |\n",
       "|---|---|---|\n",
       "| 7032     | 1869     | 0.265785 |\n",
       "\n"
      ],
      "text/plain": [
       "  Total n_Churn p_Churn \n",
       "1 7032  1869    0.265785"
      ]
     },
     "metadata": {},
     "output_type": "display_data"
    }
   ],
   "source": [
    "telco %>%\n",
    "  summarise(Total = n(), n_Churn = sum(Churn == \"Yes\"), p_Churn = n_Churn/Total)"
   ]
  },
  {
   "cell_type": "markdown",
   "metadata": {},
   "source": [
    "There are 26.6% of customers churn."
   ]
  },
  {
   "cell_type": "markdown",
   "metadata": {},
   "source": [
    "# Logistic Regression Model"
   ]
  },
  {
   "cell_type": "markdown",
   "metadata": {},
   "source": [
    "### Data Preparation\n",
    "To prepare the data for logistic regression, I would modify binomial charactors to (0,1) and change the SeniorCitizen column from int to num.\n"
   ]
  },
  {
   "cell_type": "code",
   "execution_count": 20,
   "metadata": {},
   "outputs": [],
   "source": [
    "telco_lr <- telco"
   ]
  },
  {
   "cell_type": "code",
   "execution_count": 21,
   "metadata": {},
   "outputs": [],
   "source": [
    "telco_lr %>%\n",
    "  mutate(Churn = ifelse(Churn == \"Yes\", 1, 0)) -> telco_lr\n",
    "telco_lr %>%\n",
    "  mutate(gender = ifelse(gender == \"Female\", 1, 0)) -> telco_lr\n",
    "telco_lr %>%\n",
    "  mutate(Partner = ifelse(Partner == \"Yes\", 1, 0)) -> telco_lr\n",
    "telco_lr %>%\n",
    "  mutate(PhoneService = ifelse(PhoneService == \"Yes\", 1, 0)) -> telco_lr\n",
    "telco_lr %>%\n",
    "  mutate(Dependents = ifelse(Dependents == \"Yes\", 1, 0)) -> telco_lr\n",
    "telco_lr %>%\n",
    "  mutate(PaperlessBilling = ifelse(PaperlessBilling == \"Yes\", 1, 0)) -> telco_lr"
   ]
  },
  {
   "cell_type": "markdown",
   "metadata": {},
   "source": [
    "I delete the customerID and make one-hot coding to create dummy variables for all charactor variables.\n"
   ]
  },
  {
   "cell_type": "code",
   "execution_count": 22,
   "metadata": {},
   "outputs": [
    {
     "name": "stdout",
     "output_type": "stream",
     "text": [
      "'data.frame':\t7032 obs. of  46 variables:\n",
      " $ gender                                : num  1 0 0 0 1 1 0 1 1 0 ...\n",
      " $ SeniorCitizen                         : num  0 0 0 0 0 0 0 0 0 0 ...\n",
      " $ Partner                               : num  1 0 0 0 0 0 0 0 1 0 ...\n",
      " $ Dependents                            : num  0 0 0 0 0 0 1 0 0 1 ...\n",
      " $ PhoneService                          : num  0 1 1 0 1 1 1 0 1 1 ...\n",
      " $ MultipleLinesNo                       : num  0 1 1 0 1 0 0 0 0 1 ...\n",
      " $ MultipleLinesNo.phone.service         : num  1 0 0 1 0 0 0 1 0 0 ...\n",
      " $ MultipleLinesYes                      : num  0 0 0 0 0 1 1 0 1 0 ...\n",
      " $ InternetServiceDSL                    : num  1 1 1 1 0 0 0 1 0 1 ...\n",
      " $ InternetServiceFiber.optic            : num  0 0 0 0 1 1 1 0 1 0 ...\n",
      " $ InternetServiceNo                     : num  0 0 0 0 0 0 0 0 0 0 ...\n",
      " $ OnlineSecurityNo                      : num  1 0 0 0 1 1 1 0 1 0 ...\n",
      " $ OnlineSecurityNo.internet.service     : num  0 0 0 0 0 0 0 0 0 0 ...\n",
      " $ OnlineSecurityYes                     : num  0 1 1 1 0 0 0 1 0 1 ...\n",
      " $ OnlineBackupNo                        : num  0 1 0 1 1 1 0 1 1 0 ...\n",
      " $ OnlineBackupNo.internet.service       : num  0 0 0 0 0 0 0 0 0 0 ...\n",
      " $ OnlineBackupYes                       : num  1 0 1 0 0 0 1 0 0 1 ...\n",
      " $ DeviceProtectionNo                    : num  1 0 1 0 1 0 1 1 0 1 ...\n",
      " $ DeviceProtectionNo.internet.service   : num  0 0 0 0 0 0 0 0 0 0 ...\n",
      " $ DeviceProtectionYes                   : num  0 1 0 1 0 1 0 0 1 0 ...\n",
      " $ TechSupportNo                         : num  1 1 1 0 1 1 1 1 0 1 ...\n",
      " $ TechSupportNo.internet.service        : num  0 0 0 0 0 0 0 0 0 0 ...\n",
      " $ TechSupportYes                        : num  0 0 0 1 0 0 0 0 1 0 ...\n",
      " $ StreamingTVNo                         : num  1 1 1 1 1 0 0 1 0 1 ...\n",
      " $ StreamingTVNo.internet.service        : num  0 0 0 0 0 0 0 0 0 0 ...\n",
      " $ StreamingTVYes                        : num  0 0 0 0 0 1 1 0 1 0 ...\n",
      " $ StreamingMoviesNo                     : num  1 1 1 1 1 0 1 1 0 1 ...\n",
      " $ StreamingMoviesNo.internet.service    : num  0 0 0 0 0 0 0 0 0 0 ...\n",
      " $ StreamingMoviesYes                    : num  0 0 0 0 0 1 0 0 1 0 ...\n",
      " $ ContractMonth.to.month                : num  1 0 1 0 1 1 1 1 1 0 ...\n",
      " $ ContractOne.year                      : num  0 1 0 1 0 0 0 0 0 1 ...\n",
      " $ ContractTwo.year                      : num  0 0 0 0 0 0 0 0 0 0 ...\n",
      " $ PaperlessBilling                      : num  1 0 1 0 1 1 1 0 1 0 ...\n",
      " $ PaymentMethodBank.transfer..automatic.: num  0 0 0 1 0 0 0 0 0 1 ...\n",
      " $ PaymentMethodCredit.card..automatic.  : num  0 0 0 0 0 0 1 0 0 0 ...\n",
      " $ PaymentMethodElectronic.check         : num  1 0 0 0 1 1 0 0 1 0 ...\n",
      " $ PaymentMethodMailed.check             : num  0 1 1 0 0 0 0 1 0 0 ...\n",
      " $ MonthlyCharges                        : num  29.9 57 53.9 42.3 70.7 ...\n",
      " $ TotalCharges                          : num  29.9 1889.5 108.2 1840.8 151.7 ...\n",
      " $ Churn                                 : num  0 0 1 0 1 1 0 0 1 0 ...\n",
      " $ tenure_year0.1.year                   : num  1 0 1 0 1 1 0 1 0 0 ...\n",
      " $ tenure_year1.2.years                  : num  0 0 0 0 0 0 1 0 0 0 ...\n",
      " $ tenure_year2.3.years                  : num  0 1 0 0 0 0 0 0 1 0 ...\n",
      " $ tenure_year3.4.years                  : num  0 0 0 1 0 0 0 0 0 0 ...\n",
      " $ tenure_year4.5.years                  : num  0 0 0 0 0 0 0 0 0 0 ...\n",
      " $ tenure_year5.6.years                  : num  0 0 0 0 0 0 0 0 0 1 ...\n"
     ]
    }
   ],
   "source": [
    "telco_lr$customerID <- NULL\n",
    "dmy <- dummyVars(\" ~ .\", data = telco_lr)\n",
    "dmy <- data.frame(predict(dmy, newdata = telco_lr))\n",
    "str(dmy)"
   ]
  },
  {
   "cell_type": "markdown",
   "metadata": {},
   "source": [
    "Then, I remove the variables with \"No Phone Service\" because they don't have any predicting power "
   ]
  },
  {
   "cell_type": "code",
   "execution_count": 23,
   "metadata": {},
   "outputs": [],
   "source": [
    "dmy$MultipleLinesNo.phone.service <- NULL\n",
    "dmy$OnlineSecurityNo.internet.service <- NULL\n",
    "dmy$OnlineBackupNo.internet.service <- NULL\n",
    "dmy$DeviceProtectionNo.internet.service <- NULL\n",
    "dmy$TechSupportNo.internet.service <- NULL\n",
    "dmy$StreamingTVNo.internet.service <- NULL\n",
    "dmy$StreamingMoviesNo.internet.service <- NULL"
   ]
  },
  {
   "cell_type": "markdown",
   "metadata": {},
   "source": [
    "Finally, I remove the last level of each factor to avoid singularities."
   ]
  },
  {
   "cell_type": "code",
   "execution_count": 24,
   "metadata": {},
   "outputs": [],
   "source": [
    "dmy$ContractTwo.year <- NULL\n",
    "dmy$InternetServiceNo <- NULL\n",
    "dmy$PaymentMethodMailed.check <- NULL\n",
    "dmy$tenure_year5.6.years <- NULL"
   ]
  },
  {
   "cell_type": "code",
   "execution_count": 25,
   "metadata": {},
   "outputs": [
    {
     "name": "stdout",
     "output_type": "stream",
     "text": [
      "'data.frame':\t7032 obs. of  35 variables:\n",
      " $ gender                                : num  1 0 0 0 1 1 0 1 1 0 ...\n",
      " $ SeniorCitizen                         : num  0 0 0 0 0 0 0 0 0 0 ...\n",
      " $ Partner                               : num  1 0 0 0 0 0 0 0 1 0 ...\n",
      " $ Dependents                            : num  0 0 0 0 0 0 1 0 0 1 ...\n",
      " $ PhoneService                          : num  0 1 1 0 1 1 1 0 1 1 ...\n",
      " $ MultipleLinesNo                       : num  0 1 1 0 1 0 0 0 0 1 ...\n",
      " $ MultipleLinesYes                      : num  0 0 0 0 0 1 1 0 1 0 ...\n",
      " $ InternetServiceDSL                    : num  1 1 1 1 0 0 0 1 0 1 ...\n",
      " $ InternetServiceFiber.optic            : num  0 0 0 0 1 1 1 0 1 0 ...\n",
      " $ OnlineSecurityNo                      : num  1 0 0 0 1 1 1 0 1 0 ...\n",
      " $ OnlineSecurityYes                     : num  0 1 1 1 0 0 0 1 0 1 ...\n",
      " $ OnlineBackupNo                        : num  0 1 0 1 1 1 0 1 1 0 ...\n",
      " $ OnlineBackupYes                       : num  1 0 1 0 0 0 1 0 0 1 ...\n",
      " $ DeviceProtectionNo                    : num  1 0 1 0 1 0 1 1 0 1 ...\n",
      " $ DeviceProtectionYes                   : num  0 1 0 1 0 1 0 0 1 0 ...\n",
      " $ TechSupportNo                         : num  1 1 1 0 1 1 1 1 0 1 ...\n",
      " $ TechSupportYes                        : num  0 0 0 1 0 0 0 0 1 0 ...\n",
      " $ StreamingTVNo                         : num  1 1 1 1 1 0 0 1 0 1 ...\n",
      " $ StreamingTVYes                        : num  0 0 0 0 0 1 1 0 1 0 ...\n",
      " $ StreamingMoviesNo                     : num  1 1 1 1 1 0 1 1 0 1 ...\n",
      " $ StreamingMoviesYes                    : num  0 0 0 0 0 1 0 0 1 0 ...\n",
      " $ ContractMonth.to.month                : num  1 0 1 0 1 1 1 1 1 0 ...\n",
      " $ ContractOne.year                      : num  0 1 0 1 0 0 0 0 0 1 ...\n",
      " $ PaperlessBilling                      : num  1 0 1 0 1 1 1 0 1 0 ...\n",
      " $ PaymentMethodBank.transfer..automatic.: num  0 0 0 1 0 0 0 0 0 1 ...\n",
      " $ PaymentMethodCredit.card..automatic.  : num  0 0 0 0 0 0 1 0 0 0 ...\n",
      " $ PaymentMethodElectronic.check         : num  1 0 0 0 1 1 0 0 1 0 ...\n",
      " $ MonthlyCharges                        : num  29.9 57 53.9 42.3 70.7 ...\n",
      " $ TotalCharges                          : num  29.9 1889.5 108.2 1840.8 151.7 ...\n",
      " $ Churn                                 : num  0 0 1 0 1 1 0 0 1 0 ...\n",
      " $ tenure_year0.1.year                   : num  1 0 1 0 1 1 0 1 0 0 ...\n",
      " $ tenure_year1.2.years                  : num  0 0 0 0 0 0 1 0 0 0 ...\n",
      " $ tenure_year2.3.years                  : num  0 1 0 0 0 0 0 0 1 0 ...\n",
      " $ tenure_year3.4.years                  : num  0 0 0 1 0 0 0 0 0 0 ...\n",
      " $ tenure_year4.5.years                  : num  0 0 0 0 0 0 0 0 0 0 ...\n"
     ]
    }
   ],
   "source": [
    "# FINAL DATASET FOR LR\n",
    "str(dmy)"
   ]
  },
  {
   "cell_type": "markdown",
   "metadata": {},
   "source": [
    "\n",
    "### Split the data into training and test sets (75% vs 25%)"
   ]
  },
  {
   "cell_type": "code",
   "execution_count": 26,
   "metadata": {},
   "outputs": [],
   "source": [
    "set.seed(818)\n",
    "assignment <- sample(0:1, size= nrow(dmy), prob = c(0.75,0.25), replace = TRUE)\n",
    "train <- dmy[assignment == 0, ]\n",
    "test <- dmy[assignment == 1, ]"
   ]
  },
  {
   "cell_type": "markdown",
   "metadata": {},
   "source": [
    "Double check if the churn rates of two sets are close."
   ]
  },
  {
   "cell_type": "code",
   "execution_count": 27,
   "metadata": {
    "scrolled": true
   },
   "outputs": [
    {
     "data": {
      "text/html": [
       "<table>\n",
       "<thead><tr><th scope=col>Total</th><th scope=col>n_Churn</th><th scope=col>p_Churn</th></tr></thead>\n",
       "<tbody>\n",
       "\t<tr><td>5226     </td><td>1389     </td><td>0.2657865</td></tr>\n",
       "</tbody>\n",
       "</table>\n"
      ],
      "text/latex": [
       "\\begin{tabular}{r|lll}\n",
       " Total & n\\_Churn & p\\_Churn\\\\\n",
       "\\hline\n",
       "\t 5226      & 1389      & 0.2657865\\\\\n",
       "\\end{tabular}\n"
      ],
      "text/markdown": [
       "\n",
       "| Total | n_Churn | p_Churn |\n",
       "|---|---|---|\n",
       "| 5226      | 1389      | 0.2657865 |\n",
       "\n"
      ],
      "text/plain": [
       "  Total n_Churn p_Churn  \n",
       "1 5226  1389    0.2657865"
      ]
     },
     "metadata": {},
     "output_type": "display_data"
    },
    {
     "data": {
      "text/html": [
       "<table>\n",
       "<thead><tr><th scope=col>Total</th><th scope=col>n_Churn</th><th scope=col>p_Churn</th></tr></thead>\n",
       "<tbody>\n",
       "\t<tr><td>1806     </td><td>480      </td><td>0.2657807</td></tr>\n",
       "</tbody>\n",
       "</table>\n"
      ],
      "text/latex": [
       "\\begin{tabular}{r|lll}\n",
       " Total & n\\_Churn & p\\_Churn\\\\\n",
       "\\hline\n",
       "\t 1806      & 480       & 0.2657807\\\\\n",
       "\\end{tabular}\n"
      ],
      "text/markdown": [
       "\n",
       "| Total | n_Churn | p_Churn |\n",
       "|---|---|---|\n",
       "| 1806      | 480       | 0.2657807 |\n",
       "\n"
      ],
      "text/plain": [
       "  Total n_Churn p_Churn  \n",
       "1 1806  480     0.2657807"
      ]
     },
     "metadata": {},
     "output_type": "display_data"
    }
   ],
   "source": [
    "# For the Training Set:\n",
    "train %>%\n",
    "  summarise(Total = n(), n_Churn = sum(Churn == 1), p_Churn = n_Churn/Total)\n",
    "# For the Test Set:\n",
    "test %>%\n",
    "  summarise(Total = n(), n_Churn = sum(Churn == 1), p_Churn = n_Churn/Total)"
   ]
  },
  {
   "cell_type": "markdown",
   "metadata": {},
   "source": [
    "Now, the data is ready for training logistic regression models! \n"
   ]
  },
  {
   "cell_type": "markdown",
   "metadata": {},
   "source": [
    "### Train Models\n",
    "\n",
    "I will first use all columns to build the model1. Then we would do backwards elimination to remove variables based on AIC and significance.\n",
    "\n"
   ]
  },
  {
   "cell_type": "code",
   "execution_count": 28,
   "metadata": {},
   "outputs": [
    {
     "data": {
      "text/plain": [
       "\n",
       "Call:\n",
       "glm(formula = Churn ~ ., family = \"binomial\", data = train)\n",
       "\n",
       "Deviance Residuals: \n",
       "    Min       1Q   Median       3Q      Max  \n",
       "-2.0913  -0.6490  -0.2846   0.6246   3.1189  \n",
       "\n",
       "Coefficients: (7 not defined because of singularities)\n",
       "                                         Estimate Std. Error z value Pr(>|z|)\n",
       "(Intercept)                            -4.201e+00  4.115e-01 -10.209  < 2e-16\n",
       "gender                                  2.520e-02  7.628e-02   0.330 0.741121\n",
       "SeniorCitizen                           2.021e-01  9.896e-02   2.042 0.041166\n",
       "Partner                                -6.434e-02  9.082e-02  -0.708 0.478692\n",
       "Dependents                             -1.974e-01  1.054e-01  -1.872 0.061148\n",
       "PhoneService                            1.245e+00  9.481e-01   1.313 0.189234\n",
       "MultipleLinesNo                        -5.581e-01  2.081e-01  -2.682 0.007329\n",
       "MultipleLinesYes                               NA         NA      NA       NA\n",
       "InternetServiceDSL                      3.979e+00  2.430e+00   1.637 0.101540\n",
       "InternetServiceFiber.optic              6.228e+00  3.359e+00   1.854 0.063727\n",
       "OnlineSecurityNo                        1.238e-01  2.089e-01   0.592 0.553540\n",
       "OnlineSecurityYes                              NA         NA      NA       NA\n",
       "OnlineBackupNo                         -1.455e-01  2.071e-01  -0.703 0.482296\n",
       "OnlineBackupYes                                NA         NA      NA       NA\n",
       "DeviceProtectionNo                     -1.939e-01  2.082e-01  -0.931 0.351743\n",
       "DeviceProtectionYes                            NA         NA      NA       NA\n",
       "TechSupportNo                           1.062e-01  2.111e-01   0.503 0.615017\n",
       "TechSupportYes                                 NA         NA      NA       NA\n",
       "StreamingTVNo                          -8.513e-01  3.834e-01  -2.220 0.026398\n",
       "StreamingTVYes                                 NA         NA      NA       NA\n",
       "StreamingMoviesNo                      -8.284e-01  3.855e-01  -2.149 0.031634\n",
       "StreamingMoviesYes                             NA         NA      NA       NA\n",
       "ContractMonth.to.month                  1.613e+00  2.103e-01   7.670 1.72e-14\n",
       "ContractOne.year                        8.386e-01  2.097e-01   3.999 6.37e-05\n",
       "PaperlessBilling                        3.356e-01  8.733e-02   3.844 0.000121\n",
       "PaymentMethodBank.transfer..automatic. -2.744e-03  1.337e-01  -0.021 0.983629\n",
       "PaymentMethodCredit.card..automatic.   -1.013e-01  1.362e-01  -0.744 0.456861\n",
       "PaymentMethodElectronic.check           2.887e-01  1.128e-01   2.558 0.010529\n",
       "MonthlyCharges                         -5.196e-02  3.730e-02  -1.393 0.163592\n",
       "TotalCharges                           -8.657e-05  7.248e-05  -1.194 0.232304\n",
       "tenure_year0.1.year                     1.424e+00  4.037e-01   3.528 0.000419\n",
       "tenure_year1.2.years                    5.548e-01  3.634e-01   1.527 0.126816\n",
       "tenure_year2.3.years                    2.659e-01  3.116e-01   0.853 0.393497\n",
       "tenure_year3.4.years                    3.507e-01  2.599e-01   1.349 0.177280\n",
       "tenure_year4.5.years                    7.140e-02  2.172e-01   0.329 0.742397\n",
       "                                          \n",
       "(Intercept)                            ***\n",
       "gender                                    \n",
       "SeniorCitizen                          *  \n",
       "Partner                                   \n",
       "Dependents                             .  \n",
       "PhoneService                              \n",
       "MultipleLinesNo                        ** \n",
       "MultipleLinesYes                          \n",
       "InternetServiceDSL                        \n",
       "InternetServiceFiber.optic             .  \n",
       "OnlineSecurityNo                          \n",
       "OnlineSecurityYes                         \n",
       "OnlineBackupNo                            \n",
       "OnlineBackupYes                           \n",
       "DeviceProtectionNo                        \n",
       "DeviceProtectionYes                       \n",
       "TechSupportNo                             \n",
       "TechSupportYes                            \n",
       "StreamingTVNo                          *  \n",
       "StreamingTVYes                            \n",
       "StreamingMoviesNo                      *  \n",
       "StreamingMoviesYes                        \n",
       "ContractMonth.to.month                 ***\n",
       "ContractOne.year                       ***\n",
       "PaperlessBilling                       ***\n",
       "PaymentMethodBank.transfer..automatic.    \n",
       "PaymentMethodCredit.card..automatic.      \n",
       "PaymentMethodElectronic.check          *  \n",
       "MonthlyCharges                            \n",
       "TotalCharges                              \n",
       "tenure_year0.1.year                    ***\n",
       "tenure_year1.2.years                      \n",
       "tenure_year2.3.years                      \n",
       "tenure_year3.4.years                      \n",
       "tenure_year4.5.years                      \n",
       "---\n",
       "Signif. codes:  0 '***' 0.001 '**' 0.01 '*' 0.05 '.' 0.1 ' ' 1\n",
       "\n",
       "(Dispersion parameter for binomial family taken to be 1)\n",
       "\n",
       "    Null deviance: 6051.9  on 5225  degrees of freedom\n",
       "Residual deviance: 4269.2  on 5198  degrees of freedom\n",
       "AIC: 4325.2\n",
       "\n",
       "Number of Fisher Scoring iterations: 6\n"
      ]
     },
     "metadata": {},
     "output_type": "display_data"
    }
   ],
   "source": [
    "model1 <- glm(Churn ~., family = \"binomial\", data = train)\n",
    "summary(model1)"
   ]
  },
  {
   "cell_type": "markdown",
   "metadata": {},
   "source": [
    "Notice there are 6 NAs in the model's summary for MultipleLinesYes, OnlineSecurityYes, OnlineBackupYes, \n",
    "DeviceProtectionYes, TechSupportYes, StreamingTVYes, StreamingMoviesYes. That's because I remove the \"xxx.No Phone Service\" \n",
    "or \"xxx.No Internet Service\" of them when processing dummy variables. Only two values of \"xxx.yes\" and \"xxx.no\" are left with absolutely multicollinearities between them. This problem will be address during the following variable selection.      \n",
    "\n",
    "I use AIC to exclude variables based on their significance and create model2."
   ]
  },
  {
   "cell_type": "code",
   "execution_count": 29,
   "metadata": {},
   "outputs": [
    {
     "data": {
      "text/plain": [
       "\n",
       "Call:\n",
       "glm(formula = Churn ~ SeniorCitizen + Dependents + PhoneService + \n",
       "    MultipleLinesNo + InternetServiceDSL + InternetServiceFiber.optic + \n",
       "    OnlineBackupNo + DeviceProtectionNo + StreamingTVNo + StreamingMoviesNo + \n",
       "    ContractMonth.to.month + ContractOne.year + PaperlessBilling + \n",
       "    PaymentMethodElectronic.check + MonthlyCharges + TotalCharges + \n",
       "    tenure_year0.1.year + tenure_year1.2.years, family = \"binomial\", \n",
       "    data = train)\n",
       "\n",
       "Deviance Residuals: \n",
       "    Min       1Q   Median       3Q      Max  \n",
       "-2.1080  -0.6467  -0.2864   0.6176   3.0767  \n",
       "\n",
       "Coefficients:\n",
       "                                Estimate Std. Error z value Pr(>|z|)    \n",
       "(Intercept)                   -3.972e+00  2.863e-01 -13.873  < 2e-16 ***\n",
       "SeniorCitizen                  1.915e-01  9.821e-02   1.949 0.051238 .  \n",
       "Dependents                    -2.288e-01  9.584e-02  -2.387 0.016980 *  \n",
       "PhoneService                   1.743e+00  3.666e-01   4.753 2.00e-06 ***\n",
       "MultipleLinesNo               -6.565e-01  1.122e-01  -5.851 4.90e-09 ***\n",
       "InternetServiceDSL             5.251e+00  7.843e-01   6.696 2.15e-11 ***\n",
       "InternetServiceFiber.optic     7.982e+00  1.081e+00   7.387 1.50e-13 ***\n",
       "OnlineBackupNo                -2.446e-01  1.112e-01  -2.201 0.027747 *  \n",
       "DeviceProtectionNo            -2.969e-01  1.143e-01  -2.598 0.009380 ** \n",
       "StreamingTVNo                 -1.052e+00  1.608e-01  -6.540 6.16e-11 ***\n",
       "StreamingMoviesNo             -1.023e+00  1.625e-01  -6.293 3.11e-10 ***\n",
       "ContractMonth.to.month         1.690e+00  1.998e-01   8.459  < 2e-16 ***\n",
       "ContractOne.year               8.972e-01  2.021e-01   4.440 8.98e-06 ***\n",
       "PaperlessBilling               3.295e-01  8.709e-02   3.784 0.000155 ***\n",
       "PaymentMethodElectronic.check  3.202e-01  8.197e-02   3.906 9.37e-05 ***\n",
       "MonthlyCharges                -7.004e-02  1.301e-02  -5.384 7.31e-08 ***\n",
       "TotalCharges                  -1.505e-04  4.378e-05  -3.437 0.000587 ***\n",
       "tenure_year0.1.year            1.058e+00  1.504e-01   7.034 2.01e-12 ***\n",
       "tenure_year1.2.years           2.219e-01  1.449e-01   1.531 0.125755    \n",
       "---\n",
       "Signif. codes:  0 '***' 0.001 '**' 0.01 '*' 0.05 '.' 0.1 ' ' 1\n",
       "\n",
       "(Dispersion parameter for binomial family taken to be 1)\n",
       "\n",
       "    Null deviance: 6051.9  on 5225  degrees of freedom\n",
       "Residual deviance: 4273.6  on 5207  degrees of freedom\n",
       "AIC: 4311.6\n",
       "\n",
       "Number of Fisher Scoring iterations: 6\n"
      ]
     },
     "metadata": {},
     "output_type": "display_data"
    }
   ],
   "source": [
    "model2 <- stepAIC(model1, trace = 0)\n",
    "summary(model2)"
   ]
  },
  {
   "cell_type": "markdown",
   "metadata": {},
   "source": [
    "Use VIF function to check multicollinearity\n"
   ]
  },
  {
   "cell_type": "code",
   "execution_count": 30,
   "metadata": {},
   "outputs": [
    {
     "data": {
      "text/html": [
       "<dl class=dl-horizontal>\n",
       "\t<dt>SeniorCitizen</dt>\n",
       "\t\t<dd>1.13037638643893</dd>\n",
       "\t<dt>Dependents</dt>\n",
       "\t\t<dd>1.06215430606434</dd>\n",
       "\t<dt>PhoneService</dt>\n",
       "\t\t<dd>8.5862443384094</dd>\n",
       "\t<dt>MultipleLinesNo</dt>\n",
       "\t\t<dd>2.1676544307208</dd>\n",
       "\t<dt>InternetServiceDSL</dt>\n",
       "\t\t<dd>91.376588770401</dd>\n",
       "\t<dt>InternetServiceFiber.optic</dt>\n",
       "\t\t<dd>196.197854869274</dd>\n",
       "\t<dt>OnlineBackupNo</dt>\n",
       "\t\t<dd>2.09231952620124</dd>\n",
       "\t<dt>DeviceProtectionNo</dt>\n",
       "\t\t<dd>2.19202212553998</dd>\n",
       "\t<dt>StreamingTVNo</dt>\n",
       "\t\t<dd>4.4648073482978</dd>\n",
       "\t<dt>StreamingMoviesNo</dt>\n",
       "\t\t<dd>4.55787695372606</dd>\n",
       "\t<dt>ContractMonth.to.month</dt>\n",
       "\t\t<dd>4.34773493422361</dd>\n",
       "\t<dt>ContractOne.year</dt>\n",
       "\t\t<dd>3.52366912659376</dd>\n",
       "\t<dt>PaperlessBilling</dt>\n",
       "\t\t<dd>1.12302455943543</dd>\n",
       "\t<dt>PaymentMethodElectronic.check</dt>\n",
       "\t\t<dd>1.15680376744406</dd>\n",
       "\t<dt>MonthlyCharges</dt>\n",
       "\t\t<dd>85.0852750284134</dd>\n",
       "\t<dt>TotalCharges</dt>\n",
       "\t\t<dd>5.63904883486963</dd>\n",
       "\t<dt>tenure_year0.1.year</dt>\n",
       "\t\t<dd>3.84192617980409</dd>\n",
       "\t<dt>tenure_year1.2.years</dt>\n",
       "\t\t<dd>2.05386336683622</dd>\n",
       "</dl>\n"
      ],
      "text/latex": [
       "\\begin{description*}\n",
       "\\item[SeniorCitizen] 1.13037638643893\n",
       "\\item[Dependents] 1.06215430606434\n",
       "\\item[PhoneService] 8.5862443384094\n",
       "\\item[MultipleLinesNo] 2.1676544307208\n",
       "\\item[InternetServiceDSL] 91.376588770401\n",
       "\\item[InternetServiceFiber.optic] 196.197854869274\n",
       "\\item[OnlineBackupNo] 2.09231952620124\n",
       "\\item[DeviceProtectionNo] 2.19202212553998\n",
       "\\item[StreamingTVNo] 4.4648073482978\n",
       "\\item[StreamingMoviesNo] 4.55787695372606\n",
       "\\item[ContractMonth.to.month] 4.34773493422361\n",
       "\\item[ContractOne.year] 3.52366912659376\n",
       "\\item[PaperlessBilling] 1.12302455943543\n",
       "\\item[PaymentMethodElectronic.check] 1.15680376744406\n",
       "\\item[MonthlyCharges] 85.0852750284134\n",
       "\\item[TotalCharges] 5.63904883486963\n",
       "\\item[tenure\\textbackslash{}\\_year0.1.year] 3.84192617980409\n",
       "\\item[tenure\\textbackslash{}\\_year1.2.years] 2.05386336683622\n",
       "\\end{description*}\n"
      ],
      "text/markdown": [
       "SeniorCitizen\n",
       ":   1.13037638643893Dependents\n",
       ":   1.06215430606434PhoneService\n",
       ":   8.5862443384094MultipleLinesNo\n",
       ":   2.1676544307208InternetServiceDSL\n",
       ":   91.376588770401InternetServiceFiber.optic\n",
       ":   196.197854869274OnlineBackupNo\n",
       ":   2.09231952620124DeviceProtectionNo\n",
       ":   2.19202212553998StreamingTVNo\n",
       ":   4.4648073482978StreamingMoviesNo\n",
       ":   4.55787695372606ContractMonth.to.month\n",
       ":   4.34773493422361ContractOne.year\n",
       ":   3.52366912659376PaperlessBilling\n",
       ":   1.12302455943543PaymentMethodElectronic.check\n",
       ":   1.15680376744406MonthlyCharges\n",
       ":   85.0852750284134TotalCharges\n",
       ":   5.63904883486963tenure_year0.1.year\n",
       ":   3.84192617980409tenure_year1.2.years\n",
       ":   2.05386336683622\n",
       "\n"
      ],
      "text/plain": [
       "                SeniorCitizen                    Dependents \n",
       "                     1.130376                      1.062154 \n",
       "                 PhoneService               MultipleLinesNo \n",
       "                     8.586244                      2.167654 \n",
       "           InternetServiceDSL    InternetServiceFiber.optic \n",
       "                    91.376589                    196.197855 \n",
       "               OnlineBackupNo            DeviceProtectionNo \n",
       "                     2.092320                      2.192022 \n",
       "                StreamingTVNo             StreamingMoviesNo \n",
       "                     4.464807                      4.557877 \n",
       "       ContractMonth.to.month              ContractOne.year \n",
       "                     4.347735                      3.523669 \n",
       "             PaperlessBilling PaymentMethodElectronic.check \n",
       "                     1.123025                      1.156804 \n",
       "               MonthlyCharges                  TotalCharges \n",
       "                    85.085275                      5.639049 \n",
       "          tenure_year0.1.year          tenure_year1.2.years \n",
       "                     3.841926                      2.053863 "
      ]
     },
     "metadata": {},
     "output_type": "display_data"
    }
   ],
   "source": [
    "vif(model2)"
   ]
  },
  {
   "cell_type": "markdown",
   "metadata": {},
   "source": [
    "\n",
    "The VIFs for MonthlyCharges, InternetServiceDSL and InternetserviceFiber.optic are very high due to multicollinearity. \n",
    "Since TotalCharges has high correlation with MonthlyCharges and tenure (see the correlation plot above), I will remove \n",
    "the TotalCharges variable . The InternetserviceFiber.optic will also be removed from model3."
   ]
  },
  {
   "cell_type": "code",
   "execution_count": 31,
   "metadata": {},
   "outputs": [
    {
     "data": {
      "text/plain": [
       "\n",
       "Call:\n",
       "glm(formula = Churn ~ SeniorCitizen + Dependents + PhoneService + \n",
       "    MultipleLinesNo + InternetServiceDSL + OnlineBackupNo + DeviceProtectionNo + \n",
       "    StreamingTVNo + StreamingMoviesNo + ContractMonth.to.month + \n",
       "    ContractOne.year + PaperlessBilling + PaymentMethodElectronic.check + \n",
       "    MonthlyCharges + tenure_year0.1.year + tenure_year1.2.years, \n",
       "    family = \"binomial\", data = train)\n",
       "\n",
       "Deviance Residuals: \n",
       "    Min       1Q   Median       3Q      Max  \n",
       "-2.0083  -0.6789  -0.2938   0.6644   3.2270  \n",
       "\n",
       "Coefficients:\n",
       "                               Estimate Std. Error z value Pr(>|z|)    \n",
       "(Intercept)                   -4.504157   0.265349 -16.974  < 2e-16 ***\n",
       "SeniorCitizen                  0.237861   0.096606   2.462  0.01381 *  \n",
       "Dependents                    -0.228336   0.094864  -2.407  0.01609 *  \n",
       "PhoneService                  -0.671504   0.170551  -3.937 8.24e-05 ***\n",
       "MultipleLinesNo               -0.177117   0.094339  -1.877  0.06046 .  \n",
       "InternetServiceDSL            -0.521061   0.107194  -4.861 1.17e-06 ***\n",
       "OnlineBackupNo                 0.340352   0.083906   4.056 4.98e-05 ***\n",
       "DeviceProtectionNo             0.254669   0.089212   2.855  0.00431 ** \n",
       "StreamingTVNo                 -0.067345   0.090833  -0.741  0.45844    \n",
       "StreamingMoviesNo             -0.018117   0.090801  -0.200  0.84185    \n",
       "ContractMonth.to.month         2.137493   0.191455  11.164  < 2e-16 ***\n",
       "ContractOne.year               1.150930   0.199323   5.774 7.73e-09 ***\n",
       "PaperlessBilling               0.363482   0.086084   4.222 2.42e-05 ***\n",
       "PaymentMethodElectronic.check  0.414716   0.080181   5.172 2.31e-07 ***\n",
       "MonthlyCharges                 0.019235   0.002103   9.147  < 2e-16 ***\n",
       "tenure_year0.1.year            1.476439   0.109347  13.502  < 2e-16 ***\n",
       "tenure_year1.2.years           0.537862   0.118675   4.532 5.84e-06 ***\n",
       "---\n",
       "Signif. codes:  0 '***' 0.001 '**' 0.01 '*' 0.05 '.' 0.1 ' ' 1\n",
       "\n",
       "(Dispersion parameter for binomial family taken to be 1)\n",
       "\n",
       "    Null deviance: 6051.9  on 5225  degrees of freedom\n",
       "Residual deviance: 4345.9  on 5209  degrees of freedom\n",
       "AIC: 4379.9\n",
       "\n",
       "Number of Fisher Scoring iterations: 6\n"
      ]
     },
     "metadata": {},
     "output_type": "display_data"
    },
    {
     "data": {
      "text/html": [
       "<dl class=dl-horizontal>\n",
       "\t<dt>SeniorCitizen</dt>\n",
       "\t\t<dd>1.12411292733685</dd>\n",
       "\t<dt>Dependents</dt>\n",
       "\t\t<dd>1.06071314321052</dd>\n",
       "\t<dt>PhoneService</dt>\n",
       "\t\t<dd>1.85424848946663</dd>\n",
       "\t<dt>MultipleLinesNo</dt>\n",
       "\t\t<dd>1.56890774715453</dd>\n",
       "\t<dt>InternetServiceDSL</dt>\n",
       "\t\t<dd>1.72714004500419</dd>\n",
       "\t<dt>OnlineBackupNo</dt>\n",
       "\t\t<dd>1.22235027774495</dd>\n",
       "\t<dt>DeviceProtectionNo</dt>\n",
       "\t\t<dd>1.36939677580306</dd>\n",
       "\t<dt>StreamingTVNo</dt>\n",
       "\t\t<dd>1.45896190345797</dd>\n",
       "\t<dt>StreamingMoviesNo</dt>\n",
       "\t\t<dd>1.45658698519222</dd>\n",
       "\t<dt>ContractMonth.to.month</dt>\n",
       "\t\t<dd>4.02683093209686</dd>\n",
       "\t<dt>ContractOne.year</dt>\n",
       "\t\t<dd>3.46390371126377</dd>\n",
       "\t<dt>PaperlessBilling</dt>\n",
       "\t\t<dd>1.12089576029174</dd>\n",
       "\t<dt>PaymentMethodElectronic.check</dt>\n",
       "\t\t<dd>1.13426476355978</dd>\n",
       "\t<dt>MonthlyCharges</dt>\n",
       "\t\t<dd>2.31988468598487</dd>\n",
       "\t<dt>tenure_year0.1.year</dt>\n",
       "\t\t<dd>2.08786567926781</dd>\n",
       "\t<dt>tenure_year1.2.years</dt>\n",
       "\t\t<dd>1.39782110110229</dd>\n",
       "</dl>\n"
      ],
      "text/latex": [
       "\\begin{description*}\n",
       "\\item[SeniorCitizen] 1.12411292733685\n",
       "\\item[Dependents] 1.06071314321052\n",
       "\\item[PhoneService] 1.85424848946663\n",
       "\\item[MultipleLinesNo] 1.56890774715453\n",
       "\\item[InternetServiceDSL] 1.72714004500419\n",
       "\\item[OnlineBackupNo] 1.22235027774495\n",
       "\\item[DeviceProtectionNo] 1.36939677580306\n",
       "\\item[StreamingTVNo] 1.45896190345797\n",
       "\\item[StreamingMoviesNo] 1.45658698519222\n",
       "\\item[ContractMonth.to.month] 4.02683093209686\n",
       "\\item[ContractOne.year] 3.46390371126377\n",
       "\\item[PaperlessBilling] 1.12089576029174\n",
       "\\item[PaymentMethodElectronic.check] 1.13426476355978\n",
       "\\item[MonthlyCharges] 2.31988468598487\n",
       "\\item[tenure\\textbackslash{}\\_year0.1.year] 2.08786567926781\n",
       "\\item[tenure\\textbackslash{}\\_year1.2.years] 1.39782110110229\n",
       "\\end{description*}\n"
      ],
      "text/markdown": [
       "SeniorCitizen\n",
       ":   1.12411292733685Dependents\n",
       ":   1.06071314321052PhoneService\n",
       ":   1.85424848946663MultipleLinesNo\n",
       ":   1.56890774715453InternetServiceDSL\n",
       ":   1.72714004500419OnlineBackupNo\n",
       ":   1.22235027774495DeviceProtectionNo\n",
       ":   1.36939677580306StreamingTVNo\n",
       ":   1.45896190345797StreamingMoviesNo\n",
       ":   1.45658698519222ContractMonth.to.month\n",
       ":   4.02683093209686ContractOne.year\n",
       ":   3.46390371126377PaperlessBilling\n",
       ":   1.12089576029174PaymentMethodElectronic.check\n",
       ":   1.13426476355978MonthlyCharges\n",
       ":   2.31988468598487tenure_year0.1.year\n",
       ":   2.08786567926781tenure_year1.2.years\n",
       ":   1.39782110110229\n",
       "\n"
      ],
      "text/plain": [
       "                SeniorCitizen                    Dependents \n",
       "                     1.124113                      1.060713 \n",
       "                 PhoneService               MultipleLinesNo \n",
       "                     1.854248                      1.568908 \n",
       "           InternetServiceDSL                OnlineBackupNo \n",
       "                     1.727140                      1.222350 \n",
       "           DeviceProtectionNo                 StreamingTVNo \n",
       "                     1.369397                      1.458962 \n",
       "            StreamingMoviesNo        ContractMonth.to.month \n",
       "                     1.456587                      4.026831 \n",
       "             ContractOne.year              PaperlessBilling \n",
       "                     3.463904                      1.120896 \n",
       "PaymentMethodElectronic.check                MonthlyCharges \n",
       "                     1.134265                      2.319885 \n",
       "          tenure_year0.1.year          tenure_year1.2.years \n",
       "                     2.087866                      1.397821 "
      ]
     },
     "metadata": {},
     "output_type": "display_data"
    }
   ],
   "source": [
    "model3 <- glm(formula = Churn ~  SeniorCitizen + Dependents + PhoneService + MultipleLinesNo + InternetServiceDSL + OnlineBackupNo +\n",
    "DeviceProtectionNo + StreamingTVNo + StreamingMoviesNo + ContractMonth.to.month + ContractOne.year + \n",
    "PaperlessBilling + PaymentMethodElectronic.check + MonthlyCharges + tenure_year0.1.year + tenure_year1.2.years,\n",
    "family = \"binomial\", data = train)\n",
    "\n",
    "summary(model3)\n",
    "vif(model3)"
   ]
  },
  {
   "cell_type": "markdown",
   "metadata": {},
   "source": [
    "\n",
    "Now all VIFs are fine below 5. but the p-values for StreamingTVNo and StreamingMoviesNo are still very high. \n",
    "So I remove these two variables and create model 4."
   ]
  },
  {
   "cell_type": "code",
   "execution_count": 32,
   "metadata": {},
   "outputs": [
    {
     "data": {
      "text/plain": [
       "\n",
       "Call:\n",
       "glm(formula = Churn ~ SeniorCitizen + Dependents + PhoneService + \n",
       "    MultipleLinesNo + InternetServiceDSL + OnlineBackupNo + DeviceProtectionNo + \n",
       "    ContractMonth.to.month + ContractOne.year + PaperlessBilling + \n",
       "    PaymentMethodElectronic.check + MonthlyCharges + tenure_year0.1.year + \n",
       "    tenure_year1.2.years, family = \"binomial\", data = train)\n",
       "\n",
       "Deviance Residuals: \n",
       "    Min       1Q   Median       3Q      Max  \n",
       "-1.9847  -0.6712  -0.2963   0.6617   3.2304  \n",
       "\n",
       "Coefficients:\n",
       "                               Estimate Std. Error z value Pr(>|z|)    \n",
       "(Intercept)                   -4.509179   0.265472 -16.986  < 2e-16 ***\n",
       "SeniorCitizen                  0.234414   0.096469   2.430  0.01510 *  \n",
       "Dependents                    -0.227876   0.094864  -2.402  0.01630 *  \n",
       "PhoneService                  -0.682343   0.169926  -4.016 5.93e-05 ***\n",
       "MultipleLinesNo               -0.175661   0.094284  -1.863  0.06245 .  \n",
       "InternetServiceDSL            -0.537947   0.105220  -5.113 3.18e-07 ***\n",
       "OnlineBackupNo                 0.329828   0.082922   3.978 6.96e-05 ***\n",
       "DeviceProtectionNo             0.230962   0.084237   2.742  0.00611 ** \n",
       "ContractMonth.to.month         2.123083   0.190596  11.139  < 2e-16 ***\n",
       "ContractOne.year               1.147257   0.199232   5.758 8.49e-09 ***\n",
       "PaperlessBilling               0.364310   0.086054   4.233 2.30e-05 ***\n",
       "PaymentMethodElectronic.check  0.417510   0.080084   5.213 1.85e-07 ***\n",
       "MonthlyCharges                 0.019383   0.002101   9.227  < 2e-16 ***\n",
       "tenure_year0.1.year            1.472230   0.109079  13.497  < 2e-16 ***\n",
       "tenure_year1.2.years           0.538793   0.118527   4.546 5.47e-06 ***\n",
       "---\n",
       "Signif. codes:  0 '***' 0.001 '**' 0.01 '*' 0.05 '.' 0.1 ' ' 1\n",
       "\n",
       "(Dispersion parameter for binomial family taken to be 1)\n",
       "\n",
       "    Null deviance: 6051.9  on 5225  degrees of freedom\n",
       "Residual deviance: 4346.7  on 5211  degrees of freedom\n",
       "AIC: 4376.7\n",
       "\n",
       "Number of Fisher Scoring iterations: 6\n"
      ]
     },
     "metadata": {},
     "output_type": "display_data"
    },
    {
     "data": {
      "text/html": [
       "<dl class=dl-horizontal>\n",
       "\t<dt>SeniorCitizen</dt>\n",
       "\t\t<dd>1.12200724360438</dd>\n",
       "\t<dt>Dependents</dt>\n",
       "\t\t<dd>1.06057613983197</dd>\n",
       "\t<dt>PhoneService</dt>\n",
       "\t\t<dd>1.84388621298</dd>\n",
       "\t<dt>MultipleLinesNo</dt>\n",
       "\t\t<dd>1.56700104420668</dd>\n",
       "\t<dt>InternetServiceDSL</dt>\n",
       "\t\t<dd>1.66600312239705</dd>\n",
       "\t<dt>OnlineBackupNo</dt>\n",
       "\t\t<dd>1.19380463849173</dd>\n",
       "\t<dt>DeviceProtectionNo</dt>\n",
       "\t\t<dd>1.22080226383074</dd>\n",
       "\t<dt>ContractMonth.to.month</dt>\n",
       "\t\t<dd>3.99341735054113</dd>\n",
       "\t<dt>ContractOne.year</dt>\n",
       "\t\t<dd>3.46394990874257</dd>\n",
       "\t<dt>PaperlessBilling</dt>\n",
       "\t\t<dd>1.11950635717536</dd>\n",
       "\t<dt>PaymentMethodElectronic.check</dt>\n",
       "\t\t<dd>1.13182722974239</dd>\n",
       "\t<dt>MonthlyCharges</dt>\n",
       "\t\t<dd>2.3053388186589</dd>\n",
       "\t<dt>tenure_year0.1.year</dt>\n",
       "\t\t<dd>2.07679045402136</dd>\n",
       "\t<dt>tenure_year1.2.years</dt>\n",
       "\t\t<dd>1.39670812316792</dd>\n",
       "</dl>\n"
      ],
      "text/latex": [
       "\\begin{description*}\n",
       "\\item[SeniorCitizen] 1.12200724360438\n",
       "\\item[Dependents] 1.06057613983197\n",
       "\\item[PhoneService] 1.84388621298\n",
       "\\item[MultipleLinesNo] 1.56700104420668\n",
       "\\item[InternetServiceDSL] 1.66600312239705\n",
       "\\item[OnlineBackupNo] 1.19380463849173\n",
       "\\item[DeviceProtectionNo] 1.22080226383074\n",
       "\\item[ContractMonth.to.month] 3.99341735054113\n",
       "\\item[ContractOne.year] 3.46394990874257\n",
       "\\item[PaperlessBilling] 1.11950635717536\n",
       "\\item[PaymentMethodElectronic.check] 1.13182722974239\n",
       "\\item[MonthlyCharges] 2.3053388186589\n",
       "\\item[tenure\\textbackslash{}\\_year0.1.year] 2.07679045402136\n",
       "\\item[tenure\\textbackslash{}\\_year1.2.years] 1.39670812316792\n",
       "\\end{description*}\n"
      ],
      "text/markdown": [
       "SeniorCitizen\n",
       ":   1.12200724360438Dependents\n",
       ":   1.06057613983197PhoneService\n",
       ":   1.84388621298MultipleLinesNo\n",
       ":   1.56700104420668InternetServiceDSL\n",
       ":   1.66600312239705OnlineBackupNo\n",
       ":   1.19380463849173DeviceProtectionNo\n",
       ":   1.22080226383074ContractMonth.to.month\n",
       ":   3.99341735054113ContractOne.year\n",
       ":   3.46394990874257PaperlessBilling\n",
       ":   1.11950635717536PaymentMethodElectronic.check\n",
       ":   1.13182722974239MonthlyCharges\n",
       ":   2.3053388186589tenure_year0.1.year\n",
       ":   2.07679045402136tenure_year1.2.years\n",
       ":   1.39670812316792\n",
       "\n"
      ],
      "text/plain": [
       "                SeniorCitizen                    Dependents \n",
       "                     1.122007                      1.060576 \n",
       "                 PhoneService               MultipleLinesNo \n",
       "                     1.843886                      1.567001 \n",
       "           InternetServiceDSL                OnlineBackupNo \n",
       "                     1.666003                      1.193805 \n",
       "           DeviceProtectionNo        ContractMonth.to.month \n",
       "                     1.220802                      3.993417 \n",
       "             ContractOne.year              PaperlessBilling \n",
       "                     3.463950                      1.119506 \n",
       "PaymentMethodElectronic.check                MonthlyCharges \n",
       "                     1.131827                      2.305339 \n",
       "          tenure_year0.1.year          tenure_year1.2.years \n",
       "                     2.076790                      1.396708 "
      ]
     },
     "metadata": {},
     "output_type": "display_data"
    }
   ],
   "source": [
    "model4 <- glm(formula = Churn ~  SeniorCitizen + Dependents + PhoneService + MultipleLinesNo + InternetServiceDSL + OnlineBackupNo +\n",
    "DeviceProtectionNo + ContractMonth.to.month + ContractOne.year + \n",
    "PaperlessBilling + PaymentMethodElectronic.check + MonthlyCharges + tenure_year0.1.year + tenure_year1.2.years,\n",
    "family = \"binomial\", data = train)\n",
    "\n",
    "summary(model4)\n",
    "vif(model4)"
   ]
  },
  {
   "cell_type": "markdown",
   "metadata": {},
   "source": [
    "Model4 looks good! It is used as my final model to predict churn on train and test set. "
   ]
  },
  {
   "cell_type": "markdown",
   "metadata": {},
   "source": [
    "### Cross Validation (Confusion Matrix & ROC)"
   ]
  },
  {
   "cell_type": "code",
   "execution_count": 33,
   "metadata": {},
   "outputs": [],
   "source": [
    "model_logit <- model4\n",
    "predict(model_logit, data = train, type = \"response\") -> train_prob\n",
    "predict(model_logit, newdata = test, type = \"response\") -> test_prob"
   ]
  },
  {
   "cell_type": "markdown",
   "metadata": {},
   "source": [
    "Set the threshold as 0.5 by default."
   ]
  },
  {
   "cell_type": "code",
   "execution_count": 34,
   "metadata": {},
   "outputs": [],
   "source": [
    "train_pred <- factor(ifelse(train_prob >= 0.5, \"Yes\", \"No\"))\n",
    "train_actual <- factor(ifelse(train$Churn == 1, \"Yes\", \"No\"))\n",
    "test_pred <- factor(ifelse(test_prob >= 0.5, \"Yes\", \"No\"))\n",
    "test_actual <- factor(ifelse(test$Churn == 1, \"Yes\", \"No\"))"
   ]
  },
  {
   "cell_type": "code",
   "execution_count": 35,
   "metadata": {},
   "outputs": [
    {
     "data": {
      "text/plain": [
       "Confusion Matrix and Statistics\n",
       "\n",
       "          Reference\n",
       "Prediction   No  Yes\n",
       "       No  3489  686\n",
       "       Yes  348  703\n",
       "                                          \n",
       "               Accuracy : 0.8021          \n",
       "                 95% CI : (0.7911, 0.8129)\n",
       "    No Information Rate : 0.7342          \n",
       "    P-Value [Acc > NIR] : < 2.2e-16       \n",
       "                                          \n",
       "                  Kappa : 0.4504          \n",
       "                                          \n",
       " Mcnemar's Test P-Value : < 2.2e-16       \n",
       "                                          \n",
       "            Sensitivity : 0.9093          \n",
       "            Specificity : 0.5061          \n",
       "         Pos Pred Value : 0.8357          \n",
       "         Neg Pred Value : 0.6689          \n",
       "             Prevalence : 0.7342          \n",
       "         Detection Rate : 0.6676          \n",
       "   Detection Prevalence : 0.7989          \n",
       "      Balanced Accuracy : 0.7077          \n",
       "                                          \n",
       "       'Positive' Class : No              \n",
       "                                          "
      ]
     },
     "metadata": {},
     "output_type": "display_data"
    },
    {
     "name": "stderr",
     "output_type": "stream",
     "text": [
      "Setting levels: control = 0, case = 1\n",
      "Setting direction: controls < cases\n"
     ]
    },
    {
     "data": {
      "text/plain": [
       "Confusion Matrix and Statistics\n",
       "\n",
       "          Reference\n",
       "Prediction   No  Yes\n",
       "       No  1186  248\n",
       "       Yes  140  232\n",
       "                                          \n",
       "               Accuracy : 0.7852          \n",
       "                 95% CI : (0.7655, 0.8039)\n",
       "    No Information Rate : 0.7342          \n",
       "    P-Value [Acc > NIR] : 3.182e-07       \n",
       "                                          \n",
       "                  Kappa : 0.407           \n",
       "                                          \n",
       " Mcnemar's Test P-Value : 5.569e-08       \n",
       "                                          \n",
       "            Sensitivity : 0.8944          \n",
       "            Specificity : 0.4833          \n",
       "         Pos Pred Value : 0.8271          \n",
       "         Neg Pred Value : 0.6237          \n",
       "             Prevalence : 0.7342          \n",
       "         Detection Rate : 0.6567          \n",
       "   Detection Prevalence : 0.7940          \n",
       "      Balanced Accuracy : 0.6889          \n",
       "                                          \n",
       "       'Positive' Class : No              \n",
       "                                          "
      ]
     },
     "metadata": {},
     "output_type": "display_data"
    },
    {
     "name": "stderr",
     "output_type": "stream",
     "text": [
      "Setting levels: control = 0, case = 1\n",
      "Setting direction: controls < cases\n"
     ]
    },
    {
     "data": {
      "image/png": "[encoded data removed]",
      "text/plain": [
       "plot without title"
      ]
     },
     "metadata": {},
     "output_type": "display_data"
    },
    {
     "data": {
      "image/png": "[encoded data removed]",
      "text/plain": [
       "plot without title"
      ]
     },
     "metadata": {},
     "output_type": "display_data"
    }
   ],
   "source": [
    "# For the Training Set:\n",
    "confusionMatrix(data = train_pred, reference = train_actual)\n",
    "roc <- roc(train$Churn, train_prob, plot= TRUE, print.auc=TRUE)\n",
    "\n",
    "# For the Test Set: \n",
    "confusionMatrix(data = test_pred, reference = test_actual)\n",
    "roc <- roc(test$Churn, test_prob, plot= TRUE, print.auc=TRUE)\n"
   ]
  },
  {
   "cell_type": "markdown",
   "metadata": {},
   "source": [
    "\n",
    "\n",
    "For the training set, the accuracy is 0.80 and the AUC is 0.85. For the test set, the accuracy is 0.79 and the AUC is 0.82.\n",
    "It's a good model because the accuracy and AUC do not have big difference between the training and test sets. \n",
    "But the Specificities for two sets are as low as 0.46. \n",
    "\n",
    "In real case, we can adjust the threshold based on the cost of TN, FN, FP or TP to reduce cost or loss. But here, I just tend \n",
    "to find the optimal threshold (or cutoff) point that maximises the specificity (TN rate) and sensitivity (TP rate).\n",
    "\n",
    "### Find the optimal cutoff and adjust the class of prediction"
   ]
  },
  {
   "cell_type": "code",
   "execution_count": 36,
   "metadata": {},
   "outputs": [],
   "source": [
    "pred <- prediction(train_prob, train_actual)\n",
    "perf <- performance(pred, \"spec\", \"sens\")\n",
    "\n",
    "cutoffs <- data.frame(cut=perf@alpha.values[[1]], specificity=perf@x.values[[1]], \n",
    "                      sensitivity= perf@y.values[[1]])"
   ]
  },
  {
   "cell_type": "code",
   "execution_count": 37,
   "metadata": {
    "scrolled": true
   },
   "outputs": [
    {
     "data": {
      "text/html": [
       "<table>\n",
       "<thead><tr><th></th><th scope=col>cut</th><th scope=col>specificity</th><th scope=col>sensitivity</th></tr></thead>\n",
       "<tbody>\n",
       "\t<tr><th scope=row>1898</th><td>0.3012029</td><td>0.7631389</td><td>0.7628355</td></tr>\n",
       "</tbody>\n",
       "</table>\n"
      ],
      "text/latex": [
       "\\begin{tabular}{r|lll}\n",
       "  & cut & specificity & sensitivity\\\\\n",
       "\\hline\n",
       "\t1898 & 0.3012029 & 0.7631389 & 0.7628355\\\\\n",
       "\\end{tabular}\n"
      ],
      "text/markdown": [
       "\n",
       "| <!--/--> | cut | specificity | sensitivity |\n",
       "|---|---|---|---|\n",
       "| 1898 | 0.3012029 | 0.7631389 | 0.7628355 |\n",
       "\n"
      ],
      "text/plain": [
       "     cut       specificity sensitivity\n",
       "1898 0.3012029 0.7631389   0.7628355  "
      ]
     },
     "metadata": {},
     "output_type": "display_data"
    }
   ],
   "source": [
    "opt_cutoff <- cutoffs[which.min(abs(cutoffs$specificity-cutoffs$sensitivity)),]\n",
    "opt_cutoff"
   ]
  },
  {
   "cell_type": "code",
   "execution_count": 38,
   "metadata": {},
   "outputs": [
    {
     "data": {
      "image/png": "[encoded data removed]",
      "text/plain": [
       "plot without title"
      ]
     },
     "metadata": {},
     "output_type": "display_data"
    }
   ],
   "source": [
    "ggplot(data = cutoffs) +\n",
    "  geom_line(aes(x = cut, y = specificity, color =\"red\"), size = 1.5)+\n",
    "  geom_line(aes(x = cut, y = sensitivity, color = \"blue\"), size = 1.5) +\n",
    "  labs(x = \"cutoff\", y =\"value\") +\n",
    "  scale_color_discrete(name = \"\", labels = c(\"Specificity\", \"Sensitivity\"))+\n",
    "  geom_vline(aes(xintercept = opt_cutoff$cut))+\n",
    "  geom_text(aes(x= 0.55, y= 0.75),label=\"opt_cutoff = 0.3\",hjust=1, size=4)"
   ]
  },
  {
   "cell_type": "markdown",
   "metadata": {},
   "source": [
    "The optimal cutoff is 0.3. So I use it as the threshold to predict churn on training and test sets.\n"
   ]
  },
  {
   "cell_type": "code",
   "execution_count": 39,
   "metadata": {},
   "outputs": [
    {
     "data": {
      "text/plain": [
       "Confusion Matrix and Statistics\n",
       "\n",
       "          Reference\n",
       "Prediction   No  Yes\n",
       "       No  2925  327\n",
       "       Yes  912 1062\n",
       "                                          \n",
       "               Accuracy : 0.7629          \n",
       "                 95% CI : (0.7511, 0.7744)\n",
       "    No Information Rate : 0.7342          \n",
       "    P-Value [Acc > NIR] : 1.091e-06       \n",
       "                                          \n",
       "                  Kappa : 0.4645          \n",
       "                                          \n",
       " Mcnemar's Test P-Value : < 2.2e-16       \n",
       "                                          \n",
       "            Sensitivity : 0.7623          \n",
       "            Specificity : 0.7646          \n",
       "         Pos Pred Value : 0.8994          \n",
       "         Neg Pred Value : 0.5380          \n",
       "             Prevalence : 0.7342          \n",
       "         Detection Rate : 0.5597          \n",
       "   Detection Prevalence : 0.6223          \n",
       "      Balanced Accuracy : 0.7634          \n",
       "                                          \n",
       "       'Positive' Class : No              \n",
       "                                          "
      ]
     },
     "metadata": {},
     "output_type": "display_data"
    },
    {
     "data": {
      "text/plain": [
       "Confusion Matrix and Statistics\n",
       "\n",
       "          Reference\n",
       "Prediction  No Yes\n",
       "       No  961 112\n",
       "       Yes 365 368\n",
       "                                          \n",
       "               Accuracy : 0.7359          \n",
       "                 95% CI : (0.7149, 0.7561)\n",
       "    No Information Rate : 0.7342          \n",
       "    P-Value [Acc > NIR] : 0.4486          \n",
       "                                          \n",
       "                  Kappa : 0.4207          \n",
       "                                          \n",
       " Mcnemar's Test P-Value : <2e-16          \n",
       "                                          \n",
       "            Sensitivity : 0.7247          \n",
       "            Specificity : 0.7667          \n",
       "         Pos Pred Value : 0.8956          \n",
       "         Neg Pred Value : 0.5020          \n",
       "             Prevalence : 0.7342          \n",
       "         Detection Rate : 0.5321          \n",
       "   Detection Prevalence : 0.5941          \n",
       "      Balanced Accuracy : 0.7457          \n",
       "                                          \n",
       "       'Positive' Class : No              \n",
       "                                          "
      ]
     },
     "metadata": {},
     "output_type": "display_data"
    }
   ],
   "source": [
    "# Prediction on training set with threshold = 0.3:\n",
    "train_pred_c <- factor(ifelse(train_prob >= 0.3, \"Yes\", \"No\"))\n",
    "confusionMatrix(data = train_pred_c, reference = train_actual)\n",
    "\n",
    "# Prediction on test set with threshold = 0.3:\n",
    "predict(model_logit, newdata = test, type = \"response\") -> test_prob\n",
    "test_pred_c <- factor(ifelse(test_prob >= 0.3, \"Yes\", \"No\"))\n",
    "confusionMatrix(data = test_pred_c, reference = test_actual)"
   ]
  },
  {
   "cell_type": "markdown",
   "metadata": {},
   "source": [
    "\n",
    "\n",
    "For the training set, the Accuracy is 0.76, and the Sensitivity and Specificity are both about 0.76.\n",
    "For the test set, the Accuracy is 0.74, and the Sensitivity and Specificity are 0.74 and 0.73 respectively.\n",
    "Overall, this model with adjusted cutoff works well. \n"
   ]
  },
  {
   "cell_type": "markdown",
   "metadata": {},
   "source": [
    "### Summary for Logistic Regression Model\n",
    "The final Logistic Regression Model (with threshold = 0.5) has Accuracy of 0.79 and the AUC is 0.82. Based on the P values \n",
    "for variables, PhoneService, InternetServiceDSL, OnlineBackup, Contract, PaperleslsBilling, PaymentMethodElectronic.check, \n",
    "MonthlyCharges, tenure in 0-1 year and 1-2 years have more significant influence on predicting churn.\n"
   ]
  },
  {
   "cell_type": "markdown",
   "metadata": {},
   "source": [
    "\n",
    "\n",
    "# Decision Tree\n",
    "### Data Preparation\n",
    "Decision tree models can handle categorical variables without one-hot encoding them, and one-hot encoding will degrade \n",
    "tree-model performance. Thus, I will re-prepare the data for decision tree and random forest models. I keep the \"telco\" data \n",
    "before I did logistic regression and change the charactor variables to factors. Here's the final dataset I use for training \n",
    "classification tree models."
   ]
  },
  {
   "cell_type": "code",
   "execution_count": 40,
   "metadata": {},
   "outputs": [
    {
     "name": "stdout",
     "output_type": "stream",
     "text": [
      "'data.frame':\t7032 obs. of  20 variables:\n",
      " $ gender          : Factor w/ 2 levels \"Female\",\"Male\": 1 2 2 2 1 1 2 1 1 2 ...\n",
      " $ SeniorCitizen   : int  0 0 0 0 0 0 0 0 0 0 ...\n",
      " $ Partner         : Factor w/ 2 levels \"No\",\"Yes\": 2 1 1 1 1 1 1 1 2 1 ...\n",
      " $ Dependents      : Factor w/ 2 levels \"No\",\"Yes\": 1 1 1 1 1 1 2 1 1 2 ...\n",
      " $ PhoneService    : Factor w/ 2 levels \"No\",\"Yes\": 1 2 2 1 2 2 2 1 2 2 ...\n",
      " $ MultipleLines   : Factor w/ 3 levels \"No\",\"No phone service\",..: 2 1 1 2 1 3 3 2 3 1 ...\n",
      " $ InternetService : Factor w/ 3 levels \"DSL\",\"Fiber optic\",..: 1 1 1 1 2 2 2 1 2 1 ...\n",
      " $ OnlineSecurity  : Factor w/ 3 levels \"No\",\"No internet service\",..: 1 3 3 3 1 1 1 3 1 3 ...\n",
      " $ OnlineBackup    : Factor w/ 3 levels \"No\",\"No internet service\",..: 3 1 3 1 1 1 3 1 1 3 ...\n",
      " $ DeviceProtection: Factor w/ 3 levels \"No\",\"No internet service\",..: 1 3 1 3 1 3 1 1 3 1 ...\n",
      " $ TechSupport     : Factor w/ 3 levels \"No\",\"No internet service\",..: 1 1 1 3 1 1 1 1 3 1 ...\n",
      " $ StreamingTV     : Factor w/ 3 levels \"No\",\"No internet service\",..: 1 1 1 1 1 3 3 1 3 1 ...\n",
      " $ StreamingMovies : Factor w/ 3 levels \"No\",\"No internet service\",..: 1 1 1 1 1 3 1 1 3 1 ...\n",
      " $ Contract        : Factor w/ 3 levels \"Month-to-month\",..: 1 2 1 2 1 1 1 1 1 2 ...\n",
      " $ PaperlessBilling: Factor w/ 2 levels \"No\",\"Yes\": 2 1 2 1 2 2 2 1 2 1 ...\n",
      " $ PaymentMethod   : Factor w/ 4 levels \"Bank transfer (automatic)\",..: 3 4 4 1 3 3 2 4 3 1 ...\n",
      " $ MonthlyCharges  : num  29.9 57 53.9 42.3 70.7 ...\n",
      " $ TotalCharges    : num  29.9 1889.5 108.2 1840.8 151.7 ...\n",
      " $ Churn           : Factor w/ 2 levels \"No\",\"Yes\": 1 1 2 1 2 2 1 1 2 1 ...\n",
      " $ tenure_year     : Factor w/ 6 levels \"0-1 year\",\"1-2 years\",..: 1 3 1 4 1 1 2 1 3 6 ...\n"
     ]
    }
   ],
   "source": [
    "telcotree <- telco\n",
    "telcotree$customerID <- NULL\n",
    "telcotree %>%\n",
    "  mutate_if(is.character, as.factor) -> telcotree\n",
    "str(telcotree)"
   ]
  },
  {
   "cell_type": "code",
   "execution_count": 75,
   "metadata": {},
   "outputs": [
    {
     "name": "stderr",
     "output_type": "stream",
     "text": [
      " 1. run of importance source...\n",
      " 2. run of importance source...\n",
      " 3. run of importance source...\n",
      " 4. run of importance source...\n",
      " 5. run of importance source...\n",
      " 6. run of importance source...\n",
      " 7. run of importance source...\n",
      " 8. run of importance source...\n",
      " 9. run of importance source...\n",
      " 10. run of importance source...\n",
      " 11. run of importance source...\n",
      "After 11 iterations, +38 secs: \n",
      " confirmed 15 attributes: Contract, DeviceProtection, InternetService, MonthlyCharges, MultipleLines and 10 more;\n",
      " still have 4 attributes left.\n",
      "\n",
      " 12. run of importance source...\n",
      " 13. run of importance source...\n",
      " 14. run of importance source...\n",
      " 15. run of importance source...\n",
      "After 15 iterations, +53 secs: \n",
      " confirmed 1 attribute: Partner;\n",
      " rejected 1 attribute: gender;\n",
      " still have 2 attributes left.\n",
      "\n",
      " 16. run of importance source...\n",
      " 17. run of importance source...\n",
      " 18. run of importance source...\n",
      " 19. run of importance source...\n",
      " 20. run of importance source...\n",
      " 21. run of importance source...\n",
      " 22. run of importance source...\n",
      " 23. run of importance source...\n",
      " 24. run of importance source...\n",
      " 25. run of importance source...\n",
      "After 25 iterations, +1.4 mins: \n",
      " confirmed 1 attribute: Dependents;\n",
      " still have 1 attribute left.\n",
      "\n",
      " 26. run of importance source...\n",
      " 27. run of importance source...\n",
      " 28. run of importance source...\n",
      " 29. run of importance source...\n",
      " 30. run of importance source...\n",
      " 31. run of importance source...\n",
      " 32. run of importance source...\n",
      " 33. run of importance source...\n",
      " 34. run of importance source...\n",
      " 35. run of importance source...\n",
      " 36. run of importance source...\n",
      " 37. run of importance source...\n",
      " 38. run of importance source...\n",
      " 39. run of importance source...\n",
      " 40. run of importance source...\n",
      " 41. run of importance source...\n",
      " 42. run of importance source...\n",
      " 43. run of importance source...\n",
      " 44. run of importance source...\n",
      " 45. run of importance source...\n",
      " 46. run of importance source...\n",
      " 47. run of importance source...\n",
      " 48. run of importance source...\n",
      " 49. run of importance source...\n",
      " 50. run of importance source...\n",
      " 51. run of importance source...\n",
      " 52. run of importance source...\n",
      " 53. run of importance source...\n",
      " 54. run of importance source...\n",
      " 55. run of importance source...\n",
      " 56. run of importance source...\n",
      " 57. run of importance source...\n",
      " 58. run of importance source...\n",
      " 59. run of importance source...\n",
      " 60. run of importance source...\n",
      " 61. run of importance source...\n",
      " 62. run of importance source...\n",
      " 63. run of importance source...\n",
      " 64. run of importance source...\n",
      " 65. run of importance source...\n",
      " 66. run of importance source...\n",
      " 67. run of importance source...\n",
      " 68. run of importance source...\n",
      " 69. run of importance source...\n",
      " 70. run of importance source...\n",
      " 71. run of importance source...\n",
      " 72. run of importance source...\n",
      " 73. run of importance source...\n",
      " 74. run of importance source...\n",
      " 75. run of importance source...\n",
      " 76. run of importance source...\n",
      " 77. run of importance source...\n",
      " 78. run of importance source...\n",
      " 79. run of importance source...\n",
      " 80. run of importance source...\n",
      " 81. run of importance source...\n",
      " 82. run of importance source...\n",
      " 83. run of importance source...\n",
      " 84. run of importance source...\n",
      " 85. run of importance source...\n",
      " 86. run of importance source...\n",
      " 87. run of importance source...\n",
      " 88. run of importance source...\n",
      " 89. run of importance source...\n",
      " 90. run of importance source...\n",
      " 91. run of importance source...\n",
      " 92. run of importance source...\n",
      " 93. run of importance source...\n",
      " 94. run of importance source...\n",
      " 95. run of importance source...\n",
      " 96. run of importance source...\n",
      " 97. run of importance source...\n",
      " 98. run of importance source...\n",
      " 99. run of importance source...\n"
     ]
    },
    {
     "name": "stdout",
     "output_type": "stream",
     "text": [
      "Boruta performed 99 iterations in 6.006375 mins.\n",
      " 17 attributes confirmed important: Contract, Dependents,\n",
      "DeviceProtection, InternetService, MonthlyCharges and 12 more;\n",
      " 1 attributes confirmed unimportant: gender;\n",
      " 1 tentative attributes left: PhoneService;\n"
     ]
    }
   ],
   "source": [
    "#set.seed(123)\n",
    "#boruta.train <- Boruta(Churn~., data = telcotree, doTrace = 2)\n",
    "#print(boruta.train)"
   ]
  },
  {
   "cell_type": "code",
   "execution_count": 76,
   "metadata": {},
   "outputs": [
    {
     "data": {
      "image/png": "[encoded data removed]",
      "text/plain": [
       "plot without title"
      ]
     },
     "metadata": {},
     "output_type": "display_data"
    }
   ],
   "source": [
    "# plot(boruta.train, xlab = \"\", xaxt = \"n\")\n",
    "#lz<-lapply(1:ncol(boruta.train$ImpHistory),function(i)\n",
    "#boruta.train$ImpHistory[is.finite(boruta.train$ImpHistory[,i]),i])\n",
    "#names(lz) <- colnames(boruta.train$ImpHistory)\n",
    "#Labels <- sort(sapply(lz,median))\n",
    "#axis(side = 1,las=2,labels = names(Labels),\n",
    "#at = 1:ncol(boruta.train$ImpHistory), cex.axis = 0.7)"
   ]
  },
  {
   "cell_type": "code",
   "execution_count": 41,
   "metadata": {},
   "outputs": [],
   "source": [
    "\n",
    "# Split the data into training and test sets.\n",
    "\n",
    "set.seed(818)\n",
    "tree <- sample(0:1, size= nrow(telcotree), prob = c(0.75,0.25), replace = TRUE)\n",
    "traintree <- telcotree[tree == 0, ]\n",
    "testtree <- telcotree[tree == 1, ]"
   ]
  },
  {
   "cell_type": "markdown",
   "metadata": {},
   "source": [
    "\n",
    "### Train Model1\n",
    "First of all, I use all variables to build the model_tree1. "
   ]
  },
  {
   "cell_type": "code",
   "execution_count": 42,
   "metadata": {},
   "outputs": [
    {
     "data": {
      "text/plain": [
       "n= 5226 \n",
       "\n",
       "node), split, n, loss, yval, (yprob)\n",
       "      * denotes terminal node\n",
       "\n",
       " 1) root 5226 1389 No (0.73421355 0.26578645)  \n",
       "   2) Contract=One year,Two year 2375  159 No (0.93305263 0.06694737) *\n",
       "   3) Contract=Month-to-month 2851 1230 No (0.56857243 0.43142757)  \n",
       "     6) InternetService=DSL,No 1296  363 No (0.71990741 0.28009259) *\n",
       "     7) InternetService=Fiber optic 1555  688 Yes (0.44244373 0.55755627)  \n",
       "      14) TotalCharges>=1556.25 730  297 No (0.59315068 0.40684932) *\n",
       "      15) TotalCharges< 1556.25 825  255 Yes (0.30909091 0.69090909) *"
      ]
     },
     "metadata": {},
     "output_type": "display_data"
    }
   ],
   "source": [
    "model_tree1 <- rpart(formula = Churn ~., data = traintree, \n",
    "                     method = \"class\", parms = list(split = \"gini\"))\n",
    "model_tree1"
   ]
  },
  {
   "cell_type": "markdown",
   "metadata": {},
   "source": [
    "* <b> Method </b> - One of \"anova\", \"poisson\", \"class\" or \"exp\". If method is missing then\n",
    "the routine tries to make an intelligent guess. \n",
    "*  If y is a survival object, then\n",
    "method = \"exp\" is assumed, \n",
    "* if y has 2 columns then method = \"poisson\"\n",
    "is assumed, \n",
    "* if y is a factor then method = \"class\" is assumed, \n",
    "* otherwise method = \"anova\" is assumed. \n",
    "\n",
    "* <b> Parms </b> -  The\n",
    "splitting index can be gini or information. The default priors are proportional\n",
    "to the data counts, the losses default to 1, and the split defaults to gini.\n"
   ]
  },
  {
   "cell_type": "code",
   "execution_count": 43,
   "metadata": {},
   "outputs": [],
   "source": [
    "### Cross Validation (Confusion Matrix and AUC) for modeltree1\n",
    "\n",
    "predict(model_tree1, data = traintree, type = \"class\") -> traintree_pred1\n",
    "predict(model_tree1, data = traintree, type = \"prob\") -> traintree_prob1\n",
    "predict(model_tree1, newdata= testtree, type = \"class\") -> testtree_pred1\n",
    "predict(model_tree1, newdata = testtree, type = \"prob\") -> testtree_prob1"
   ]
  },
  {
   "cell_type": "code",
   "execution_count": 44,
   "metadata": {},
   "outputs": [
    {
     "data": {
      "text/plain": [
       "Confusion Matrix and Statistics\n",
       "\n",
       "          Reference\n",
       "Prediction   No  Yes\n",
       "       No  3582  819\n",
       "       Yes  255  570\n",
       "                                          \n",
       "               Accuracy : 0.7945          \n",
       "                 95% CI : (0.7833, 0.8054)\n",
       "    No Information Rate : 0.7342          \n",
       "    P-Value [Acc > NIR] : < 2.2e-16       \n",
       "                                          \n",
       "                  Kappa : 0.3951          \n",
       "                                          \n",
       " Mcnemar's Test P-Value : < 2.2e-16       \n",
       "                                          \n",
       "            Sensitivity : 0.9335          \n",
       "            Specificity : 0.4104          \n",
       "         Pos Pred Value : 0.8139          \n",
       "         Neg Pred Value : 0.6909          \n",
       "             Prevalence : 0.7342          \n",
       "         Detection Rate : 0.6854          \n",
       "   Detection Prevalence : 0.8421          \n",
       "      Balanced Accuracy : 0.6720          \n",
       "                                          \n",
       "       'Positive' Class : No              \n",
       "                                          "
      ]
     },
     "metadata": {},
     "output_type": "display_data"
    },
    {
     "name": "stderr",
     "output_type": "stream",
     "text": [
      "Setting levels: control = 0, case = 1\n",
      "Setting direction: controls < cases\n"
     ]
    },
    {
     "data": {
      "image/png": "[encoded data removed]",
      "text/plain": [
       "plot without title"
      ]
     },
     "metadata": {},
     "output_type": "display_data"
    }
   ],
   "source": [
    "# For the Training Set\n",
    "\n",
    "confusionMatrix(data = traintree_pred1, reference = traintree$Churn)\n",
    "traintree_actual <- ifelse(traintree$Churn == \"Yes\", 1,0)\n",
    "roc <- roc(traintree_actual, traintree_prob1[,2], plot= TRUE, print.auc=TRUE)"
   ]
  },
  {
   "cell_type": "code",
   "execution_count": 45,
   "metadata": {},
   "outputs": [
    {
     "data": {
      "text/plain": [
       "Confusion Matrix and Statistics\n",
       "\n",
       "          Reference\n",
       "Prediction   No  Yes\n",
       "       No  1216  286\n",
       "       Yes  110  194\n",
       "                                          \n",
       "               Accuracy : 0.7807          \n",
       "                 95% CI : (0.7609, 0.7996)\n",
       "    No Information Rate : 0.7342          \n",
       "    P-Value [Acc > NIR] : 2.889e-06       \n",
       "                                          \n",
       "                  Kappa : 0.3638          \n",
       "                                          \n",
       " Mcnemar's Test P-Value : < 2.2e-16       \n",
       "                                          \n",
       "            Sensitivity : 0.9170          \n",
       "            Specificity : 0.4042          \n",
       "         Pos Pred Value : 0.8096          \n",
       "         Neg Pred Value : 0.6382          \n",
       "             Prevalence : 0.7342          \n",
       "         Detection Rate : 0.6733          \n",
       "   Detection Prevalence : 0.8317          \n",
       "      Balanced Accuracy : 0.6606          \n",
       "                                          \n",
       "       'Positive' Class : No              \n",
       "                                          "
      ]
     },
     "metadata": {},
     "output_type": "display_data"
    },
    {
     "name": "stderr",
     "output_type": "stream",
     "text": [
      "Setting levels: control = 0, case = 1\n",
      "Setting direction: controls < cases\n"
     ]
    },
    {
     "data": {
      "image/png": "[encoded data removed]",
      "text/plain": [
       "plot without title"
      ]
     },
     "metadata": {},
     "output_type": "display_data"
    }
   ],
   "source": [
    "\n",
    "# For the Test Set:\n",
    "\n",
    "confusionMatrix(data = testtree_pred1, reference = testtree$Churn)\n",
    "testtree_actual <- ifelse(testtree$Churn == \"Yes\", 1,0)\n",
    "roc <- roc(testtree_actual, testtree_prob1[,2], plot = TRUE, print.auc = TRUE)"
   ]
  },
  {
   "cell_type": "markdown",
   "metadata": {},
   "source": [
    "For the training set, the Accuracy is 0.79 and the AUC is 0.800. For the test set, the Accuracy is 0.78 and the AUC is 0.78.\n"
   ]
  },
  {
   "cell_type": "markdown",
   "metadata": {},
   "source": [
    "### Train Model2\n",
    "Remember that Totalcharges, MonthlyCharges and tenure are highly correlated, which may effect the performance of the \n",
    "decision tree models. So I remove the TotalCharges column to train the second model.\n"
   ]
  },
  {
   "cell_type": "code",
   "execution_count": 46,
   "metadata": {},
   "outputs": [],
   "source": [
    "\n",
    "model_tree2 <- rpart(formula = Churn ~ gender + SeniorCitizen + Partner + Dependents + PhoneService + \n",
    "                       MultipleLines + InternetService + OnlineSecurity + TechSupport +\n",
    "                       OnlineBackup + DeviceProtection + StreamingTV + StreamingMovies + \n",
    "                       Contract + PaperlessBilling + tenure_year +\n",
    "                       PaymentMethod + MonthlyCharges, data = traintree, \n",
    "                       method = \"class\", parms = list(split = \"gini\"))"
   ]
  },
  {
   "cell_type": "code",
   "execution_count": 57,
   "metadata": {},
   "outputs": [
    {
     "data": {
      "image/png": "[encoded data removed]",
      "text/plain": [
       "plot without title"
      ]
     },
     "metadata": {},
     "output_type": "display_data"
    }
   ],
   "source": [
    "rpart.plot(\n",
    "    model_tree2,\n",
    "    type = 4,\n",
    "    extra = 2,\n",
    "    under = TRUE,\n",
    "    fallen.leaves = F\n",
    ")"
   ]
  },
  {
   "cell_type": "markdown",
   "metadata": {},
   "source": [
    "* Type of plot. Five possibilities:\n",
    "\n",
    "0 The default. Draw a split label at each split and a node label at each leaf.\n",
    "\n",
    "1 Label all nodes, not just leaves. Similar to text.rpart's\n",
    "\n",
    "* extra\n",
    "Display extra information at the nodes. Possible values:\n",
    "0 No extra information (the default).\n",
    "\n",
    "1 Display the number of observations that fall in the node (per class for class objects;\n",
    "\n",
    "* under\n",
    "Applies only if extra > 0. Default FALSE, meaning put the extra text in the box. Use TRUE to put the text under the box."
   ]
  },
  {
   "cell_type": "code",
   "execution_count": 47,
   "metadata": {},
   "outputs": [
    {
     "data": {
      "text/plain": [
       "Confusion Matrix and Statistics\n",
       "\n",
       "          Reference\n",
       "Prediction   No  Yes\n",
       "       No  3507  726\n",
       "       Yes  330  663\n",
       "                                          \n",
       "               Accuracy : 0.7979          \n",
       "                 95% CI : (0.7868, 0.8087)\n",
       "    No Information Rate : 0.7342          \n",
       "    P-Value [Acc > NIR] : < 2.2e-16       \n",
       "                                          \n",
       "                  Kappa : 0.4305          \n",
       "                                          \n",
       " Mcnemar's Test P-Value : < 2.2e-16       \n",
       "                                          \n",
       "            Sensitivity : 0.9140          \n",
       "            Specificity : 0.4773          \n",
       "         Pos Pred Value : 0.8285          \n",
       "         Neg Pred Value : 0.6677          \n",
       "             Prevalence : 0.7342          \n",
       "         Detection Rate : 0.6711          \n",
       "   Detection Prevalence : 0.8100          \n",
       "      Balanced Accuracy : 0.6957          \n",
       "                                          \n",
       "       'Positive' Class : No              \n",
       "                                          "
      ]
     },
     "metadata": {},
     "output_type": "display_data"
    },
    {
     "name": "stderr",
     "output_type": "stream",
     "text": [
      "Setting levels: control = 0, case = 1\n",
      "Setting direction: controls < cases\n"
     ]
    },
    {
     "data": {
      "text/plain": [
       "Confusion Matrix and Statistics\n",
       "\n",
       "          Reference\n",
       "Prediction   No  Yes\n",
       "       No  1194  260\n",
       "       Yes  132  220\n",
       "                                          \n",
       "               Accuracy : 0.7829          \n",
       "                 95% CI : (0.7632, 0.8018)\n",
       "    No Information Rate : 0.7342          \n",
       "    P-Value [Acc > NIR] : 9.833e-07       \n",
       "                                          \n",
       "                  Kappa : 0.3921          \n",
       "                                          \n",
       " Mcnemar's Test P-Value : 1.413e-10       \n",
       "                                          \n",
       "            Sensitivity : 0.9005          \n",
       "            Specificity : 0.4583          \n",
       "         Pos Pred Value : 0.8212          \n",
       "         Neg Pred Value : 0.6250          \n",
       "             Prevalence : 0.7342          \n",
       "         Detection Rate : 0.6611          \n",
       "   Detection Prevalence : 0.8051          \n",
       "      Balanced Accuracy : 0.6794          \n",
       "                                          \n",
       "       'Positive' Class : No              \n",
       "                                          "
      ]
     },
     "metadata": {},
     "output_type": "display_data"
    },
    {
     "name": "stderr",
     "output_type": "stream",
     "text": [
      "Setting levels: control = 0, case = 1\n",
      "Setting direction: controls < cases\n"
     ]
    },
    {
     "data": {
      "image/png": "[encoded data removed]",
      "text/plain": [
       "plot without title"
      ]
     },
     "metadata": {},
     "output_type": "display_data"
    },
    {
     "data": {
      "image/png": "[encoded data removed]",
      "text/plain": [
       "plot without title"
      ]
     },
     "metadata": {},
     "output_type": "display_data"
    }
   ],
   "source": [
    "\n",
    "### Cross Validation for modeltree2\n",
    "\n",
    "predict(model_tree2, data = traintree, type = \"class\") -> traintree_pred2\n",
    "predict(model_tree2, data = traintree, type = \"prob\") -> traintree_prob2\n",
    "predict(model_tree2, newdata= testtree, type = \"class\") -> testtree_pred2\n",
    "predict(model_tree2, newdata = testtree, type = \"prob\") -> testtree_prob2\n",
    "\n",
    "# For the Training Set:\n",
    "\n",
    "confusionMatrix(data = traintree_pred2, reference = traintree$Churn)\n",
    "traintree_actual <- ifelse(traintree$Churn == \"Yes\", 1,0)\n",
    "roc <- roc(traintree_actual, traintree_prob2[,2], plot= TRUE, print.auc=TRUE)\n",
    "\n",
    "# For the Test Set:\n",
    "\n",
    "testtree_actual <- ifelse(testtree$Churn == \"Yes\", 1,0)\n",
    "confusionMatrix(data = testtree_pred2, reference = testtree$Churn)\n",
    "roc <- roc(testtree_actual, testtree_prob2[,2], plot = TRUE, print.auc = TRUE)"
   ]
  },
  {
   "cell_type": "markdown",
   "metadata": {},
   "source": [
    "\n",
    "\n",
    "For the training set, the Accuracy is 0.80 and the AUC is 0.80. For the test set, the Accuracy is 0.78 and the AUC is 0.78.\n",
    "Compared to the performance of the first model, the performance of the second model is just a little bit better. So I will \n",
    "use model 2 as the final classification tree model. There is still a problem that the Specificity is too low. \n",
    "But since I don't have the real conditions about costs for this case, I don't do cutoff optimization here for tree models.\n",
    "\n",
    "\n",
    "\n",
    "### Summary for Decision Tree Model\n",
    "The final decision tree model has Accuracy of 0.78 and AUC of 0.78 for the test set. It does not perform as good as the logistic \n",
    "regression model."
   ]
  },
  {
   "cell_type": "markdown",
   "metadata": {},
   "source": [
    "\n",
    "# Random Forest\n",
    "\n",
    "### Data Preparation\n",
    "I use the same data prepared for Classification Tree models."
   ]
  },
  {
   "cell_type": "code",
   "execution_count": 58,
   "metadata": {},
   "outputs": [
    {
     "name": "stdout",
     "output_type": "stream",
     "text": [
      "\n",
      "Call:\n",
      " randomForest(formula = Churn ~ ., data = traintree) \n",
      "               Type of random forest: classification\n",
      "                     Number of trees: 500\n",
      "No. of variables tried at each split: 4\n",
      "\n",
      "        OOB estimate of  error rate: 20.44%\n",
      "Confusion matrix:\n",
      "      No Yes class.error\n",
      "No  3454 383  0.09981757\n",
      "Yes  685 704  0.49316055\n"
     ]
    }
   ],
   "source": [
    "### Train Model\n",
    "\n",
    "set.seed(802)\n",
    "modelrf1 <- randomForest(formula = Churn ~., data = traintree)\n",
    "print(modelrf1)"
   ]
  },
  {
   "cell_type": "code",
   "execution_count": 59,
   "metadata": {},
   "outputs": [],
   "source": [
    "### Cross Validation for modelrf1\n",
    "\n",
    "predict(modelrf1, traintree, type = \"class\") -> trainrf_pred\n",
    "predict(modelrf1, traintree, type = \"prob\") -> trainrf_prob\n",
    "predict(modelrf1, newdata = testtree, type = \"class\") -> testrf_pred\n",
    "predict(modelrf1, newdata = testtree, type = \"prob\") -> testrf_prob"
   ]
  },
  {
   "cell_type": "code",
   "execution_count": 60,
   "metadata": {},
   "outputs": [
    {
     "data": {
      "text/plain": [
       "Confusion Matrix and Statistics\n",
       "\n",
       "          Reference\n",
       "Prediction   No  Yes\n",
       "       No  3797   87\n",
       "       Yes   40 1302\n",
       "                                          \n",
       "               Accuracy : 0.9757          \n",
       "                 95% CI : (0.9712, 0.9797)\n",
       "    No Information Rate : 0.7342          \n",
       "    P-Value [Acc > NIR] : < 2.2e-16       \n",
       "                                          \n",
       "                  Kappa : 0.9371          \n",
       "                                          \n",
       " Mcnemar's Test P-Value : 4.468e-05       \n",
       "                                          \n",
       "            Sensitivity : 0.9896          \n",
       "            Specificity : 0.9374          \n",
       "         Pos Pred Value : 0.9776          \n",
       "         Neg Pred Value : 0.9702          \n",
       "             Prevalence : 0.7342          \n",
       "         Detection Rate : 0.7266          \n",
       "   Detection Prevalence : 0.7432          \n",
       "      Balanced Accuracy : 0.9635          \n",
       "                                          \n",
       "       'Positive' Class : No              \n",
       "                                          "
      ]
     },
     "metadata": {},
     "output_type": "display_data"
    },
    {
     "name": "stderr",
     "output_type": "stream",
     "text": [
      "Setting levels: control = 0, case = 1\n",
      "Setting direction: controls < cases\n"
     ]
    },
    {
     "data": {
      "image/png": "[encoded data removed]",
      "text/plain": [
       "plot without title"
      ]
     },
     "metadata": {},
     "output_type": "display_data"
    }
   ],
   "source": [
    "# For the Training Set: \n",
    "\n",
    "confusionMatrix(data = trainrf_pred, reference = traintree$Churn)\n",
    "trainrf_actual <- ifelse(traintree$Churn == \"Yes\", 1,0)\n",
    "roc <- roc(trainrf_actual, trainrf_prob[,2], plot= TRUE, print.auc=TRUE)"
   ]
  },
  {
   "cell_type": "code",
   "execution_count": 61,
   "metadata": {},
   "outputs": [
    {
     "data": {
      "text/plain": [
       "Confusion Matrix and Statistics\n",
       "\n",
       "          Reference\n",
       "Prediction   No  Yes\n",
       "       No  1177  236\n",
       "       Yes  149  244\n",
       "                                          \n",
       "               Accuracy : 0.7868          \n",
       "                 95% CI : (0.7672, 0.8055)\n",
       "    No Information Rate : 0.7342          \n",
       "    P-Value [Acc > NIR] : 1.320e-07       \n",
       "                                          \n",
       "                  Kappa : 0.4203          \n",
       "                                          \n",
       " Mcnemar's Test P-Value : 1.171e-05       \n",
       "                                          \n",
       "            Sensitivity : 0.8876          \n",
       "            Specificity : 0.5083          \n",
       "         Pos Pred Value : 0.8330          \n",
       "         Neg Pred Value : 0.6209          \n",
       "             Prevalence : 0.7342          \n",
       "         Detection Rate : 0.6517          \n",
       "   Detection Prevalence : 0.7824          \n",
       "      Balanced Accuracy : 0.6980          \n",
       "                                          \n",
       "       'Positive' Class : No              \n",
       "                                          "
      ]
     },
     "metadata": {},
     "output_type": "display_data"
    },
    {
     "name": "stderr",
     "output_type": "stream",
     "text": [
      "Setting levels: control = 0, case = 1\n",
      "Setting direction: controls < cases\n"
     ]
    },
    {
     "data": {
      "image/png": "[encoded data removed]",
      "text/plain": [
       "plot without title"
      ]
     },
     "metadata": {},
     "output_type": "display_data"
    }
   ],
   "source": [
    "# For the Test Set:\n",
    "\n",
    "confusionMatrix(data = testrf_pred, reference = testtree$Churn)\n",
    "testrf_actual <- ifelse(testtree$Churn == \"Yes\", 1,0)\n",
    "roc <- roc(testrf_actual, testrf_prob[,2], plot = TRUE, print.auc = TRUE)"
   ]
  },
  {
   "cell_type": "markdown",
   "metadata": {},
   "source": [
    "For the training set, the Accuracy is 0.97 and the AUC is almost 1. For the test set, the Accuracy is 0.79 and the AUC is 0.82.\n"
   ]
  },
  {
   "cell_type": "markdown",
   "metadata": {},
   "source": [
    "### Tuning \n"
   ]
  },
  {
   "cell_type": "code",
   "execution_count": 66,
   "metadata": {},
   "outputs": [
    {
     "name": "stdout",
     "output_type": "stream",
     "text": [
      "mtry = 4  OOB error = 20.46% \n",
      "Searching left ...\n",
      "mtry = 2 \tOOB error = 20.02% \n",
      "0.02151543 0.05 \n",
      "Searching right ...\n",
      "mtry = 8 \tOOB error = 20.8% \n",
      "-0.01683817 0.05 \n",
      "\n",
      "Call:\n",
      " randomForest(x = x, y = y, mtry = res[which.min(res[, 2]), 1]) \n",
      "               Type of random forest: classification\n",
      "                     Number of trees: 500\n",
      "No. of variables tried at each split: 2\n",
      "\n",
      "        OOB estimate of  error rate: 19.84%\n",
      "Confusion matrix:\n",
      "      No Yes class.error\n",
      "No  3478 359  0.09356268\n",
      "Yes  678 711  0.48812095\n"
     ]
    },
    {
     "data": {
      "image/png": "[encoded data removed]",
      "text/plain": [
       "plot without title"
      ]
     },
     "metadata": {},
     "output_type": "display_data"
    }
   ],
   "source": [
    "\n",
    "#### Tuning mtry with tuneRF\n",
    "\n",
    "set.seed(818)\n",
    "modelrf2 <- tuneRF(x = subset(traintree, select = -Churn), y = traintree$Churn, ntreeTry = 500, doBest = TRUE)\n",
    "print(modelrf2)\n",
    "\n",
    "# mtry - number of predictors sampled for spliting at each node.\n",
    "# ntree - number of trees grown."
   ]
  },
  {
   "cell_type": "markdown",
   "metadata": {},
   "source": [
    "When mtry = 2, OOB decreases from 20.11% to 19.67%\n"
   ]
  },
  {
   "cell_type": "code",
   "execution_count": 65,
   "metadata": {},
   "outputs": [],
   "source": [
    "\n",
    "#### Grid Search based on OOB error\n",
    "\n",
    "# I first establish a list of possible values for mtry, nodesize and sampsize.\n",
    "\n",
    "mtry <- seq(2, ncol(traintree) * 0.8, 2)\n",
    "nodesize <- seq(3, 8, 2)\n",
    "sampsize <- nrow(traintree) * c(0.7, 0.8)\n",
    "hyper_grid <- expand.grid(mtry = mtry, nodesize = nodesize, sampsize = sampsize)"
   ]
  },
  {
   "cell_type": "code",
   "execution_count": 67,
   "metadata": {},
   "outputs": [
    {
     "name": "stdout",
     "output_type": "stream",
     "text": [
      "   mtry nodesize sampsize\n",
      "17    2        7   3658.2\n"
     ]
    }
   ],
   "source": [
    "\n",
    "# Then, I create a loop to find the combination with the optimal oob err. \n",
    "\n",
    "oob_err <- c()\n",
    "for (i in 1:nrow(hyper_grid)) {\n",
    "  model <- randomForest(formula = Churn ~ ., \n",
    "                        data = traintree,\n",
    "                        mtry = hyper_grid$mtry[i],\n",
    "                        nodesize = hyper_grid$nodesize[i],\n",
    "                        sampsize = hyper_grid$sampsize[i])\n",
    "  oob_err[i] <- model$err.rate[nrow(model$err.rate), \"OOB\"]\n",
    "  }\n",
    "\n",
    "opt_i <- which.min(oob_err)\n",
    "print(hyper_grid[opt_i,])"
   ]
  },
  {
   "cell_type": "markdown",
   "metadata": {},
   "source": [
    "The optimal hyperparameters are mtry = 2, nodesize = 7, sampsize = 3658.2\n"
   ]
  },
  {
   "cell_type": "code",
   "execution_count": 68,
   "metadata": {},
   "outputs": [
    {
     "name": "stdout",
     "output_type": "stream",
     "text": [
      "\n",
      "Call:\n",
      " randomForest(formula = Churn ~ ., data = traintree, mtry = 2,      nodesize = 7, sampsize = 3658.2) \n",
      "               Type of random forest: classification\n",
      "                     Number of trees: 500\n",
      "No. of variables tried at each split: 2\n",
      "\n",
      "        OOB estimate of  error rate: 19.79%\n",
      "Confusion matrix:\n",
      "      No Yes class.error\n",
      "No  3491 346  0.09017462\n",
      "Yes  688 701  0.49532037\n"
     ]
    }
   ],
   "source": [
    "### Train model 2 with optimal hyperparameters.\n",
    "\n",
    "set.seed(802)\n",
    "modelrf3 <- randomForest(formula = Churn ~., data = traintree, mtry = 2, nodesize = 7, sampsize = 3658.2)\n",
    "print(modelrf3)"
   ]
  },
  {
   "cell_type": "markdown",
   "metadata": {},
   "source": [
    "\n",
    "OOB of modelrf3 decreases a little bit to 19.79% with the optimal combination. The OOB of modelrf2 is 19.67%. \n",
    "So I will use modelrf2 as the final random forest model."
   ]
  },
  {
   "cell_type": "code",
   "execution_count": 69,
   "metadata": {},
   "outputs": [],
   "source": [
    "### Cross Validation for modelrf2\n",
    "\n",
    "predict(modelrf2, traintree, type = \"class\") -> trainrf_pred2\n",
    "predict(modelrf2, traintree, type = \"prob\") -> trainrf_prob2\n",
    "predict(modelrf2, newdata = testtree, type = \"class\") -> testrf_pred2\n",
    "predict(modelrf2, newdata = testtree, type = \"prob\") -> testrf_prob2"
   ]
  },
  {
   "cell_type": "code",
   "execution_count": 70,
   "metadata": {
    "scrolled": false
   },
   "outputs": [
    {
     "data": {
      "text/plain": [
       "Confusion Matrix and Statistics\n",
       "\n",
       "          Reference\n",
       "Prediction   No  Yes\n",
       "       No  3623  425\n",
       "       Yes  214  964\n",
       "                                          \n",
       "               Accuracy : 0.8777          \n",
       "                 95% CI : (0.8685, 0.8865)\n",
       "    No Information Rate : 0.7342          \n",
       "    P-Value [Acc > NIR] : < 2.2e-16       \n",
       "                                          \n",
       "                  Kappa : 0.6708          \n",
       "                                          \n",
       " Mcnemar's Test P-Value : < 2.2e-16       \n",
       "                                          \n",
       "            Sensitivity : 0.9442          \n",
       "            Specificity : 0.6940          \n",
       "         Pos Pred Value : 0.8950          \n",
       "         Neg Pred Value : 0.8183          \n",
       "             Prevalence : 0.7342          \n",
       "         Detection Rate : 0.6933          \n",
       "   Detection Prevalence : 0.7746          \n",
       "      Balanced Accuracy : 0.8191          \n",
       "                                          \n",
       "       'Positive' Class : No              \n",
       "                                          "
      ]
     },
     "metadata": {},
     "output_type": "display_data"
    },
    {
     "name": "stderr",
     "output_type": "stream",
     "text": [
      "Setting levels: control = 0, case = 1\n",
      "Setting direction: controls < cases\n"
     ]
    },
    {
     "data": {
      "text/plain": [
       "Confusion Matrix and Statistics\n",
       "\n",
       "          Reference\n",
       "Prediction   No  Yes\n",
       "       No  1183  232\n",
       "       Yes  143  248\n",
       "                                          \n",
       "               Accuracy : 0.7924          \n",
       "                 95% CI : (0.7729, 0.8109)\n",
       "    No Information Rate : 0.7342          \n",
       "    P-Value [Acc > NIR] : 5.707e-09       \n",
       "                                          \n",
       "                  Kappa : 0.4345          \n",
       "                                          \n",
       " Mcnemar's Test P-Value : 5.512e-06       \n",
       "                                          \n",
       "            Sensitivity : 0.8922          \n",
       "            Specificity : 0.5167          \n",
       "         Pos Pred Value : 0.8360          \n",
       "         Neg Pred Value : 0.6343          \n",
       "             Prevalence : 0.7342          \n",
       "         Detection Rate : 0.6550          \n",
       "   Detection Prevalence : 0.7835          \n",
       "      Balanced Accuracy : 0.7044          \n",
       "                                          \n",
       "       'Positive' Class : No              \n",
       "                                          "
      ]
     },
     "metadata": {},
     "output_type": "display_data"
    },
    {
     "name": "stderr",
     "output_type": "stream",
     "text": [
      "Setting levels: control = 0, case = 1\n",
      "Setting direction: controls < cases\n"
     ]
    },
    {
     "data": {
      "image/png": "[encoded data removed]",
      "text/plain": [
       "plot without title"
      ]
     },
     "metadata": {},
     "output_type": "display_data"
    },
    {
     "data": {
      "image/png": "[encoded data removed]",
      "text/plain": [
       "plot without title"
      ]
     },
     "metadata": {},
     "output_type": "display_data"
    }
   ],
   "source": [
    "# For the Training Set: \n",
    "\n",
    "confusionMatrix(data = trainrf_pred2, reference = traintree$Churn)\n",
    "trainrf_actual <- ifelse(traintree$Churn == \"Yes\", 1,0)\n",
    "roc <- roc(trainrf_actual, trainrf_prob2[,2], plot= TRUE, print.auc=TRUE)\n",
    "\n",
    "\n",
    "# For the Test Set:\n",
    "\n",
    "confusionMatrix(data = testrf_pred2, reference = testtree$Churn)\n",
    "testrf_actual <- ifelse(testtree$Churn == \"Yes\", 1,0)\n",
    "roc <- roc(testrf_actual, testrf_prob2[,2], plot = TRUE, print.auc = TRUE)"
   ]
  },
  {
   "cell_type": "markdown",
   "metadata": {},
   "source": [
    "\n",
    "For the training set, the Accuracy is 0.88 and AUC is 0.95. For the test set, the Accuracy is 0.79 and the AUC is 0.82. \n",
    "Compared to the performance of the first model, which Accuracy = 0.97, AUC = 0.995 for the training set, and Accuracy = 0.79,\n",
    "AUC = 0.82 for the test set. The second model works a little better."
   ]
  },
  {
   "cell_type": "code",
   "execution_count": 71,
   "metadata": {},
   "outputs": [
    {
     "data": {
      "image/png": "[encoded data removed]",
      "text/plain": [
       "Plot with title \"modelrf2\""
      ]
     },
     "metadata": {},
     "output_type": "display_data"
    }
   ],
   "source": [
    "### Variable Importance\n",
    "\n",
    "varImpPlot(modelrf2,type=2)"
   ]
  },
  {
   "cell_type": "markdown",
   "metadata": {},
   "source": [
    "\n",
    "### Summary for Random Forest Model\n",
    "The final random forest model has the Accuracy of 0.79 and AUC of 0.82 for the test set.   \n",
    "According to the Variable Importance plot, TotalCharges, MonthlyCharges, Tenure_year and Contract are the top 4 most important \n",
    "variables to predict churn. The PhoneSerivce, Gender, SeniorCitizen, Dependents, Partner, MultipleLines, PaperlessBilling, StreamingTV,\n",
    "Movies, DeviceProtection and OnlineBackup have very small effect on Churn.\n"
   ]
  },
  {
   "cell_type": "code",
   "execution_count": 73,
   "metadata": {},
   "outputs": [
    {
     "data": {
      "image/png": "[encoded data removed]",
      "text/plain": [
       "Plot with title \"Test Set ROC Curves for 3 Models\""
      ]
     },
     "metadata": {},
     "output_type": "display_data"
    }
   ],
   "source": [
    "# Comparison of ROC and AUC for Logistic Regression, Decision Tree and Random Forest models\n",
    "\n",
    "preds_list <- list(test_prob, testtree_prob2[,2], testrf_prob2[,2])\n",
    "m <- length(preds_list)\n",
    "actuals_list <- rep(list(testtree$Churn), m)\n",
    "\n",
    "pred <- prediction(preds_list, actuals_list)\n",
    "rocs <- performance(pred, \"tpr\", \"fpr\")\n",
    "plot(rocs, col = as.list(1:m), main = \"Test Set ROC Curves for 3 Models\")\n",
    "legend(x = \"bottomright\",\n",
    "       legend = c(\"Logistic Regression\", \"Decision Tree\", \"Random Froest\"),\n",
    "       fill = 1:m)"
   ]
  },
  {
   "cell_type": "markdown",
   "metadata": {},
   "source": [
    "\n",
    "\n",
    "The logistic regression model and random forest model work better than the decision tree model. The Accuracies are 0.78 for \n",
    "Logistic Regression, 0.78 for Decision Tree and 0.79 for Random Forest, with 0.5 as threshold.\n",
    "\n",
    "Regarding the variance importance, the logistic regression model and the random forest model have little differences.\n",
    "They both have MonthlyCharges, tenure, Contract and PaymentMethod as important predictors and have gender, StreamingTV, Movies and \n",
    "Partner as unimportant predictors. However, in the logistic regression model, PaperlessBilling, PhoneService and OnlineBackup \n",
    "show significant influence on the churn, while in the randomforest model, they have very small predicting power. "
   ]
  }
 ],
 "metadata": {
  "kernelspec": {
   "display_name": "R",
   "language": "R",
   "name": "ir"
  },
  "language_info": {
   "codemirror_mode": "r",
   "file_extension": ".r",
   "mimetype": "text/x-r-source",
   "name": "R",
   "pygments_lexer": "r",
   "version": "3.6.1"
  }
 },
 "nbformat": 4,
 "nbformat_minor": 4
}
